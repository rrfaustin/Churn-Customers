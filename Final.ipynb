{
 "cells": [
  {
   "cell_type": "markdown",
   "metadata": {},
   "source": [
    "# Intro:"
   ]
  },
  {
   "cell_type": "markdown",
   "metadata": {},
   "source": [
    "**Final Project:**\n",
    "\n",
    "    Telecome Operator Interconnect would like to forecast their churn customers. If the customer is a churn customer they\n",
    "    would like to offer promotional codes and special plan options in order to retain.\n",
    "    \n",
    "    services provided:\n",
    "    -Landline communication. The telephone can be connected to several lines simultaneously.\n",
    "    -Internet. The network can be set up via a telephone line (DSL, digital subscriber line) or through a fiber optic cable.\n",
    "       \n",
    "       \n",
    "    Some other services the company provides include:\n",
    "        -Internet security: antivirus software (DeviceProtection) and a malicious website blocker (OnlineSecurity)\n",
    "        -A dedicated technical support line (TechSupport)\n",
    "        -Cloud file storage and data backup (OnlineBackup)\n",
    "        -TV streaming (StreamingTV) and a movie directory (StreamingMovies)\n",
    "    \n",
    "    The clients can choose either a monthly payment or sign a 1- or 2-year contract.\n",
    "    They can use various payment methods and receive an electronic invoice after a transaction.\n",
    "    \n",
    " **Data Description:**\n",
    " \n",
    "     4 files were obtain from different sources to provide customer data\n",
    "         -contract.csv — contract information Valid as of February 1, 2020\n",
    "         -personal.csv — the client's personal data\n",
    "         -internet.csv — information about Internet services\n",
    "         -phone.csv — information about telephone services\n",
    "        In each file, the column customerID contains a unique code assigned to each client.\n",
    "\n",
    "**Goal:** Develop a model to predict user churn"
   ]
  },
  {
   "cell_type": "markdown",
   "metadata": {},
   "source": [
    "# Data Preprocessing"
   ]
  },
  {
   "cell_type": "code",
   "execution_count": 1,
   "metadata": {},
   "outputs": [],
   "source": [
    "#import libraries that I may need for project\n",
    "import pandas as pd\n",
    "import numpy as np\n",
    "from datetime import datetime\n",
    "from statsmodels.tsa.seasonal import seasonal_decompose\n",
    "\n",
    "#visualization libraries\n",
    "import plotly.express as px\n",
    "import matplotlib.pyplot as plt\n",
    "import seaborn as sns\n",
    "from plotly.subplots import make_subplots\n",
    "\n",
    "#sklearn\n",
    "from sklearn.metrics import roc_auc_score, f1_score, accuracy_score\n",
    "from sklearn.metrics import confusion_matrix, classification_report, precision_recall_curve, accuracy_score, ConfusionMatrixDisplay, auc, roc_curve\n",
    "from sklearn.linear_model import LogisticRegression, RidgeClassifier\n",
    "from sklearn.ensemble import RandomForestClassifier, ExtraTreesClassifier\n",
    "from sklearn.model_selection import train_test_split, RandomizedSearchCV, TimeSeriesSplit, cross_val_score, GridSearchCV\n",
    "from sklearn.utils import shuffle, resample\n",
    "from sklearn.tree import DecisionTreeClassifier\n",
    "from sklearn.dummy import DummyClassifier\n",
    "from sklearn.preprocessing import LabelEncoder, StandardScaler, MinMaxScaler\n",
    "from sklearn.pipeline import Pipeline\n",
    "from sklearn.model_selection import KFold, StratifiedKFold, RepeatedStratifiedKFold\n",
    "from sklearn.neighbors import KNeighborsClassifier\n",
    "from catboost import CatBoostClassifier\n",
    "\n",
    "\n",
    "\n",
    "#gradient boosting\n",
    "import lightgbm as lgb\n",
    "import xgboost as xgb\n",
    "from xgboost import XGBClassifier\n",
    "from lightgbm import LGBMClassifier\n",
    "\n",
    "#turn off warnings\n",
    "import warnings\n",
    "warnings.filterwarnings('ignore')"
   ]
  },
  {
   "cell_type": "code",
   "execution_count": 2,
   "metadata": {},
   "outputs": [],
   "source": [
    "#load data\n",
    "df_contract = pd.read_csv(\"contract.csv\")\n",
    "df_personal = pd.read_csv(\"personal.csv\")\n",
    "df_internet = pd.read_csv(\"internet.csv\")\n",
    "df_phone = pd.read_csv(\"phone.csv\")"
   ]
  },
  {
   "cell_type": "code",
   "execution_count": 3,
   "metadata": {},
   "outputs": [
    {
     "data": {
      "text/plain": [
       "2014-02-01    366\n",
       "2019-09-01    237\n",
       "2019-11-01    237\n",
       "2019-10-01    237\n",
       "2020-01-01    233\n",
       "             ... \n",
       "2020-02-01     11\n",
       "2014-01-01      7\n",
       "2013-10-01      3\n",
       "2013-12-01      3\n",
       "2013-11-01      2\n",
       "Name: BeginDate, Length: 77, dtype: int64"
      ]
     },
     "execution_count": 3,
     "metadata": {},
     "output_type": "execute_result"
    }
   ],
   "source": [
    "df_contract['BeginDate'].value_counts().sort_values(ascending=False)"
   ]
  },
  {
   "cell_type": "code",
   "execution_count": 4,
   "metadata": {},
   "outputs": [
    {
     "name": "stdout",
     "output_type": "stream",
     "text": [
      "<class 'pandas.core.frame.DataFrame'>\n",
      "RangeIndex: 5517 entries, 0 to 5516\n",
      "Data columns (total 8 columns):\n",
      " #   Column            Non-Null Count  Dtype \n",
      "---  ------            --------------  ----- \n",
      " 0   customerID        5517 non-null   object\n",
      " 1   InternetService   5517 non-null   object\n",
      " 2   OnlineSecurity    5517 non-null   object\n",
      " 3   OnlineBackup      5517 non-null   object\n",
      " 4   DeviceProtection  5517 non-null   object\n",
      " 5   TechSupport       5517 non-null   object\n",
      " 6   StreamingTV       5517 non-null   object\n",
      " 7   StreamingMovies   5517 non-null   object\n",
      "dtypes: object(8)\n",
      "memory usage: 344.9+ KB\n"
     ]
    }
   ],
   "source": [
    "df_internet.info()"
   ]
  },
  {
   "cell_type": "code",
   "execution_count": 5,
   "metadata": {},
   "outputs": [
    {
     "data": {
      "text/html": [
       "<div>\n",
       "<style scoped>\n",
       "    .dataframe tbody tr th:only-of-type {\n",
       "        vertical-align: middle;\n",
       "    }\n",
       "\n",
       "    .dataframe tbody tr th {\n",
       "        vertical-align: top;\n",
       "    }\n",
       "\n",
       "    .dataframe thead th {\n",
       "        text-align: right;\n",
       "    }\n",
       "</style>\n",
       "<table border=\"1\" class=\"dataframe\">\n",
       "  <thead>\n",
       "    <tr style=\"text-align: right;\">\n",
       "      <th></th>\n",
       "      <th>customerID</th>\n",
       "      <th>InternetService</th>\n",
       "      <th>OnlineSecurity</th>\n",
       "      <th>OnlineBackup</th>\n",
       "      <th>DeviceProtection</th>\n",
       "      <th>TechSupport</th>\n",
       "      <th>StreamingTV</th>\n",
       "      <th>StreamingMovies</th>\n",
       "    </tr>\n",
       "  </thead>\n",
       "  <tbody>\n",
       "    <tr>\n",
       "      <th>0</th>\n",
       "      <td>7590-VHVEG</td>\n",
       "      <td>DSL</td>\n",
       "      <td>No</td>\n",
       "      <td>Yes</td>\n",
       "      <td>No</td>\n",
       "      <td>No</td>\n",
       "      <td>No</td>\n",
       "      <td>No</td>\n",
       "    </tr>\n",
       "    <tr>\n",
       "      <th>1</th>\n",
       "      <td>5575-GNVDE</td>\n",
       "      <td>DSL</td>\n",
       "      <td>Yes</td>\n",
       "      <td>No</td>\n",
       "      <td>Yes</td>\n",
       "      <td>No</td>\n",
       "      <td>No</td>\n",
       "      <td>No</td>\n",
       "    </tr>\n",
       "    <tr>\n",
       "      <th>2</th>\n",
       "      <td>3668-QPYBK</td>\n",
       "      <td>DSL</td>\n",
       "      <td>Yes</td>\n",
       "      <td>Yes</td>\n",
       "      <td>No</td>\n",
       "      <td>No</td>\n",
       "      <td>No</td>\n",
       "      <td>No</td>\n",
       "    </tr>\n",
       "    <tr>\n",
       "      <th>3</th>\n",
       "      <td>7795-CFOCW</td>\n",
       "      <td>DSL</td>\n",
       "      <td>Yes</td>\n",
       "      <td>No</td>\n",
       "      <td>Yes</td>\n",
       "      <td>Yes</td>\n",
       "      <td>No</td>\n",
       "      <td>No</td>\n",
       "    </tr>\n",
       "    <tr>\n",
       "      <th>4</th>\n",
       "      <td>9237-HQITU</td>\n",
       "      <td>Fiber optic</td>\n",
       "      <td>No</td>\n",
       "      <td>No</td>\n",
       "      <td>No</td>\n",
       "      <td>No</td>\n",
       "      <td>No</td>\n",
       "      <td>No</td>\n",
       "    </tr>\n",
       "  </tbody>\n",
       "</table>\n",
       "</div>"
      ],
      "text/plain": [
       "   customerID InternetService OnlineSecurity OnlineBackup DeviceProtection  \\\n",
       "0  7590-VHVEG             DSL             No          Yes               No   \n",
       "1  5575-GNVDE             DSL            Yes           No              Yes   \n",
       "2  3668-QPYBK             DSL            Yes          Yes               No   \n",
       "3  7795-CFOCW             DSL            Yes           No              Yes   \n",
       "4  9237-HQITU     Fiber optic             No           No               No   \n",
       "\n",
       "  TechSupport StreamingTV StreamingMovies  \n",
       "0          No          No              No  \n",
       "1          No          No              No  \n",
       "2          No          No              No  \n",
       "3         Yes          No              No  \n",
       "4          No          No              No  "
      ]
     },
     "execution_count": 5,
     "metadata": {},
     "output_type": "execute_result"
    }
   ],
   "source": [
    "df_internet.head()"
   ]
  },
  {
   "cell_type": "code",
   "execution_count": 6,
   "metadata": {},
   "outputs": [
    {
     "data": {
      "text/plain": [
       "5600-KTXFM    1\n",
       "2737-YNGYW    1\n",
       "5899-MQZZL    1\n",
       "9526-BIHHD    1\n",
       "6137-NICCO    1\n",
       "             ..\n",
       "1661-CZBAU    1\n",
       "3617-XLSGQ    1\n",
       "7277-OZCGZ    1\n",
       "6278-FEPBZ    1\n",
       "0958-YHXGP    1\n",
       "Name: customerID, Length: 7043, dtype: int64"
      ]
     },
     "execution_count": 6,
     "metadata": {},
     "output_type": "execute_result"
    }
   ],
   "source": [
    "df_personal['customerID'].value_counts()"
   ]
  },
  {
   "cell_type": "code",
   "execution_count": 7,
   "metadata": {},
   "outputs": [
    {
     "data": {
      "text/html": [
       "<div>\n",
       "<style scoped>\n",
       "    .dataframe tbody tr th:only-of-type {\n",
       "        vertical-align: middle;\n",
       "    }\n",
       "\n",
       "    .dataframe tbody tr th {\n",
       "        vertical-align: top;\n",
       "    }\n",
       "\n",
       "    .dataframe thead th {\n",
       "        text-align: right;\n",
       "    }\n",
       "</style>\n",
       "<table border=\"1\" class=\"dataframe\">\n",
       "  <thead>\n",
       "    <tr style=\"text-align: right;\">\n",
       "      <th></th>\n",
       "      <th>customerID</th>\n",
       "      <th>gender</th>\n",
       "      <th>SeniorCitizen</th>\n",
       "      <th>Partner</th>\n",
       "      <th>Dependents</th>\n",
       "    </tr>\n",
       "  </thead>\n",
       "  <tbody>\n",
       "    <tr>\n",
       "      <th>0</th>\n",
       "      <td>7590-VHVEG</td>\n",
       "      <td>Female</td>\n",
       "      <td>0</td>\n",
       "      <td>Yes</td>\n",
       "      <td>No</td>\n",
       "    </tr>\n",
       "    <tr>\n",
       "      <th>1</th>\n",
       "      <td>5575-GNVDE</td>\n",
       "      <td>Male</td>\n",
       "      <td>0</td>\n",
       "      <td>No</td>\n",
       "      <td>No</td>\n",
       "    </tr>\n",
       "    <tr>\n",
       "      <th>2</th>\n",
       "      <td>3668-QPYBK</td>\n",
       "      <td>Male</td>\n",
       "      <td>0</td>\n",
       "      <td>No</td>\n",
       "      <td>No</td>\n",
       "    </tr>\n",
       "    <tr>\n",
       "      <th>3</th>\n",
       "      <td>7795-CFOCW</td>\n",
       "      <td>Male</td>\n",
       "      <td>0</td>\n",
       "      <td>No</td>\n",
       "      <td>No</td>\n",
       "    </tr>\n",
       "    <tr>\n",
       "      <th>4</th>\n",
       "      <td>9237-HQITU</td>\n",
       "      <td>Female</td>\n",
       "      <td>0</td>\n",
       "      <td>No</td>\n",
       "      <td>No</td>\n",
       "    </tr>\n",
       "  </tbody>\n",
       "</table>\n",
       "</div>"
      ],
      "text/plain": [
       "   customerID  gender  SeniorCitizen Partner Dependents\n",
       "0  7590-VHVEG  Female              0     Yes         No\n",
       "1  5575-GNVDE    Male              0      No         No\n",
       "2  3668-QPYBK    Male              0      No         No\n",
       "3  7795-CFOCW    Male              0      No         No\n",
       "4  9237-HQITU  Female              0      No         No"
      ]
     },
     "execution_count": 7,
     "metadata": {},
     "output_type": "execute_result"
    }
   ],
   "source": [
    "df_personal.head()"
   ]
  },
  {
   "cell_type": "code",
   "execution_count": 8,
   "metadata": {},
   "outputs": [
    {
     "name": "stdout",
     "output_type": "stream",
     "text": [
      "<class 'pandas.core.frame.DataFrame'>\n",
      "RangeIndex: 6361 entries, 0 to 6360\n",
      "Data columns (total 2 columns):\n",
      " #   Column         Non-Null Count  Dtype \n",
      "---  ------         --------------  ----- \n",
      " 0   customerID     6361 non-null   object\n",
      " 1   MultipleLines  6361 non-null   object\n",
      "dtypes: object(2)\n",
      "memory usage: 99.5+ KB\n"
     ]
    }
   ],
   "source": [
    "df_phone.info()"
   ]
  },
  {
   "cell_type": "code",
   "execution_count": 9,
   "metadata": {},
   "outputs": [
    {
     "data": {
      "text/html": [
       "<div>\n",
       "<style scoped>\n",
       "    .dataframe tbody tr th:only-of-type {\n",
       "        vertical-align: middle;\n",
       "    }\n",
       "\n",
       "    .dataframe tbody tr th {\n",
       "        vertical-align: top;\n",
       "    }\n",
       "\n",
       "    .dataframe thead th {\n",
       "        text-align: right;\n",
       "    }\n",
       "</style>\n",
       "<table border=\"1\" class=\"dataframe\">\n",
       "  <thead>\n",
       "    <tr style=\"text-align: right;\">\n",
       "      <th></th>\n",
       "      <th>customerID</th>\n",
       "      <th>MultipleLines</th>\n",
       "    </tr>\n",
       "  </thead>\n",
       "  <tbody>\n",
       "    <tr>\n",
       "      <th>0</th>\n",
       "      <td>5575-GNVDE</td>\n",
       "      <td>No</td>\n",
       "    </tr>\n",
       "    <tr>\n",
       "      <th>1</th>\n",
       "      <td>3668-QPYBK</td>\n",
       "      <td>No</td>\n",
       "    </tr>\n",
       "    <tr>\n",
       "      <th>2</th>\n",
       "      <td>9237-HQITU</td>\n",
       "      <td>No</td>\n",
       "    </tr>\n",
       "    <tr>\n",
       "      <th>3</th>\n",
       "      <td>9305-CDSKC</td>\n",
       "      <td>Yes</td>\n",
       "    </tr>\n",
       "    <tr>\n",
       "      <th>4</th>\n",
       "      <td>1452-KIOVK</td>\n",
       "      <td>Yes</td>\n",
       "    </tr>\n",
       "  </tbody>\n",
       "</table>\n",
       "</div>"
      ],
      "text/plain": [
       "   customerID MultipleLines\n",
       "0  5575-GNVDE            No\n",
       "1  3668-QPYBK            No\n",
       "2  9237-HQITU            No\n",
       "3  9305-CDSKC           Yes\n",
       "4  1452-KIOVK           Yes"
      ]
     },
     "execution_count": 9,
     "metadata": {},
     "output_type": "execute_result"
    }
   ],
   "source": [
    "df_phone.head()"
   ]
  },
  {
   "cell_type": "code",
   "execution_count": 10,
   "metadata": {
    "scrolled": true
   },
   "outputs": [
    {
     "name": "stdout",
     "output_type": "stream",
     "text": [
      "<class 'pandas.core.frame.DataFrame'>\n",
      "Int64Index: 7043 entries, 0 to 7042\n",
      "Data columns (total 20 columns):\n",
      " #   Column            Non-Null Count  Dtype  \n",
      "---  ------            --------------  -----  \n",
      " 0   customerID        7043 non-null   object \n",
      " 1   BeginDate         7043 non-null   object \n",
      " 2   EndDate           7043 non-null   object \n",
      " 3   Type              7043 non-null   object \n",
      " 4   PaperlessBilling  7043 non-null   object \n",
      " 5   PaymentMethod     7043 non-null   object \n",
      " 6   MonthlyCharges    7043 non-null   float64\n",
      " 7   TotalCharges      7043 non-null   object \n",
      " 8   gender            7043 non-null   object \n",
      " 9   SeniorCitizen     7043 non-null   int64  \n",
      " 10  Partner           7043 non-null   object \n",
      " 11  Dependents        7043 non-null   object \n",
      " 12  InternetService   5517 non-null   object \n",
      " 13  OnlineSecurity    5517 non-null   object \n",
      " 14  OnlineBackup      5517 non-null   object \n",
      " 15  DeviceProtection  5517 non-null   object \n",
      " 16  TechSupport       5517 non-null   object \n",
      " 17  StreamingTV       5517 non-null   object \n",
      " 18  StreamingMovies   5517 non-null   object \n",
      " 19  MultipleLines     6361 non-null   object \n",
      "dtypes: float64(1), int64(1), object(18)\n",
      "memory usage: 1.1+ MB\n"
     ]
    }
   ],
   "source": [
    "#merge all dataframes together\n",
    "\n",
    "#merge contract and personal\n",
    "df = df_contract.merge(df_personal, on= 'customerID')\n",
    "\n",
    "#internet merge\n",
    "df= df.merge(df_internet, how='outer', on= 'customerID')\n",
    "\n",
    "#phone merge\n",
    "df = df.merge(df_phone, how='outer', on = 'customerID')\n",
    "\n",
    "df.info()"
   ]
  },
  {
   "cell_type": "markdown",
   "metadata": {},
   "source": [
    "After merging all of the dataframes together, it left the new dataframe with missing values for the specific services that were not selected by certain members...\n",
    "For the moment, I will fill the missing values with \"not signed up\"."
   ]
  },
  {
   "cell_type": "code",
   "execution_count": 11,
   "metadata": {
    "scrolled": true
   },
   "outputs": [
    {
     "name": "stdout",
     "output_type": "stream",
     "text": [
      "<class 'pandas.core.frame.DataFrame'>\n",
      "Int64Index: 7043 entries, 0 to 7042\n",
      "Data columns (total 20 columns):\n",
      " #   Column            Non-Null Count  Dtype  \n",
      "---  ------            --------------  -----  \n",
      " 0   customerID        7043 non-null   object \n",
      " 1   BeginDate         7043 non-null   object \n",
      " 2   EndDate           7043 non-null   object \n",
      " 3   Type              7043 non-null   object \n",
      " 4   PaperlessBilling  7043 non-null   object \n",
      " 5   PaymentMethod     7043 non-null   object \n",
      " 6   MonthlyCharges    7043 non-null   float64\n",
      " 7   TotalCharges      7043 non-null   object \n",
      " 8   gender            7043 non-null   object \n",
      " 9   SeniorCitizen     7043 non-null   int64  \n",
      " 10  Partner           7043 non-null   object \n",
      " 11  Dependents        7043 non-null   object \n",
      " 12  InternetService   7043 non-null   object \n",
      " 13  OnlineSecurity    7043 non-null   object \n",
      " 14  OnlineBackup      7043 non-null   object \n",
      " 15  DeviceProtection  7043 non-null   object \n",
      " 16  TechSupport       7043 non-null   object \n",
      " 17  StreamingTV       7043 non-null   object \n",
      " 18  StreamingMovies   7043 non-null   object \n",
      " 19  MultipleLines     7043 non-null   object \n",
      "dtypes: float64(1), int64(1), object(18)\n",
      "memory usage: 1.1+ MB\n"
     ]
    }
   ],
   "source": [
    "#fill missing rows post-merge\n",
    "df = df.fillna('Not signed up for other services')\n",
    "\n",
    "df.info()"
   ]
  },
  {
   "cell_type": "code",
   "execution_count": 12,
   "metadata": {
    "scrolled": true
   },
   "outputs": [
    {
     "name": "stdout",
     "output_type": "stream",
     "text": [
      "<class 'pandas.core.frame.DataFrame'>\n",
      "Int64Index: 7043 entries, 0 to 7042\n",
      "Data columns (total 20 columns):\n",
      " #   Column             Non-Null Count  Dtype  \n",
      "---  ------             --------------  -----  \n",
      " 0   customer_id        7043 non-null   object \n",
      " 1   begin_date         7043 non-null   object \n",
      " 2   end_date           7043 non-null   object \n",
      " 3   type               7043 non-null   object \n",
      " 4   paperless_billing  7043 non-null   object \n",
      " 5   payment_method     7043 non-null   object \n",
      " 6   monthly_charges    7043 non-null   float64\n",
      " 7   total_charges      7043 non-null   object \n",
      " 8   gender             7043 non-null   object \n",
      " 9   senior_citizen     7043 non-null   int64  \n",
      " 10  partner            7043 non-null   object \n",
      " 11  dependents         7043 non-null   object \n",
      " 12  internet_service   7043 non-null   object \n",
      " 13  online_security    7043 non-null   object \n",
      " 14  online_backup      7043 non-null   object \n",
      " 15  device_protection  7043 non-null   object \n",
      " 16  tech_support       7043 non-null   object \n",
      " 17  streaming_tv       7043 non-null   object \n",
      " 18  streaming_movies   7043 non-null   object \n",
      " 19  multiple_lines     7043 non-null   object \n",
      "dtypes: float64(1), int64(1), object(18)\n",
      "memory usage: 1.1+ MB\n"
     ]
    }
   ],
   "source": [
    "#rename columns\n",
    "df = df.rename(columns = {'customerID':'customer_id', 'BeginDate':'begin_date', 'EndDate':'end_date', 'Type':'type', 'PaperlessBilling':'paperless_billing', 'PaymentMethod':'payment_method', 'MonthlyCharges':'monthly_charges', 'TotalCharges':'total_charges', 'SeniorCitizen':'senior_citizen', 'Partner':'partner', 'Dependents':'dependents', 'InternetService':'internet_service', 'OnlineSecurity':'online_security', 'OnlineBackup':'online_backup', 'DeviceProtection':'device_protection', 'TechSupport':'tech_support', 'StreamingTV':'streaming_tv', 'StreamingMovies':'streaming_movies', 'MultipleLines':'multiple_lines'})\n",
    "\n",
    "df.info()"
   ]
  },
  {
   "cell_type": "code",
   "execution_count": 13,
   "metadata": {
    "scrolled": true
   },
   "outputs": [
    {
     "data": {
      "text/plain": [
       "11"
      ]
     },
     "metadata": {},
     "output_type": "display_data"
    },
    {
     "name": "stdout",
     "output_type": "stream",
     "text": [
      "<class 'pandas.core.frame.DataFrame'>\n",
      "Int64Index: 7032 entries, 0 to 7042\n",
      "Data columns (total 20 columns):\n",
      " #   Column             Non-Null Count  Dtype         \n",
      "---  ------             --------------  -----         \n",
      " 0   customer_id        7032 non-null   object        \n",
      " 1   begin_date         7032 non-null   datetime64[ns]\n",
      " 2   end_date           7032 non-null   object        \n",
      " 3   type               7032 non-null   object        \n",
      " 4   paperless_billing  7032 non-null   object        \n",
      " 5   payment_method     7032 non-null   object        \n",
      " 6   monthly_charges    7032 non-null   float64       \n",
      " 7   total_charges      7032 non-null   float64       \n",
      " 8   gender             7032 non-null   object        \n",
      " 9   senior_citizen     7032 non-null   int64         \n",
      " 10  partner            7032 non-null   object        \n",
      " 11  dependents         7032 non-null   object        \n",
      " 12  internet_service   7032 non-null   object        \n",
      " 13  online_security    7032 non-null   object        \n",
      " 14  online_backup      7032 non-null   object        \n",
      " 15  device_protection  7032 non-null   object        \n",
      " 16  tech_support       7032 non-null   object        \n",
      " 17  streaming_tv       7032 non-null   object        \n",
      " 18  streaming_movies   7032 non-null   object        \n",
      " 19  multiple_lines     7032 non-null   object        \n",
      "dtypes: datetime64[ns](1), float64(2), int64(1), object(16)\n",
      "memory usage: 1.1+ MB\n"
     ]
    }
   ],
   "source": [
    "#change column data types\n",
    "\n",
    "#convert 'begin_date' column to datetime \n",
    "df['begin_date'] = pd.to_datetime(df['begin_date'])\n",
    "\n",
    "#convert 'total_charges' column to float64 \n",
    "display((df['total_charges'] == ' ').sum()) #found 11 rows in the column with empty values. \n",
    "df['total_charges'].replace(\" \", np.nan, inplace=True) #replace empty values with NaN to prepare to drop these rows\n",
    "df = df.dropna(subset=['total_charges']) #drop 11 rows with NaN values in 'total_charges' column to convert to float64. 11 rows is much smaller than 5% of total data so its ok to drop these.\n",
    "df['total_charges'] = df['total_charges'].astype('float64') #convert column to float64 \n",
    "\n",
    "df.info()"
   ]
  },
  {
   "cell_type": "code",
   "execution_count": 14,
   "metadata": {},
   "outputs": [],
   "source": [
    "#dropping the customer Id column because it will not needed for the model.\n",
    "df = df.drop('customer_id', axis=1)"
   ]
  },
  {
   "cell_type": "code",
   "execution_count": 15,
   "metadata": {
    "scrolled": true
   },
   "outputs": [
    {
     "data": {
      "text/html": [
       "<div>\n",
       "<style scoped>\n",
       "    .dataframe tbody tr th:only-of-type {\n",
       "        vertical-align: middle;\n",
       "    }\n",
       "\n",
       "    .dataframe tbody tr th {\n",
       "        vertical-align: top;\n",
       "    }\n",
       "\n",
       "    .dataframe thead th {\n",
       "        text-align: right;\n",
       "    }\n",
       "</style>\n",
       "<table border=\"1\" class=\"dataframe\">\n",
       "  <thead>\n",
       "    <tr style=\"text-align: right;\">\n",
       "      <th></th>\n",
       "      <th>begin_date</th>\n",
       "      <th>end_date</th>\n",
       "      <th>type</th>\n",
       "      <th>paperless_billing</th>\n",
       "      <th>payment_method</th>\n",
       "      <th>monthly_charges</th>\n",
       "      <th>total_charges</th>\n",
       "      <th>gender</th>\n",
       "      <th>senior_citizen</th>\n",
       "      <th>partner</th>\n",
       "      <th>dependents</th>\n",
       "      <th>internet_service</th>\n",
       "      <th>online_security</th>\n",
       "      <th>online_backup</th>\n",
       "      <th>device_protection</th>\n",
       "      <th>tech_support</th>\n",
       "      <th>streaming_tv</th>\n",
       "      <th>streaming_movies</th>\n",
       "      <th>multiple_lines</th>\n",
       "    </tr>\n",
       "  </thead>\n",
       "  <tbody>\n",
       "    <tr>\n",
       "      <th>0</th>\n",
       "      <td>2020-01-01</td>\n",
       "      <td>No</td>\n",
       "      <td>Month-to-month</td>\n",
       "      <td>Yes</td>\n",
       "      <td>Electronic check</td>\n",
       "      <td>29.85</td>\n",
       "      <td>29.85</td>\n",
       "      <td>Female</td>\n",
       "      <td>0</td>\n",
       "      <td>Yes</td>\n",
       "      <td>No</td>\n",
       "      <td>DSL</td>\n",
       "      <td>No</td>\n",
       "      <td>Yes</td>\n",
       "      <td>No</td>\n",
       "      <td>No</td>\n",
       "      <td>No</td>\n",
       "      <td>No</td>\n",
       "      <td>Not signed up for other services</td>\n",
       "    </tr>\n",
       "    <tr>\n",
       "      <th>1</th>\n",
       "      <td>2017-04-01</td>\n",
       "      <td>No</td>\n",
       "      <td>One year</td>\n",
       "      <td>No</td>\n",
       "      <td>Mailed check</td>\n",
       "      <td>56.95</td>\n",
       "      <td>1889.50</td>\n",
       "      <td>Male</td>\n",
       "      <td>0</td>\n",
       "      <td>No</td>\n",
       "      <td>No</td>\n",
       "      <td>DSL</td>\n",
       "      <td>Yes</td>\n",
       "      <td>No</td>\n",
       "      <td>Yes</td>\n",
       "      <td>No</td>\n",
       "      <td>No</td>\n",
       "      <td>No</td>\n",
       "      <td>No</td>\n",
       "    </tr>\n",
       "    <tr>\n",
       "      <th>2</th>\n",
       "      <td>2019-10-01</td>\n",
       "      <td>2019-12-01 00:00:00</td>\n",
       "      <td>Month-to-month</td>\n",
       "      <td>Yes</td>\n",
       "      <td>Mailed check</td>\n",
       "      <td>53.85</td>\n",
       "      <td>108.15</td>\n",
       "      <td>Male</td>\n",
       "      <td>0</td>\n",
       "      <td>No</td>\n",
       "      <td>No</td>\n",
       "      <td>DSL</td>\n",
       "      <td>Yes</td>\n",
       "      <td>Yes</td>\n",
       "      <td>No</td>\n",
       "      <td>No</td>\n",
       "      <td>No</td>\n",
       "      <td>No</td>\n",
       "      <td>No</td>\n",
       "    </tr>\n",
       "    <tr>\n",
       "      <th>3</th>\n",
       "      <td>2016-05-01</td>\n",
       "      <td>No</td>\n",
       "      <td>One year</td>\n",
       "      <td>No</td>\n",
       "      <td>Bank transfer (automatic)</td>\n",
       "      <td>42.30</td>\n",
       "      <td>1840.75</td>\n",
       "      <td>Male</td>\n",
       "      <td>0</td>\n",
       "      <td>No</td>\n",
       "      <td>No</td>\n",
       "      <td>DSL</td>\n",
       "      <td>Yes</td>\n",
       "      <td>No</td>\n",
       "      <td>Yes</td>\n",
       "      <td>Yes</td>\n",
       "      <td>No</td>\n",
       "      <td>No</td>\n",
       "      <td>Not signed up for other services</td>\n",
       "    </tr>\n",
       "    <tr>\n",
       "      <th>4</th>\n",
       "      <td>2019-09-01</td>\n",
       "      <td>2019-11-01 00:00:00</td>\n",
       "      <td>Month-to-month</td>\n",
       "      <td>Yes</td>\n",
       "      <td>Electronic check</td>\n",
       "      <td>70.70</td>\n",
       "      <td>151.65</td>\n",
       "      <td>Female</td>\n",
       "      <td>0</td>\n",
       "      <td>No</td>\n",
       "      <td>No</td>\n",
       "      <td>Fiber optic</td>\n",
       "      <td>No</td>\n",
       "      <td>No</td>\n",
       "      <td>No</td>\n",
       "      <td>No</td>\n",
       "      <td>No</td>\n",
       "      <td>No</td>\n",
       "      <td>No</td>\n",
       "    </tr>\n",
       "    <tr>\n",
       "      <th>5</th>\n",
       "      <td>2019-03-01</td>\n",
       "      <td>2019-11-01 00:00:00</td>\n",
       "      <td>Month-to-month</td>\n",
       "      <td>Yes</td>\n",
       "      <td>Electronic check</td>\n",
       "      <td>99.65</td>\n",
       "      <td>820.50</td>\n",
       "      <td>Female</td>\n",
       "      <td>0</td>\n",
       "      <td>No</td>\n",
       "      <td>No</td>\n",
       "      <td>Fiber optic</td>\n",
       "      <td>No</td>\n",
       "      <td>No</td>\n",
       "      <td>Yes</td>\n",
       "      <td>No</td>\n",
       "      <td>Yes</td>\n",
       "      <td>Yes</td>\n",
       "      <td>Yes</td>\n",
       "    </tr>\n",
       "    <tr>\n",
       "      <th>6</th>\n",
       "      <td>2018-04-01</td>\n",
       "      <td>No</td>\n",
       "      <td>Month-to-month</td>\n",
       "      <td>Yes</td>\n",
       "      <td>Credit card (automatic)</td>\n",
       "      <td>89.10</td>\n",
       "      <td>1949.40</td>\n",
       "      <td>Male</td>\n",
       "      <td>0</td>\n",
       "      <td>No</td>\n",
       "      <td>Yes</td>\n",
       "      <td>Fiber optic</td>\n",
       "      <td>No</td>\n",
       "      <td>Yes</td>\n",
       "      <td>No</td>\n",
       "      <td>No</td>\n",
       "      <td>Yes</td>\n",
       "      <td>No</td>\n",
       "      <td>Yes</td>\n",
       "    </tr>\n",
       "    <tr>\n",
       "      <th>7</th>\n",
       "      <td>2019-04-01</td>\n",
       "      <td>No</td>\n",
       "      <td>Month-to-month</td>\n",
       "      <td>No</td>\n",
       "      <td>Mailed check</td>\n",
       "      <td>29.75</td>\n",
       "      <td>301.90</td>\n",
       "      <td>Female</td>\n",
       "      <td>0</td>\n",
       "      <td>No</td>\n",
       "      <td>No</td>\n",
       "      <td>DSL</td>\n",
       "      <td>Yes</td>\n",
       "      <td>No</td>\n",
       "      <td>No</td>\n",
       "      <td>No</td>\n",
       "      <td>No</td>\n",
       "      <td>No</td>\n",
       "      <td>Not signed up for other services</td>\n",
       "    </tr>\n",
       "    <tr>\n",
       "      <th>8</th>\n",
       "      <td>2017-07-01</td>\n",
       "      <td>2019-11-01 00:00:00</td>\n",
       "      <td>Month-to-month</td>\n",
       "      <td>Yes</td>\n",
       "      <td>Electronic check</td>\n",
       "      <td>104.80</td>\n",
       "      <td>3046.05</td>\n",
       "      <td>Female</td>\n",
       "      <td>0</td>\n",
       "      <td>Yes</td>\n",
       "      <td>No</td>\n",
       "      <td>Fiber optic</td>\n",
       "      <td>No</td>\n",
       "      <td>No</td>\n",
       "      <td>Yes</td>\n",
       "      <td>Yes</td>\n",
       "      <td>Yes</td>\n",
       "      <td>Yes</td>\n",
       "      <td>Yes</td>\n",
       "    </tr>\n",
       "    <tr>\n",
       "      <th>9</th>\n",
       "      <td>2014-12-01</td>\n",
       "      <td>No</td>\n",
       "      <td>One year</td>\n",
       "      <td>No</td>\n",
       "      <td>Bank transfer (automatic)</td>\n",
       "      <td>56.15</td>\n",
       "      <td>3487.95</td>\n",
       "      <td>Male</td>\n",
       "      <td>0</td>\n",
       "      <td>No</td>\n",
       "      <td>Yes</td>\n",
       "      <td>DSL</td>\n",
       "      <td>Yes</td>\n",
       "      <td>Yes</td>\n",
       "      <td>No</td>\n",
       "      <td>No</td>\n",
       "      <td>No</td>\n",
       "      <td>No</td>\n",
       "      <td>No</td>\n",
       "    </tr>\n",
       "    <tr>\n",
       "      <th>10</th>\n",
       "      <td>2019-01-01</td>\n",
       "      <td>No</td>\n",
       "      <td>Month-to-month</td>\n",
       "      <td>Yes</td>\n",
       "      <td>Mailed check</td>\n",
       "      <td>49.95</td>\n",
       "      <td>587.45</td>\n",
       "      <td>Male</td>\n",
       "      <td>0</td>\n",
       "      <td>Yes</td>\n",
       "      <td>Yes</td>\n",
       "      <td>DSL</td>\n",
       "      <td>Yes</td>\n",
       "      <td>No</td>\n",
       "      <td>No</td>\n",
       "      <td>No</td>\n",
       "      <td>No</td>\n",
       "      <td>No</td>\n",
       "      <td>No</td>\n",
       "    </tr>\n",
       "    <tr>\n",
       "      <th>11</th>\n",
       "      <td>2018-10-01</td>\n",
       "      <td>No</td>\n",
       "      <td>Two year</td>\n",
       "      <td>No</td>\n",
       "      <td>Credit card (automatic)</td>\n",
       "      <td>18.95</td>\n",
       "      <td>326.80</td>\n",
       "      <td>Male</td>\n",
       "      <td>0</td>\n",
       "      <td>No</td>\n",
       "      <td>No</td>\n",
       "      <td>Not signed up for other services</td>\n",
       "      <td>Not signed up for other services</td>\n",
       "      <td>Not signed up for other services</td>\n",
       "      <td>Not signed up for other services</td>\n",
       "      <td>Not signed up for other services</td>\n",
       "      <td>Not signed up for other services</td>\n",
       "      <td>Not signed up for other services</td>\n",
       "      <td>No</td>\n",
       "    </tr>\n",
       "    <tr>\n",
       "      <th>12</th>\n",
       "      <td>2015-04-01</td>\n",
       "      <td>No</td>\n",
       "      <td>One year</td>\n",
       "      <td>No</td>\n",
       "      <td>Credit card (automatic)</td>\n",
       "      <td>100.35</td>\n",
       "      <td>5681.10</td>\n",
       "      <td>Male</td>\n",
       "      <td>0</td>\n",
       "      <td>Yes</td>\n",
       "      <td>No</td>\n",
       "      <td>Fiber optic</td>\n",
       "      <td>No</td>\n",
       "      <td>No</td>\n",
       "      <td>Yes</td>\n",
       "      <td>No</td>\n",
       "      <td>Yes</td>\n",
       "      <td>Yes</td>\n",
       "      <td>Yes</td>\n",
       "    </tr>\n",
       "    <tr>\n",
       "      <th>13</th>\n",
       "      <td>2015-09-01</td>\n",
       "      <td>2019-10-01 00:00:00</td>\n",
       "      <td>Month-to-month</td>\n",
       "      <td>Yes</td>\n",
       "      <td>Bank transfer (automatic)</td>\n",
       "      <td>103.70</td>\n",
       "      <td>5036.30</td>\n",
       "      <td>Male</td>\n",
       "      <td>0</td>\n",
       "      <td>No</td>\n",
       "      <td>No</td>\n",
       "      <td>Fiber optic</td>\n",
       "      <td>No</td>\n",
       "      <td>Yes</td>\n",
       "      <td>Yes</td>\n",
       "      <td>No</td>\n",
       "      <td>Yes</td>\n",
       "      <td>Yes</td>\n",
       "      <td>Yes</td>\n",
       "    </tr>\n",
       "    <tr>\n",
       "      <th>14</th>\n",
       "      <td>2018-01-01</td>\n",
       "      <td>No</td>\n",
       "      <td>Month-to-month</td>\n",
       "      <td>Yes</td>\n",
       "      <td>Electronic check</td>\n",
       "      <td>105.50</td>\n",
       "      <td>2686.05</td>\n",
       "      <td>Male</td>\n",
       "      <td>0</td>\n",
       "      <td>No</td>\n",
       "      <td>No</td>\n",
       "      <td>Fiber optic</td>\n",
       "      <td>Yes</td>\n",
       "      <td>No</td>\n",
       "      <td>Yes</td>\n",
       "      <td>Yes</td>\n",
       "      <td>Yes</td>\n",
       "      <td>Yes</td>\n",
       "      <td>No</td>\n",
       "    </tr>\n",
       "    <tr>\n",
       "      <th>15</th>\n",
       "      <td>2014-05-01</td>\n",
       "      <td>No</td>\n",
       "      <td>Two year</td>\n",
       "      <td>No</td>\n",
       "      <td>Credit card (automatic)</td>\n",
       "      <td>113.25</td>\n",
       "      <td>7895.15</td>\n",
       "      <td>Female</td>\n",
       "      <td>0</td>\n",
       "      <td>Yes</td>\n",
       "      <td>Yes</td>\n",
       "      <td>Fiber optic</td>\n",
       "      <td>Yes</td>\n",
       "      <td>Yes</td>\n",
       "      <td>Yes</td>\n",
       "      <td>Yes</td>\n",
       "      <td>Yes</td>\n",
       "      <td>Yes</td>\n",
       "      <td>Yes</td>\n",
       "    </tr>\n",
       "    <tr>\n",
       "      <th>16</th>\n",
       "      <td>2015-10-01</td>\n",
       "      <td>No</td>\n",
       "      <td>One year</td>\n",
       "      <td>No</td>\n",
       "      <td>Mailed check</td>\n",
       "      <td>20.65</td>\n",
       "      <td>1022.95</td>\n",
       "      <td>Female</td>\n",
       "      <td>0</td>\n",
       "      <td>No</td>\n",
       "      <td>No</td>\n",
       "      <td>Not signed up for other services</td>\n",
       "      <td>Not signed up for other services</td>\n",
       "      <td>Not signed up for other services</td>\n",
       "      <td>Not signed up for other services</td>\n",
       "      <td>Not signed up for other services</td>\n",
       "      <td>Not signed up for other services</td>\n",
       "      <td>Not signed up for other services</td>\n",
       "      <td>No</td>\n",
       "    </tr>\n",
       "    <tr>\n",
       "      <th>17</th>\n",
       "      <td>2014-03-01</td>\n",
       "      <td>No</td>\n",
       "      <td>Two year</td>\n",
       "      <td>No</td>\n",
       "      <td>Bank transfer (automatic)</td>\n",
       "      <td>106.70</td>\n",
       "      <td>7382.25</td>\n",
       "      <td>Male</td>\n",
       "      <td>0</td>\n",
       "      <td>No</td>\n",
       "      <td>Yes</td>\n",
       "      <td>Fiber optic</td>\n",
       "      <td>Yes</td>\n",
       "      <td>No</td>\n",
       "      <td>Yes</td>\n",
       "      <td>No</td>\n",
       "      <td>Yes</td>\n",
       "      <td>Yes</td>\n",
       "      <td>Yes</td>\n",
       "    </tr>\n",
       "    <tr>\n",
       "      <th>18</th>\n",
       "      <td>2019-01-01</td>\n",
       "      <td>2019-11-01 00:00:00</td>\n",
       "      <td>Month-to-month</td>\n",
       "      <td>No</td>\n",
       "      <td>Credit card (automatic)</td>\n",
       "      <td>55.20</td>\n",
       "      <td>528.35</td>\n",
       "      <td>Female</td>\n",
       "      <td>0</td>\n",
       "      <td>Yes</td>\n",
       "      <td>Yes</td>\n",
       "      <td>DSL</td>\n",
       "      <td>No</td>\n",
       "      <td>No</td>\n",
       "      <td>Yes</td>\n",
       "      <td>Yes</td>\n",
       "      <td>No</td>\n",
       "      <td>No</td>\n",
       "      <td>No</td>\n",
       "    </tr>\n",
       "    <tr>\n",
       "      <th>19</th>\n",
       "      <td>2018-05-01</td>\n",
       "      <td>No</td>\n",
       "      <td>Month-to-month</td>\n",
       "      <td>Yes</td>\n",
       "      <td>Electronic check</td>\n",
       "      <td>90.05</td>\n",
       "      <td>1862.90</td>\n",
       "      <td>Female</td>\n",
       "      <td>0</td>\n",
       "      <td>No</td>\n",
       "      <td>No</td>\n",
       "      <td>Fiber optic</td>\n",
       "      <td>No</td>\n",
       "      <td>Yes</td>\n",
       "      <td>Yes</td>\n",
       "      <td>No</td>\n",
       "      <td>No</td>\n",
       "      <td>Yes</td>\n",
       "      <td>No</td>\n",
       "    </tr>\n",
       "    <tr>\n",
       "      <th>20</th>\n",
       "      <td>2019-11-01</td>\n",
       "      <td>2019-12-01 00:00:00</td>\n",
       "      <td>Month-to-month</td>\n",
       "      <td>Yes</td>\n",
       "      <td>Electronic check</td>\n",
       "      <td>39.65</td>\n",
       "      <td>39.65</td>\n",
       "      <td>Male</td>\n",
       "      <td>1</td>\n",
       "      <td>No</td>\n",
       "      <td>No</td>\n",
       "      <td>DSL</td>\n",
       "      <td>No</td>\n",
       "      <td>No</td>\n",
       "      <td>Yes</td>\n",
       "      <td>No</td>\n",
       "      <td>No</td>\n",
       "      <td>Yes</td>\n",
       "      <td>Not signed up for other services</td>\n",
       "    </tr>\n",
       "    <tr>\n",
       "      <th>21</th>\n",
       "      <td>2019-02-01</td>\n",
       "      <td>No</td>\n",
       "      <td>One year</td>\n",
       "      <td>No</td>\n",
       "      <td>Bank transfer (automatic)</td>\n",
       "      <td>19.80</td>\n",
       "      <td>202.25</td>\n",
       "      <td>Male</td>\n",
       "      <td>0</td>\n",
       "      <td>Yes</td>\n",
       "      <td>No</td>\n",
       "      <td>Not signed up for other services</td>\n",
       "      <td>Not signed up for other services</td>\n",
       "      <td>Not signed up for other services</td>\n",
       "      <td>Not signed up for other services</td>\n",
       "      <td>Not signed up for other services</td>\n",
       "      <td>Not signed up for other services</td>\n",
       "      <td>Not signed up for other services</td>\n",
       "      <td>No</td>\n",
       "    </tr>\n",
       "    <tr>\n",
       "      <th>22</th>\n",
       "      <td>2019-11-01</td>\n",
       "      <td>2019-12-01 00:00:00</td>\n",
       "      <td>Month-to-month</td>\n",
       "      <td>No</td>\n",
       "      <td>Mailed check</td>\n",
       "      <td>20.15</td>\n",
       "      <td>20.15</td>\n",
       "      <td>Male</td>\n",
       "      <td>0</td>\n",
       "      <td>No</td>\n",
       "      <td>No</td>\n",
       "      <td>Not signed up for other services</td>\n",
       "      <td>Not signed up for other services</td>\n",
       "      <td>Not signed up for other services</td>\n",
       "      <td>Not signed up for other services</td>\n",
       "      <td>Not signed up for other services</td>\n",
       "      <td>Not signed up for other services</td>\n",
       "      <td>Not signed up for other services</td>\n",
       "      <td>No</td>\n",
       "    </tr>\n",
       "    <tr>\n",
       "      <th>23</th>\n",
       "      <td>2015-04-01</td>\n",
       "      <td>No</td>\n",
       "      <td>Two year</td>\n",
       "      <td>Yes</td>\n",
       "      <td>Credit card (automatic)</td>\n",
       "      <td>59.90</td>\n",
       "      <td>3505.10</td>\n",
       "      <td>Female</td>\n",
       "      <td>0</td>\n",
       "      <td>Yes</td>\n",
       "      <td>No</td>\n",
       "      <td>DSL</td>\n",
       "      <td>No</td>\n",
       "      <td>Yes</td>\n",
       "      <td>No</td>\n",
       "      <td>Yes</td>\n",
       "      <td>No</td>\n",
       "      <td>No</td>\n",
       "      <td>Yes</td>\n",
       "    </tr>\n",
       "    <tr>\n",
       "      <th>24</th>\n",
       "      <td>2016-01-01</td>\n",
       "      <td>No</td>\n",
       "      <td>Month-to-month</td>\n",
       "      <td>No</td>\n",
       "      <td>Credit card (automatic)</td>\n",
       "      <td>59.60</td>\n",
       "      <td>2970.30</td>\n",
       "      <td>Male</td>\n",
       "      <td>0</td>\n",
       "      <td>Yes</td>\n",
       "      <td>Yes</td>\n",
       "      <td>DSL</td>\n",
       "      <td>Yes</td>\n",
       "      <td>Yes</td>\n",
       "      <td>No</td>\n",
       "      <td>Yes</td>\n",
       "      <td>No</td>\n",
       "      <td>No</td>\n",
       "      <td>No</td>\n",
       "    </tr>\n",
       "  </tbody>\n",
       "</table>\n",
       "</div>"
      ],
      "text/plain": [
       "   begin_date             end_date            type paperless_billing  \\\n",
       "0  2020-01-01                   No  Month-to-month               Yes   \n",
       "1  2017-04-01                   No        One year                No   \n",
       "2  2019-10-01  2019-12-01 00:00:00  Month-to-month               Yes   \n",
       "3  2016-05-01                   No        One year                No   \n",
       "4  2019-09-01  2019-11-01 00:00:00  Month-to-month               Yes   \n",
       "5  2019-03-01  2019-11-01 00:00:00  Month-to-month               Yes   \n",
       "6  2018-04-01                   No  Month-to-month               Yes   \n",
       "7  2019-04-01                   No  Month-to-month                No   \n",
       "8  2017-07-01  2019-11-01 00:00:00  Month-to-month               Yes   \n",
       "9  2014-12-01                   No        One year                No   \n",
       "10 2019-01-01                   No  Month-to-month               Yes   \n",
       "11 2018-10-01                   No        Two year                No   \n",
       "12 2015-04-01                   No        One year                No   \n",
       "13 2015-09-01  2019-10-01 00:00:00  Month-to-month               Yes   \n",
       "14 2018-01-01                   No  Month-to-month               Yes   \n",
       "15 2014-05-01                   No        Two year                No   \n",
       "16 2015-10-01                   No        One year                No   \n",
       "17 2014-03-01                   No        Two year                No   \n",
       "18 2019-01-01  2019-11-01 00:00:00  Month-to-month                No   \n",
       "19 2018-05-01                   No  Month-to-month               Yes   \n",
       "20 2019-11-01  2019-12-01 00:00:00  Month-to-month               Yes   \n",
       "21 2019-02-01                   No        One year                No   \n",
       "22 2019-11-01  2019-12-01 00:00:00  Month-to-month                No   \n",
       "23 2015-04-01                   No        Two year               Yes   \n",
       "24 2016-01-01                   No  Month-to-month                No   \n",
       "\n",
       "               payment_method  monthly_charges  total_charges  gender  \\\n",
       "0            Electronic check            29.85          29.85  Female   \n",
       "1                Mailed check            56.95        1889.50    Male   \n",
       "2                Mailed check            53.85         108.15    Male   \n",
       "3   Bank transfer (automatic)            42.30        1840.75    Male   \n",
       "4            Electronic check            70.70         151.65  Female   \n",
       "5            Electronic check            99.65         820.50  Female   \n",
       "6     Credit card (automatic)            89.10        1949.40    Male   \n",
       "7                Mailed check            29.75         301.90  Female   \n",
       "8            Electronic check           104.80        3046.05  Female   \n",
       "9   Bank transfer (automatic)            56.15        3487.95    Male   \n",
       "10               Mailed check            49.95         587.45    Male   \n",
       "11    Credit card (automatic)            18.95         326.80    Male   \n",
       "12    Credit card (automatic)           100.35        5681.10    Male   \n",
       "13  Bank transfer (automatic)           103.70        5036.30    Male   \n",
       "14           Electronic check           105.50        2686.05    Male   \n",
       "15    Credit card (automatic)           113.25        7895.15  Female   \n",
       "16               Mailed check            20.65        1022.95  Female   \n",
       "17  Bank transfer (automatic)           106.70        7382.25    Male   \n",
       "18    Credit card (automatic)            55.20         528.35  Female   \n",
       "19           Electronic check            90.05        1862.90  Female   \n",
       "20           Electronic check            39.65          39.65    Male   \n",
       "21  Bank transfer (automatic)            19.80         202.25    Male   \n",
       "22               Mailed check            20.15          20.15    Male   \n",
       "23    Credit card (automatic)            59.90        3505.10  Female   \n",
       "24    Credit card (automatic)            59.60        2970.30    Male   \n",
       "\n",
       "    senior_citizen partner dependents                  internet_service  \\\n",
       "0                0     Yes         No                               DSL   \n",
       "1                0      No         No                               DSL   \n",
       "2                0      No         No                               DSL   \n",
       "3                0      No         No                               DSL   \n",
       "4                0      No         No                       Fiber optic   \n",
       "5                0      No         No                       Fiber optic   \n",
       "6                0      No        Yes                       Fiber optic   \n",
       "7                0      No         No                               DSL   \n",
       "8                0     Yes         No                       Fiber optic   \n",
       "9                0      No        Yes                               DSL   \n",
       "10               0     Yes        Yes                               DSL   \n",
       "11               0      No         No  Not signed up for other services   \n",
       "12               0     Yes         No                       Fiber optic   \n",
       "13               0      No         No                       Fiber optic   \n",
       "14               0      No         No                       Fiber optic   \n",
       "15               0     Yes        Yes                       Fiber optic   \n",
       "16               0      No         No  Not signed up for other services   \n",
       "17               0      No        Yes                       Fiber optic   \n",
       "18               0     Yes        Yes                               DSL   \n",
       "19               0      No         No                       Fiber optic   \n",
       "20               1      No         No                               DSL   \n",
       "21               0     Yes         No  Not signed up for other services   \n",
       "22               0      No         No  Not signed up for other services   \n",
       "23               0     Yes         No                               DSL   \n",
       "24               0     Yes        Yes                               DSL   \n",
       "\n",
       "                     online_security                     online_backup  \\\n",
       "0                                 No                               Yes   \n",
       "1                                Yes                                No   \n",
       "2                                Yes                               Yes   \n",
       "3                                Yes                                No   \n",
       "4                                 No                                No   \n",
       "5                                 No                                No   \n",
       "6                                 No                               Yes   \n",
       "7                                Yes                                No   \n",
       "8                                 No                                No   \n",
       "9                                Yes                               Yes   \n",
       "10                               Yes                                No   \n",
       "11  Not signed up for other services  Not signed up for other services   \n",
       "12                                No                                No   \n",
       "13                                No                               Yes   \n",
       "14                               Yes                                No   \n",
       "15                               Yes                               Yes   \n",
       "16  Not signed up for other services  Not signed up for other services   \n",
       "17                               Yes                                No   \n",
       "18                                No                                No   \n",
       "19                                No                               Yes   \n",
       "20                                No                                No   \n",
       "21  Not signed up for other services  Not signed up for other services   \n",
       "22  Not signed up for other services  Not signed up for other services   \n",
       "23                                No                               Yes   \n",
       "24                               Yes                               Yes   \n",
       "\n",
       "                   device_protection                      tech_support  \\\n",
       "0                                 No                                No   \n",
       "1                                Yes                                No   \n",
       "2                                 No                                No   \n",
       "3                                Yes                               Yes   \n",
       "4                                 No                                No   \n",
       "5                                Yes                                No   \n",
       "6                                 No                                No   \n",
       "7                                 No                                No   \n",
       "8                                Yes                               Yes   \n",
       "9                                 No                                No   \n",
       "10                                No                                No   \n",
       "11  Not signed up for other services  Not signed up for other services   \n",
       "12                               Yes                                No   \n",
       "13                               Yes                                No   \n",
       "14                               Yes                               Yes   \n",
       "15                               Yes                               Yes   \n",
       "16  Not signed up for other services  Not signed up for other services   \n",
       "17                               Yes                                No   \n",
       "18                               Yes                               Yes   \n",
       "19                               Yes                                No   \n",
       "20                               Yes                                No   \n",
       "21  Not signed up for other services  Not signed up for other services   \n",
       "22  Not signed up for other services  Not signed up for other services   \n",
       "23                                No                               Yes   \n",
       "24                                No                               Yes   \n",
       "\n",
       "                        streaming_tv                  streaming_movies  \\\n",
       "0                                 No                                No   \n",
       "1                                 No                                No   \n",
       "2                                 No                                No   \n",
       "3                                 No                                No   \n",
       "4                                 No                                No   \n",
       "5                                Yes                               Yes   \n",
       "6                                Yes                                No   \n",
       "7                                 No                                No   \n",
       "8                                Yes                               Yes   \n",
       "9                                 No                                No   \n",
       "10                                No                                No   \n",
       "11  Not signed up for other services  Not signed up for other services   \n",
       "12                               Yes                               Yes   \n",
       "13                               Yes                               Yes   \n",
       "14                               Yes                               Yes   \n",
       "15                               Yes                               Yes   \n",
       "16  Not signed up for other services  Not signed up for other services   \n",
       "17                               Yes                               Yes   \n",
       "18                                No                                No   \n",
       "19                                No                               Yes   \n",
       "20                                No                               Yes   \n",
       "21  Not signed up for other services  Not signed up for other services   \n",
       "22  Not signed up for other services  Not signed up for other services   \n",
       "23                                No                                No   \n",
       "24                                No                                No   \n",
       "\n",
       "                      multiple_lines  \n",
       "0   Not signed up for other services  \n",
       "1                                 No  \n",
       "2                                 No  \n",
       "3   Not signed up for other services  \n",
       "4                                 No  \n",
       "5                                Yes  \n",
       "6                                Yes  \n",
       "7   Not signed up for other services  \n",
       "8                                Yes  \n",
       "9                                 No  \n",
       "10                                No  \n",
       "11                                No  \n",
       "12                               Yes  \n",
       "13                               Yes  \n",
       "14                                No  \n",
       "15                               Yes  \n",
       "16                                No  \n",
       "17                               Yes  \n",
       "18                                No  \n",
       "19                                No  \n",
       "20  Not signed up for other services  \n",
       "21                                No  \n",
       "22                                No  \n",
       "23                               Yes  \n",
       "24                                No  "
      ]
     },
     "execution_count": 15,
     "metadata": {},
     "output_type": "execute_result"
    }
   ],
   "source": [
    "df.head(25)"
   ]
  },
  {
   "cell_type": "markdown",
   "metadata": {},
   "source": [
    "# EDA"
   ]
  },
  {
   "cell_type": "code",
   "execution_count": 16,
   "metadata": {
    "scrolled": true
   },
   "outputs": [
    {
     "data": {
      "text/html": [
       "<div>\n",
       "<style scoped>\n",
       "    .dataframe tbody tr th:only-of-type {\n",
       "        vertical-align: middle;\n",
       "    }\n",
       "\n",
       "    .dataframe tbody tr th {\n",
       "        vertical-align: top;\n",
       "    }\n",
       "\n",
       "    .dataframe thead th {\n",
       "        text-align: right;\n",
       "    }\n",
       "</style>\n",
       "<table border=\"1\" class=\"dataframe\">\n",
       "  <thead>\n",
       "    <tr style=\"text-align: right;\">\n",
       "      <th></th>\n",
       "      <th>begin_date</th>\n",
       "      <th>type</th>\n",
       "      <th>paperless_billing</th>\n",
       "      <th>payment_method</th>\n",
       "      <th>monthly_charges</th>\n",
       "      <th>total_charges</th>\n",
       "      <th>gender</th>\n",
       "      <th>senior_citizen</th>\n",
       "      <th>partner</th>\n",
       "      <th>dependents</th>\n",
       "      <th>internet_service</th>\n",
       "      <th>online_security</th>\n",
       "      <th>online_backup</th>\n",
       "      <th>device_protection</th>\n",
       "      <th>tech_support</th>\n",
       "      <th>streaming_tv</th>\n",
       "      <th>streaming_movies</th>\n",
       "      <th>multiple_lines</th>\n",
       "      <th>customer_churn</th>\n",
       "    </tr>\n",
       "  </thead>\n",
       "  <tbody>\n",
       "    <tr>\n",
       "      <th>0</th>\n",
       "      <td>2020-01-01</td>\n",
       "      <td>Month-to-month</td>\n",
       "      <td>Yes</td>\n",
       "      <td>Electronic check</td>\n",
       "      <td>29.85</td>\n",
       "      <td>29.85</td>\n",
       "      <td>Female</td>\n",
       "      <td>0</td>\n",
       "      <td>Yes</td>\n",
       "      <td>No</td>\n",
       "      <td>DSL</td>\n",
       "      <td>No</td>\n",
       "      <td>Yes</td>\n",
       "      <td>No</td>\n",
       "      <td>No</td>\n",
       "      <td>No</td>\n",
       "      <td>No</td>\n",
       "      <td>Not signed up for other services</td>\n",
       "      <td>1</td>\n",
       "    </tr>\n",
       "    <tr>\n",
       "      <th>1</th>\n",
       "      <td>2017-04-01</td>\n",
       "      <td>One year</td>\n",
       "      <td>No</td>\n",
       "      <td>Mailed check</td>\n",
       "      <td>56.95</td>\n",
       "      <td>1889.50</td>\n",
       "      <td>Male</td>\n",
       "      <td>0</td>\n",
       "      <td>No</td>\n",
       "      <td>No</td>\n",
       "      <td>DSL</td>\n",
       "      <td>Yes</td>\n",
       "      <td>No</td>\n",
       "      <td>Yes</td>\n",
       "      <td>No</td>\n",
       "      <td>No</td>\n",
       "      <td>No</td>\n",
       "      <td>No</td>\n",
       "      <td>1</td>\n",
       "    </tr>\n",
       "    <tr>\n",
       "      <th>2</th>\n",
       "      <td>2019-10-01</td>\n",
       "      <td>Month-to-month</td>\n",
       "      <td>Yes</td>\n",
       "      <td>Mailed check</td>\n",
       "      <td>53.85</td>\n",
       "      <td>108.15</td>\n",
       "      <td>Male</td>\n",
       "      <td>0</td>\n",
       "      <td>No</td>\n",
       "      <td>No</td>\n",
       "      <td>DSL</td>\n",
       "      <td>Yes</td>\n",
       "      <td>Yes</td>\n",
       "      <td>No</td>\n",
       "      <td>No</td>\n",
       "      <td>No</td>\n",
       "      <td>No</td>\n",
       "      <td>No</td>\n",
       "      <td>0</td>\n",
       "    </tr>\n",
       "    <tr>\n",
       "      <th>3</th>\n",
       "      <td>2016-05-01</td>\n",
       "      <td>One year</td>\n",
       "      <td>No</td>\n",
       "      <td>Bank transfer (automatic)</td>\n",
       "      <td>42.30</td>\n",
       "      <td>1840.75</td>\n",
       "      <td>Male</td>\n",
       "      <td>0</td>\n",
       "      <td>No</td>\n",
       "      <td>No</td>\n",
       "      <td>DSL</td>\n",
       "      <td>Yes</td>\n",
       "      <td>No</td>\n",
       "      <td>Yes</td>\n",
       "      <td>Yes</td>\n",
       "      <td>No</td>\n",
       "      <td>No</td>\n",
       "      <td>Not signed up for other services</td>\n",
       "      <td>1</td>\n",
       "    </tr>\n",
       "    <tr>\n",
       "      <th>4</th>\n",
       "      <td>2019-09-01</td>\n",
       "      <td>Month-to-month</td>\n",
       "      <td>Yes</td>\n",
       "      <td>Electronic check</td>\n",
       "      <td>70.70</td>\n",
       "      <td>151.65</td>\n",
       "      <td>Female</td>\n",
       "      <td>0</td>\n",
       "      <td>No</td>\n",
       "      <td>No</td>\n",
       "      <td>Fiber optic</td>\n",
       "      <td>No</td>\n",
       "      <td>No</td>\n",
       "      <td>No</td>\n",
       "      <td>No</td>\n",
       "      <td>No</td>\n",
       "      <td>No</td>\n",
       "      <td>No</td>\n",
       "      <td>0</td>\n",
       "    </tr>\n",
       "    <tr>\n",
       "      <th>5</th>\n",
       "      <td>2019-03-01</td>\n",
       "      <td>Month-to-month</td>\n",
       "      <td>Yes</td>\n",
       "      <td>Electronic check</td>\n",
       "      <td>99.65</td>\n",
       "      <td>820.50</td>\n",
       "      <td>Female</td>\n",
       "      <td>0</td>\n",
       "      <td>No</td>\n",
       "      <td>No</td>\n",
       "      <td>Fiber optic</td>\n",
       "      <td>No</td>\n",
       "      <td>No</td>\n",
       "      <td>Yes</td>\n",
       "      <td>No</td>\n",
       "      <td>Yes</td>\n",
       "      <td>Yes</td>\n",
       "      <td>Yes</td>\n",
       "      <td>0</td>\n",
       "    </tr>\n",
       "    <tr>\n",
       "      <th>6</th>\n",
       "      <td>2018-04-01</td>\n",
       "      <td>Month-to-month</td>\n",
       "      <td>Yes</td>\n",
       "      <td>Credit card (automatic)</td>\n",
       "      <td>89.10</td>\n",
       "      <td>1949.40</td>\n",
       "      <td>Male</td>\n",
       "      <td>0</td>\n",
       "      <td>No</td>\n",
       "      <td>Yes</td>\n",
       "      <td>Fiber optic</td>\n",
       "      <td>No</td>\n",
       "      <td>Yes</td>\n",
       "      <td>No</td>\n",
       "      <td>No</td>\n",
       "      <td>Yes</td>\n",
       "      <td>No</td>\n",
       "      <td>Yes</td>\n",
       "      <td>1</td>\n",
       "    </tr>\n",
       "    <tr>\n",
       "      <th>7</th>\n",
       "      <td>2019-04-01</td>\n",
       "      <td>Month-to-month</td>\n",
       "      <td>No</td>\n",
       "      <td>Mailed check</td>\n",
       "      <td>29.75</td>\n",
       "      <td>301.90</td>\n",
       "      <td>Female</td>\n",
       "      <td>0</td>\n",
       "      <td>No</td>\n",
       "      <td>No</td>\n",
       "      <td>DSL</td>\n",
       "      <td>Yes</td>\n",
       "      <td>No</td>\n",
       "      <td>No</td>\n",
       "      <td>No</td>\n",
       "      <td>No</td>\n",
       "      <td>No</td>\n",
       "      <td>Not signed up for other services</td>\n",
       "      <td>1</td>\n",
       "    </tr>\n",
       "    <tr>\n",
       "      <th>8</th>\n",
       "      <td>2017-07-01</td>\n",
       "      <td>Month-to-month</td>\n",
       "      <td>Yes</td>\n",
       "      <td>Electronic check</td>\n",
       "      <td>104.80</td>\n",
       "      <td>3046.05</td>\n",
       "      <td>Female</td>\n",
       "      <td>0</td>\n",
       "      <td>Yes</td>\n",
       "      <td>No</td>\n",
       "      <td>Fiber optic</td>\n",
       "      <td>No</td>\n",
       "      <td>No</td>\n",
       "      <td>Yes</td>\n",
       "      <td>Yes</td>\n",
       "      <td>Yes</td>\n",
       "      <td>Yes</td>\n",
       "      <td>Yes</td>\n",
       "      <td>0</td>\n",
       "    </tr>\n",
       "    <tr>\n",
       "      <th>9</th>\n",
       "      <td>2014-12-01</td>\n",
       "      <td>One year</td>\n",
       "      <td>No</td>\n",
       "      <td>Bank transfer (automatic)</td>\n",
       "      <td>56.15</td>\n",
       "      <td>3487.95</td>\n",
       "      <td>Male</td>\n",
       "      <td>0</td>\n",
       "      <td>No</td>\n",
       "      <td>Yes</td>\n",
       "      <td>DSL</td>\n",
       "      <td>Yes</td>\n",
       "      <td>Yes</td>\n",
       "      <td>No</td>\n",
       "      <td>No</td>\n",
       "      <td>No</td>\n",
       "      <td>No</td>\n",
       "      <td>No</td>\n",
       "      <td>1</td>\n",
       "    </tr>\n",
       "    <tr>\n",
       "      <th>10</th>\n",
       "      <td>2019-01-01</td>\n",
       "      <td>Month-to-month</td>\n",
       "      <td>Yes</td>\n",
       "      <td>Mailed check</td>\n",
       "      <td>49.95</td>\n",
       "      <td>587.45</td>\n",
       "      <td>Male</td>\n",
       "      <td>0</td>\n",
       "      <td>Yes</td>\n",
       "      <td>Yes</td>\n",
       "      <td>DSL</td>\n",
       "      <td>Yes</td>\n",
       "      <td>No</td>\n",
       "      <td>No</td>\n",
       "      <td>No</td>\n",
       "      <td>No</td>\n",
       "      <td>No</td>\n",
       "      <td>No</td>\n",
       "      <td>1</td>\n",
       "    </tr>\n",
       "    <tr>\n",
       "      <th>11</th>\n",
       "      <td>2018-10-01</td>\n",
       "      <td>Two year</td>\n",
       "      <td>No</td>\n",
       "      <td>Credit card (automatic)</td>\n",
       "      <td>18.95</td>\n",
       "      <td>326.80</td>\n",
       "      <td>Male</td>\n",
       "      <td>0</td>\n",
       "      <td>No</td>\n",
       "      <td>No</td>\n",
       "      <td>Not signed up for other services</td>\n",
       "      <td>Not signed up for other services</td>\n",
       "      <td>Not signed up for other services</td>\n",
       "      <td>Not signed up for other services</td>\n",
       "      <td>Not signed up for other services</td>\n",
       "      <td>Not signed up for other services</td>\n",
       "      <td>Not signed up for other services</td>\n",
       "      <td>No</td>\n",
       "      <td>1</td>\n",
       "    </tr>\n",
       "    <tr>\n",
       "      <th>12</th>\n",
       "      <td>2015-04-01</td>\n",
       "      <td>One year</td>\n",
       "      <td>No</td>\n",
       "      <td>Credit card (automatic)</td>\n",
       "      <td>100.35</td>\n",
       "      <td>5681.10</td>\n",
       "      <td>Male</td>\n",
       "      <td>0</td>\n",
       "      <td>Yes</td>\n",
       "      <td>No</td>\n",
       "      <td>Fiber optic</td>\n",
       "      <td>No</td>\n",
       "      <td>No</td>\n",
       "      <td>Yes</td>\n",
       "      <td>No</td>\n",
       "      <td>Yes</td>\n",
       "      <td>Yes</td>\n",
       "      <td>Yes</td>\n",
       "      <td>1</td>\n",
       "    </tr>\n",
       "    <tr>\n",
       "      <th>13</th>\n",
       "      <td>2015-09-01</td>\n",
       "      <td>Month-to-month</td>\n",
       "      <td>Yes</td>\n",
       "      <td>Bank transfer (automatic)</td>\n",
       "      <td>103.70</td>\n",
       "      <td>5036.30</td>\n",
       "      <td>Male</td>\n",
       "      <td>0</td>\n",
       "      <td>No</td>\n",
       "      <td>No</td>\n",
       "      <td>Fiber optic</td>\n",
       "      <td>No</td>\n",
       "      <td>Yes</td>\n",
       "      <td>Yes</td>\n",
       "      <td>No</td>\n",
       "      <td>Yes</td>\n",
       "      <td>Yes</td>\n",
       "      <td>Yes</td>\n",
       "      <td>0</td>\n",
       "    </tr>\n",
       "    <tr>\n",
       "      <th>14</th>\n",
       "      <td>2018-01-01</td>\n",
       "      <td>Month-to-month</td>\n",
       "      <td>Yes</td>\n",
       "      <td>Electronic check</td>\n",
       "      <td>105.50</td>\n",
       "      <td>2686.05</td>\n",
       "      <td>Male</td>\n",
       "      <td>0</td>\n",
       "      <td>No</td>\n",
       "      <td>No</td>\n",
       "      <td>Fiber optic</td>\n",
       "      <td>Yes</td>\n",
       "      <td>No</td>\n",
       "      <td>Yes</td>\n",
       "      <td>Yes</td>\n",
       "      <td>Yes</td>\n",
       "      <td>Yes</td>\n",
       "      <td>No</td>\n",
       "      <td>1</td>\n",
       "    </tr>\n",
       "    <tr>\n",
       "      <th>15</th>\n",
       "      <td>2014-05-01</td>\n",
       "      <td>Two year</td>\n",
       "      <td>No</td>\n",
       "      <td>Credit card (automatic)</td>\n",
       "      <td>113.25</td>\n",
       "      <td>7895.15</td>\n",
       "      <td>Female</td>\n",
       "      <td>0</td>\n",
       "      <td>Yes</td>\n",
       "      <td>Yes</td>\n",
       "      <td>Fiber optic</td>\n",
       "      <td>Yes</td>\n",
       "      <td>Yes</td>\n",
       "      <td>Yes</td>\n",
       "      <td>Yes</td>\n",
       "      <td>Yes</td>\n",
       "      <td>Yes</td>\n",
       "      <td>Yes</td>\n",
       "      <td>1</td>\n",
       "    </tr>\n",
       "    <tr>\n",
       "      <th>16</th>\n",
       "      <td>2015-10-01</td>\n",
       "      <td>One year</td>\n",
       "      <td>No</td>\n",
       "      <td>Mailed check</td>\n",
       "      <td>20.65</td>\n",
       "      <td>1022.95</td>\n",
       "      <td>Female</td>\n",
       "      <td>0</td>\n",
       "      <td>No</td>\n",
       "      <td>No</td>\n",
       "      <td>Not signed up for other services</td>\n",
       "      <td>Not signed up for other services</td>\n",
       "      <td>Not signed up for other services</td>\n",
       "      <td>Not signed up for other services</td>\n",
       "      <td>Not signed up for other services</td>\n",
       "      <td>Not signed up for other services</td>\n",
       "      <td>Not signed up for other services</td>\n",
       "      <td>No</td>\n",
       "      <td>1</td>\n",
       "    </tr>\n",
       "    <tr>\n",
       "      <th>17</th>\n",
       "      <td>2014-03-01</td>\n",
       "      <td>Two year</td>\n",
       "      <td>No</td>\n",
       "      <td>Bank transfer (automatic)</td>\n",
       "      <td>106.70</td>\n",
       "      <td>7382.25</td>\n",
       "      <td>Male</td>\n",
       "      <td>0</td>\n",
       "      <td>No</td>\n",
       "      <td>Yes</td>\n",
       "      <td>Fiber optic</td>\n",
       "      <td>Yes</td>\n",
       "      <td>No</td>\n",
       "      <td>Yes</td>\n",
       "      <td>No</td>\n",
       "      <td>Yes</td>\n",
       "      <td>Yes</td>\n",
       "      <td>Yes</td>\n",
       "      <td>1</td>\n",
       "    </tr>\n",
       "    <tr>\n",
       "      <th>18</th>\n",
       "      <td>2019-01-01</td>\n",
       "      <td>Month-to-month</td>\n",
       "      <td>No</td>\n",
       "      <td>Credit card (automatic)</td>\n",
       "      <td>55.20</td>\n",
       "      <td>528.35</td>\n",
       "      <td>Female</td>\n",
       "      <td>0</td>\n",
       "      <td>Yes</td>\n",
       "      <td>Yes</td>\n",
       "      <td>DSL</td>\n",
       "      <td>No</td>\n",
       "      <td>No</td>\n",
       "      <td>Yes</td>\n",
       "      <td>Yes</td>\n",
       "      <td>No</td>\n",
       "      <td>No</td>\n",
       "      <td>No</td>\n",
       "      <td>0</td>\n",
       "    </tr>\n",
       "    <tr>\n",
       "      <th>19</th>\n",
       "      <td>2018-05-01</td>\n",
       "      <td>Month-to-month</td>\n",
       "      <td>Yes</td>\n",
       "      <td>Electronic check</td>\n",
       "      <td>90.05</td>\n",
       "      <td>1862.90</td>\n",
       "      <td>Female</td>\n",
       "      <td>0</td>\n",
       "      <td>No</td>\n",
       "      <td>No</td>\n",
       "      <td>Fiber optic</td>\n",
       "      <td>No</td>\n",
       "      <td>Yes</td>\n",
       "      <td>Yes</td>\n",
       "      <td>No</td>\n",
       "      <td>No</td>\n",
       "      <td>Yes</td>\n",
       "      <td>No</td>\n",
       "      <td>1</td>\n",
       "    </tr>\n",
       "  </tbody>\n",
       "</table>\n",
       "</div>"
      ],
      "text/plain": [
       "   begin_date            type paperless_billing             payment_method  \\\n",
       "0  2020-01-01  Month-to-month               Yes           Electronic check   \n",
       "1  2017-04-01        One year                No               Mailed check   \n",
       "2  2019-10-01  Month-to-month               Yes               Mailed check   \n",
       "3  2016-05-01        One year                No  Bank transfer (automatic)   \n",
       "4  2019-09-01  Month-to-month               Yes           Electronic check   \n",
       "5  2019-03-01  Month-to-month               Yes           Electronic check   \n",
       "6  2018-04-01  Month-to-month               Yes    Credit card (automatic)   \n",
       "7  2019-04-01  Month-to-month                No               Mailed check   \n",
       "8  2017-07-01  Month-to-month               Yes           Electronic check   \n",
       "9  2014-12-01        One year                No  Bank transfer (automatic)   \n",
       "10 2019-01-01  Month-to-month               Yes               Mailed check   \n",
       "11 2018-10-01        Two year                No    Credit card (automatic)   \n",
       "12 2015-04-01        One year                No    Credit card (automatic)   \n",
       "13 2015-09-01  Month-to-month               Yes  Bank transfer (automatic)   \n",
       "14 2018-01-01  Month-to-month               Yes           Electronic check   \n",
       "15 2014-05-01        Two year                No    Credit card (automatic)   \n",
       "16 2015-10-01        One year                No               Mailed check   \n",
       "17 2014-03-01        Two year                No  Bank transfer (automatic)   \n",
       "18 2019-01-01  Month-to-month                No    Credit card (automatic)   \n",
       "19 2018-05-01  Month-to-month               Yes           Electronic check   \n",
       "\n",
       "    monthly_charges  total_charges  gender  senior_citizen partner dependents  \\\n",
       "0             29.85          29.85  Female               0     Yes         No   \n",
       "1             56.95        1889.50    Male               0      No         No   \n",
       "2             53.85         108.15    Male               0      No         No   \n",
       "3             42.30        1840.75    Male               0      No         No   \n",
       "4             70.70         151.65  Female               0      No         No   \n",
       "5             99.65         820.50  Female               0      No         No   \n",
       "6             89.10        1949.40    Male               0      No        Yes   \n",
       "7             29.75         301.90  Female               0      No         No   \n",
       "8            104.80        3046.05  Female               0     Yes         No   \n",
       "9             56.15        3487.95    Male               0      No        Yes   \n",
       "10            49.95         587.45    Male               0     Yes        Yes   \n",
       "11            18.95         326.80    Male               0      No         No   \n",
       "12           100.35        5681.10    Male               0     Yes         No   \n",
       "13           103.70        5036.30    Male               0      No         No   \n",
       "14           105.50        2686.05    Male               0      No         No   \n",
       "15           113.25        7895.15  Female               0     Yes        Yes   \n",
       "16            20.65        1022.95  Female               0      No         No   \n",
       "17           106.70        7382.25    Male               0      No        Yes   \n",
       "18            55.20         528.35  Female               0     Yes        Yes   \n",
       "19            90.05        1862.90  Female               0      No         No   \n",
       "\n",
       "                    internet_service                   online_security  \\\n",
       "0                                DSL                                No   \n",
       "1                                DSL                               Yes   \n",
       "2                                DSL                               Yes   \n",
       "3                                DSL                               Yes   \n",
       "4                        Fiber optic                                No   \n",
       "5                        Fiber optic                                No   \n",
       "6                        Fiber optic                                No   \n",
       "7                                DSL                               Yes   \n",
       "8                        Fiber optic                                No   \n",
       "9                                DSL                               Yes   \n",
       "10                               DSL                               Yes   \n",
       "11  Not signed up for other services  Not signed up for other services   \n",
       "12                       Fiber optic                                No   \n",
       "13                       Fiber optic                                No   \n",
       "14                       Fiber optic                               Yes   \n",
       "15                       Fiber optic                               Yes   \n",
       "16  Not signed up for other services  Not signed up for other services   \n",
       "17                       Fiber optic                               Yes   \n",
       "18                               DSL                                No   \n",
       "19                       Fiber optic                                No   \n",
       "\n",
       "                       online_backup                 device_protection  \\\n",
       "0                                Yes                                No   \n",
       "1                                 No                               Yes   \n",
       "2                                Yes                                No   \n",
       "3                                 No                               Yes   \n",
       "4                                 No                                No   \n",
       "5                                 No                               Yes   \n",
       "6                                Yes                                No   \n",
       "7                                 No                                No   \n",
       "8                                 No                               Yes   \n",
       "9                                Yes                                No   \n",
       "10                                No                                No   \n",
       "11  Not signed up for other services  Not signed up for other services   \n",
       "12                                No                               Yes   \n",
       "13                               Yes                               Yes   \n",
       "14                                No                               Yes   \n",
       "15                               Yes                               Yes   \n",
       "16  Not signed up for other services  Not signed up for other services   \n",
       "17                                No                               Yes   \n",
       "18                                No                               Yes   \n",
       "19                               Yes                               Yes   \n",
       "\n",
       "                        tech_support                      streaming_tv  \\\n",
       "0                                 No                                No   \n",
       "1                                 No                                No   \n",
       "2                                 No                                No   \n",
       "3                                Yes                                No   \n",
       "4                                 No                                No   \n",
       "5                                 No                               Yes   \n",
       "6                                 No                               Yes   \n",
       "7                                 No                                No   \n",
       "8                                Yes                               Yes   \n",
       "9                                 No                                No   \n",
       "10                                No                                No   \n",
       "11  Not signed up for other services  Not signed up for other services   \n",
       "12                                No                               Yes   \n",
       "13                                No                               Yes   \n",
       "14                               Yes                               Yes   \n",
       "15                               Yes                               Yes   \n",
       "16  Not signed up for other services  Not signed up for other services   \n",
       "17                                No                               Yes   \n",
       "18                               Yes                                No   \n",
       "19                                No                                No   \n",
       "\n",
       "                    streaming_movies                    multiple_lines  \\\n",
       "0                                 No  Not signed up for other services   \n",
       "1                                 No                                No   \n",
       "2                                 No                                No   \n",
       "3                                 No  Not signed up for other services   \n",
       "4                                 No                                No   \n",
       "5                                Yes                               Yes   \n",
       "6                                 No                               Yes   \n",
       "7                                 No  Not signed up for other services   \n",
       "8                                Yes                               Yes   \n",
       "9                                 No                                No   \n",
       "10                                No                                No   \n",
       "11  Not signed up for other services                                No   \n",
       "12                               Yes                               Yes   \n",
       "13                               Yes                               Yes   \n",
       "14                               Yes                                No   \n",
       "15                               Yes                               Yes   \n",
       "16  Not signed up for other services                                No   \n",
       "17                               Yes                               Yes   \n",
       "18                                No                                No   \n",
       "19                               Yes                                No   \n",
       "\n",
       "    customer_churn  \n",
       "0                1  \n",
       "1                1  \n",
       "2                0  \n",
       "3                1  \n",
       "4                0  \n",
       "5                0  \n",
       "6                1  \n",
       "7                1  \n",
       "8                0  \n",
       "9                1  \n",
       "10               1  \n",
       "11               1  \n",
       "12               1  \n",
       "13               0  \n",
       "14               1  \n",
       "15               1  \n",
       "16               1  \n",
       "17               1  \n",
       "18               0  \n",
       "19               1  "
      ]
     },
     "execution_count": 16,
     "metadata": {},
     "output_type": "execute_result"
    }
   ],
   "source": [
    "#create a new column based on 'end_date' to say if customer has left or not left the service which will serve as the target\n",
    "df['customer_churn'] = np.where(df['end_date'] == 'No', 1, 0) # 1 is no churn, 0 is churn\n",
    "\n",
    "#drop 'end_date' column\n",
    "df = df.drop(['end_date'], axis=1)\n",
    "\n",
    "df.head(20)"
   ]
  },
  {
   "cell_type": "code",
   "execution_count": 17,
   "metadata": {},
   "outputs": [
    {
     "data": {
      "image/png": "[encoded data removed]",
      "text/plain": [
       "<Figure size 606.111x500 with 1 Axes>"
      ]
     },
     "metadata": {},
     "output_type": "display_data"
    }
   ],
   "source": [
    "#visualize the churn of male-female customers and senior citizens\n",
    "g = sns.catplot(data=df, x=\"gender\", y=\"customer_churn\", hue='senior_citizen', kind=\"bar\")\n",
    "\n",
    "g.fig.suptitle('Gender and Age Comparison of Customers Churned')\n",
    "plt.show()"
   ]
  },
  {
   "cell_type": "markdown",
   "metadata": {},
   "source": [
    "From the plot, it’s evident that while the male-to-female ratio of customers who churned is roughly equal, senior citizens represent a larger proportion of those who churned. We'll explore this further to determine whether senior citizens form a significant portion of the overall customer base."
   ]
  },
  {
   "cell_type": "code",
   "execution_count": 18,
   "metadata": {
    "scrolled": false
   },
   "outputs": [
    {
     "data": {
      "text/plain": [
       "internet_service                  customer_churn\n",
       "DSL                               1                 1957\n",
       "                                  0                  459\n",
       "Fiber optic                       1                 1799\n",
       "                                  0                 1297\n",
       "Not signed up for other services  1                 1407\n",
       "                                  0                  113\n",
       "Name: customer_churn, dtype: int64"
      ]
     },
     "metadata": {},
     "output_type": "display_data"
    },
    {
     "data": {
      "image/png": "[encoded data removed]",
      "text/plain": [
       "<Figure size 622.736x500 with 1 Axes>"
      ]
     },
     "metadata": {},
     "output_type": "display_data"
    }
   ],
   "source": [
    "#visualize distribution of churned customers across internet services\n",
    "int = df.groupby('internet_service')['customer_churn'].value_counts()\n",
    "display(int)\n",
    "\n",
    "sns.catplot(data=df, x='internet_service', hue='customer_churn', kind='count')\n",
    "plt.title('Count of Customers Churned Across Internet Services')\n",
    "plt.show()"
   ]
  },
  {
   "cell_type": "markdown",
   "metadata": {},
   "source": [
    "Customers who subscribed to fiber optic internet service not only exhibited the highest percentage of churn within that category but also accounted for the largest number of churned customers across all three internet service types."
   ]
  },
  {
   "cell_type": "code",
   "execution_count": 19,
   "metadata": {},
   "outputs": [
    {
     "name": "stdout",
     "output_type": "stream",
     "text": [
      "Percentage of customers in the dataframe that did not churn: 73.42150170648463\n"
     ]
    },
    {
     "data": {
      "image/png": "[encoded data removed]",
      "text/plain": [
       "<Figure size 640x480 with 1 Axes>"
      ]
     },
     "metadata": {},
     "output_type": "display_data"
    }
   ],
   "source": [
    "\n",
    "#checking for a class imbalance\n",
    "classes = len(df[df['customer_churn'] == 1]) / len(df['customer_churn']) * 100\n",
    "print('Percentage of customers in the dataframe that did not churn:', classes)\n",
    "\n",
    "labels = ['No churn', 'Churn']\n",
    "fig, ax = plt.subplots()\n",
    "ax.pie(df['customer_churn'].value_counts(), labels=labels, autopct='%1.1f%%')\n",
    "plt.title('Percentage of Customers Churned')\n",
    "plt.show()"
   ]
  },
  {
   "cell_type": "markdown",
   "metadata": {},
   "source": [
    "The chart above highlights a class imbalance in the target column, customer_churn. Specifically, the number of loyal customers significantly exceeds those who churned (represented by 0). This imbalance poses a challenge, as any model trained on such data may struggle to accurately predict churn for the minority class.\n",
    "\n",
    "Solution: Upsampling. This technique involves generating additional synthetic data points for the minority class—in this case, customers who have churned—to balance the dataset and improve model performance"
   ]
  },
  {
   "cell_type": "code",
   "execution_count": 20,
   "metadata": {},
   "outputs": [
    {
     "data": {
      "image/png": "[encoded data removed]",
      "text/plain": [
       "<Figure size 640x480 with 1 Axes>"
      ]
     },
     "metadata": {},
     "output_type": "display_data"
    }
   ],
   "source": [
    "#countplot of senior citizens\n",
    "sns.set_style('whitegrid')\n",
    "sns.countplot(x='senior_citizen', data=df)\n",
    "plt.title('Count of Senior Citizens Amongst All Customers')\n",
    "plt.show()"
   ]
  },
  {
   "cell_type": "code",
   "execution_count": 21,
   "metadata": {},
   "outputs": [
    {
     "data": {
      "image/png": "[encoded data removed]",
      "text/plain": [
       "<Figure size 640x480 with 1 Axes>"
      ]
     },
     "metadata": {},
     "output_type": "display_data"
    }
   ],
   "source": [
    "labels = ['Non Senior Citizen', 'Senior Citizen']\n",
    "fig, ax = plt.subplots()\n",
    "ax.pie(df['senior_citizen'].value_counts(), labels=labels, autopct='%1.1f%%')\n",
    "plt.title('Percentage of Senior Citizens in Data')\n",
    "plt.show()"
   ]
  },
  {
   "cell_type": "markdown",
   "metadata": {},
   "source": [
    "The dataset shows that senior citizen customers number slightly over 1,100, comprising 16.2% of the total data."
   ]
  },
  {
   "cell_type": "markdown",
   "metadata": {},
   "source": [
    "Feat. Eng."
   ]
  },
  {
   "cell_type": "code",
   "execution_count": 22,
   "metadata": {},
   "outputs": [
    {
     "name": "stdout",
     "output_type": "stream",
     "text": [
      "<class 'pandas.core.frame.DataFrame'>\n",
      "Int64Index: 7032 entries, 0 to 7042\n",
      "Data columns (total 19 columns):\n",
      " #   Column             Non-Null Count  Dtype         \n",
      "---  ------             --------------  -----         \n",
      " 0   begin_date         7032 non-null   datetime64[ns]\n",
      " 1   type               7032 non-null   object        \n",
      " 2   paperless_billing  7032 non-null   object        \n",
      " 3   payment_method     7032 non-null   object        \n",
      " 4   monthly_charges    7032 non-null   float64       \n",
      " 5   total_charges      7032 non-null   float64       \n",
      " 6   gender             7032 non-null   object        \n",
      " 7   senior_citizen     7032 non-null   int64         \n",
      " 8   partner            7032 non-null   object        \n",
      " 9   dependents         7032 non-null   object        \n",
      " 10  internet_service   7032 non-null   object        \n",
      " 11  online_security    7032 non-null   object        \n",
      " 12  online_backup      7032 non-null   object        \n",
      " 13  device_protection  7032 non-null   object        \n",
      " 14  tech_support       7032 non-null   object        \n",
      " 15  streaming_tv       7032 non-null   object        \n",
      " 16  streaming_movies   7032 non-null   object        \n",
      " 17  multiple_lines     7032 non-null   object        \n",
      " 18  customer_churn     7032 non-null   int64         \n",
      "dtypes: datetime64[ns](1), float64(2), int64(2), object(14)\n",
      "memory usage: 1.3+ MB\n"
     ]
    }
   ],
   "source": [
    "df.info()"
   ]
  },
  {
   "cell_type": "code",
   "execution_count": 23,
   "metadata": {},
   "outputs": [],
   "source": [
    "#create three features from the 'begin_date' column in order to gain more insight on data\n",
    "\n",
    "#year\n",
    "df['begin_year'] = df['begin_date'].dt.year\n",
    "\n",
    "#month\n",
    "df['begin_month'] = df['begin_date'].dt.month\n",
    "\n",
    "#day of week\n",
    "df['begin_day_of_week'] = df['begin_date'].dt.dayofweek\n",
    "\n",
    "#drop 'begin_date' column from df\n",
    "df = df.drop({'begin_date'}, axis=1) "
   ]
  },
  {
   "cell_type": "code",
   "execution_count": 24,
   "metadata": {},
   "outputs": [
    {
     "name": "stdout",
     "output_type": "stream",
     "text": [
      "<class 'pandas.core.frame.DataFrame'>\n",
      "Int64Index: 7032 entries, 0 to 7042\n",
      "Data columns (total 21 columns):\n",
      " #   Column             Non-Null Count  Dtype  \n",
      "---  ------             --------------  -----  \n",
      " 0   type               7032 non-null   object \n",
      " 1   paperless_billing  7032 non-null   object \n",
      " 2   payment_method     7032 non-null   object \n",
      " 3   monthly_charges    7032 non-null   float64\n",
      " 4   total_charges      7032 non-null   float64\n",
      " 5   gender             7032 non-null   object \n",
      " 6   senior_citizen     7032 non-null   int64  \n",
      " 7   partner            7032 non-null   object \n",
      " 8   dependents         7032 non-null   object \n",
      " 9   internet_service   7032 non-null   object \n",
      " 10  online_security    7032 non-null   object \n",
      " 11  online_backup      7032 non-null   object \n",
      " 12  device_protection  7032 non-null   object \n",
      " 13  tech_support       7032 non-null   object \n",
      " 14  streaming_tv       7032 non-null   object \n",
      " 15  streaming_movies   7032 non-null   object \n",
      " 16  multiple_lines     7032 non-null   object \n",
      " 17  customer_churn     7032 non-null   int64  \n",
      " 18  begin_year         7032 non-null   int64  \n",
      " 19  begin_month        7032 non-null   int64  \n",
      " 20  begin_day_of_week  7032 non-null   int64  \n",
      "dtypes: float64(2), int64(5), object(14)\n",
      "memory usage: 1.4+ MB\n"
     ]
    }
   ],
   "source": [
    "df.info()"
   ]
  },
  {
   "cell_type": "code",
   "execution_count": 25,
   "metadata": {},
   "outputs": [
    {
     "data": {
      "text/html": [
       "<div>\n",
       "<style scoped>\n",
       "    .dataframe tbody tr th:only-of-type {\n",
       "        vertical-align: middle;\n",
       "    }\n",
       "\n",
       "    .dataframe tbody tr th {\n",
       "        vertical-align: top;\n",
       "    }\n",
       "\n",
       "    .dataframe thead th {\n",
       "        text-align: right;\n",
       "    }\n",
       "</style>\n",
       "<table border=\"1\" class=\"dataframe\">\n",
       "  <thead>\n",
       "    <tr style=\"text-align: right;\">\n",
       "      <th></th>\n",
       "      <th>begin_year</th>\n",
       "      <th>customer_churn</th>\n",
       "      <th>count</th>\n",
       "    </tr>\n",
       "  </thead>\n",
       "  <tbody>\n",
       "    <tr>\n",
       "      <th>0</th>\n",
       "      <td>2013</td>\n",
       "      <td>0</td>\n",
       "      <td>8</td>\n",
       "    </tr>\n",
       "    <tr>\n",
       "      <th>1</th>\n",
       "      <td>2014</td>\n",
       "      <td>1</td>\n",
       "      <td>1246</td>\n",
       "    </tr>\n",
       "    <tr>\n",
       "      <th>2</th>\n",
       "      <td>2014</td>\n",
       "      <td>0</td>\n",
       "      <td>98</td>\n",
       "    </tr>\n",
       "    <tr>\n",
       "      <th>3</th>\n",
       "      <td>2015</td>\n",
       "      <td>1</td>\n",
       "      <td>729</td>\n",
       "    </tr>\n",
       "    <tr>\n",
       "      <th>4</th>\n",
       "      <td>2015</td>\n",
       "      <td>0</td>\n",
       "      <td>123</td>\n",
       "    </tr>\n",
       "    <tr>\n",
       "      <th>5</th>\n",
       "      <td>2016</td>\n",
       "      <td>1</td>\n",
       "      <td>618</td>\n",
       "    </tr>\n",
       "    <tr>\n",
       "      <th>6</th>\n",
       "      <td>2016</td>\n",
       "      <td>0</td>\n",
       "      <td>145</td>\n",
       "    </tr>\n",
       "    <tr>\n",
       "      <th>7</th>\n",
       "      <td>2017</td>\n",
       "      <td>1</td>\n",
       "      <td>646</td>\n",
       "    </tr>\n",
       "    <tr>\n",
       "      <th>8</th>\n",
       "      <td>2017</td>\n",
       "      <td>0</td>\n",
       "      <td>199</td>\n",
       "    </tr>\n",
       "    <tr>\n",
       "      <th>9</th>\n",
       "      <td>2018</td>\n",
       "      <td>1</td>\n",
       "      <td>715</td>\n",
       "    </tr>\n",
       "    <tr>\n",
       "      <th>10</th>\n",
       "      <td>2018</td>\n",
       "      <td>0</td>\n",
       "      <td>315</td>\n",
       "    </tr>\n",
       "    <tr>\n",
       "      <th>11</th>\n",
       "      <td>2019</td>\n",
       "      <td>0</td>\n",
       "      <td>981</td>\n",
       "    </tr>\n",
       "    <tr>\n",
       "      <th>12</th>\n",
       "      <td>2019</td>\n",
       "      <td>1</td>\n",
       "      <td>976</td>\n",
       "    </tr>\n",
       "    <tr>\n",
       "      <th>13</th>\n",
       "      <td>2020</td>\n",
       "      <td>1</td>\n",
       "      <td>233</td>\n",
       "    </tr>\n",
       "  </tbody>\n",
       "</table>\n",
       "</div>"
      ],
      "text/plain": [
       "    begin_year  customer_churn  count\n",
       "0         2013               0      8\n",
       "1         2014               1   1246\n",
       "2         2014               0     98\n",
       "3         2015               1    729\n",
       "4         2015               0    123\n",
       "5         2016               1    618\n",
       "6         2016               0    145\n",
       "7         2017               1    646\n",
       "8         2017               0    199\n",
       "9         2018               1    715\n",
       "10        2018               0    315\n",
       "11        2019               0    981\n",
       "12        2019               1    976\n",
       "13        2020               1    233"
      ]
     },
     "metadata": {},
     "output_type": "display_data"
    },
    {
     "name": "stdout",
     "output_type": "stream",
     "text": [
      "<class 'pandas.core.frame.DataFrame'>\n",
      "RangeIndex: 14 entries, 0 to 13\n",
      "Data columns (total 3 columns):\n",
      " #   Column          Non-Null Count  Dtype\n",
      "---  ------          --------------  -----\n",
      " 0   begin_year      14 non-null     int64\n",
      " 1   customer_churn  14 non-null     int64\n",
      " 2   count           14 non-null     int64\n",
      "dtypes: int64(3)\n",
      "memory usage: 464.0 bytes\n"
     ]
    },
    {
     "data": {
      "text/plain": [
       "None"
      ]
     },
     "metadata": {},
     "output_type": "display_data"
    },
    {
     "data": {
      "image/png": "[encoded data removed]",
      "text/plain": [
       "<Figure size 622.736x500 with 1 Axes>"
      ]
     },
     "metadata": {},
     "output_type": "display_data"
    }
   ],
   "source": [
    "# Check 'begin_year' column for relationship to 'customer_churn'\n",
    "year_df = (\n",
    "    df.groupby('begin_year')['customer_churn']\n",
    "    .value_counts()\n",
    "    .rename('count')  # Rename the column to avoid conflicts\n",
    "    .reset_index()\n",
    ")\n",
    "\n",
    "# Display the processed DataFrame and its info\n",
    "display(year_df)\n",
    "display(year_df.info())\n",
    "\n",
    "# Plot the data\n",
    "sns.relplot(data=year_df, x='begin_year', y='count', hue='customer_churn', kind='line')\n",
    "plt.title('Customer Churn over the Years')\n",
    "plt.show()"
   ]
  },
  {
   "cell_type": "markdown",
   "metadata": {},
   "source": [
    "Starting in 2013, there is a noticeable increase in the total number of customers leaving Interconnect based on their start date. This trend may be linked to a potential service change in 2018 or 2019, as most current customers are longer-term subscribers. The start dates of 2018 and 2019 recorded the highest number of churned customers, with a significant portion of total churn occurring among customers who began their contracts in 2019.\n",
    "\n",
    "The end date was not a key factor in this analysis, as the dataset included only four end dates for customers who churned, each occurring with nearly equal frequency."
   ]
  },
  {
   "cell_type": "code",
   "execution_count": 26,
   "metadata": {
    "scrolled": false
   },
   "outputs": [
    {
     "data": {
      "text/html": [
       "<div>\n",
       "<style scoped>\n",
       "    .dataframe tbody tr th:only-of-type {\n",
       "        vertical-align: middle;\n",
       "    }\n",
       "\n",
       "    .dataframe tbody tr th {\n",
       "        vertical-align: top;\n",
       "    }\n",
       "\n",
       "    .dataframe thead th {\n",
       "        text-align: right;\n",
       "    }\n",
       "</style>\n",
       "<table border=\"1\" class=\"dataframe\">\n",
       "  <thead>\n",
       "    <tr style=\"text-align: right;\">\n",
       "      <th></th>\n",
       "      <th>begin_month</th>\n",
       "      <th>customer_churn</th>\n",
       "      <th>count</th>\n",
       "    </tr>\n",
       "  </thead>\n",
       "  <tbody>\n",
       "    <tr>\n",
       "      <th>0</th>\n",
       "      <td>1</td>\n",
       "      <td>1</td>\n",
       "      <td>529</td>\n",
       "    </tr>\n",
       "    <tr>\n",
       "      <th>1</th>\n",
       "      <td>1</td>\n",
       "      <td>0</td>\n",
       "      <td>94</td>\n",
       "    </tr>\n",
       "    <tr>\n",
       "      <th>2</th>\n",
       "      <td>2</td>\n",
       "      <td>1</td>\n",
       "      <td>671</td>\n",
       "    </tr>\n",
       "    <tr>\n",
       "      <th>3</th>\n",
       "      <td>2</td>\n",
       "      <td>0</td>\n",
       "      <td>122</td>\n",
       "    </tr>\n",
       "    <tr>\n",
       "      <th>4</th>\n",
       "      <td>3</td>\n",
       "      <td>1</td>\n",
       "      <td>483</td>\n",
       "    </tr>\n",
       "    <tr>\n",
       "      <th>5</th>\n",
       "      <td>3</td>\n",
       "      <td>0</td>\n",
       "      <td>107</td>\n",
       "    </tr>\n",
       "    <tr>\n",
       "      <th>6</th>\n",
       "      <td>4</td>\n",
       "      <td>1</td>\n",
       "      <td>413</td>\n",
       "    </tr>\n",
       "    <tr>\n",
       "      <th>7</th>\n",
       "      <td>4</td>\n",
       "      <td>0</td>\n",
       "      <td>98</td>\n",
       "    </tr>\n",
       "    <tr>\n",
       "      <th>8</th>\n",
       "      <td>5</td>\n",
       "      <td>1</td>\n",
       "      <td>368</td>\n",
       "    </tr>\n",
       "    <tr>\n",
       "      <th>9</th>\n",
       "      <td>5</td>\n",
       "      <td>0</td>\n",
       "      <td>126</td>\n",
       "    </tr>\n",
       "    <tr>\n",
       "      <th>10</th>\n",
       "      <td>6</td>\n",
       "      <td>1</td>\n",
       "      <td>390</td>\n",
       "    </tr>\n",
       "    <tr>\n",
       "      <th>11</th>\n",
       "      <td>6</td>\n",
       "      <td>0</td>\n",
       "      <td>132</td>\n",
       "    </tr>\n",
       "    <tr>\n",
       "      <th>12</th>\n",
       "      <td>7</td>\n",
       "      <td>1</td>\n",
       "      <td>376</td>\n",
       "    </tr>\n",
       "    <tr>\n",
       "      <th>13</th>\n",
       "      <td>7</td>\n",
       "      <td>0</td>\n",
       "      <td>142</td>\n",
       "    </tr>\n",
       "    <tr>\n",
       "      <th>14</th>\n",
       "      <td>8</td>\n",
       "      <td>1</td>\n",
       "      <td>381</td>\n",
       "    </tr>\n",
       "    <tr>\n",
       "      <th>15</th>\n",
       "      <td>8</td>\n",
       "      <td>0</td>\n",
       "      <td>151</td>\n",
       "    </tr>\n",
       "    <tr>\n",
       "      <th>16</th>\n",
       "      <td>9</td>\n",
       "      <td>1</td>\n",
       "      <td>366</td>\n",
       "    </tr>\n",
       "    <tr>\n",
       "      <th>17</th>\n",
       "      <td>9</td>\n",
       "      <td>0</td>\n",
       "      <td>257</td>\n",
       "    </tr>\n",
       "    <tr>\n",
       "      <th>18</th>\n",
       "      <td>10</td>\n",
       "      <td>1</td>\n",
       "      <td>389</td>\n",
       "    </tr>\n",
       "    <tr>\n",
       "      <th>19</th>\n",
       "      <td>10</td>\n",
       "      <td>0</td>\n",
       "      <td>212</td>\n",
       "    </tr>\n",
       "    <tr>\n",
       "      <th>20</th>\n",
       "      <td>11</td>\n",
       "      <td>1</td>\n",
       "      <td>397</td>\n",
       "    </tr>\n",
       "    <tr>\n",
       "      <th>21</th>\n",
       "      <td>11</td>\n",
       "      <td>0</td>\n",
       "      <td>224</td>\n",
       "    </tr>\n",
       "    <tr>\n",
       "      <th>22</th>\n",
       "      <td>12</td>\n",
       "      <td>1</td>\n",
       "      <td>400</td>\n",
       "    </tr>\n",
       "    <tr>\n",
       "      <th>23</th>\n",
       "      <td>12</td>\n",
       "      <td>0</td>\n",
       "      <td>204</td>\n",
       "    </tr>\n",
       "  </tbody>\n",
       "</table>\n",
       "</div>"
      ],
      "text/plain": [
       "    begin_month  customer_churn  count\n",
       "0             1               1    529\n",
       "1             1               0     94\n",
       "2             2               1    671\n",
       "3             2               0    122\n",
       "4             3               1    483\n",
       "5             3               0    107\n",
       "6             4               1    413\n",
       "7             4               0     98\n",
       "8             5               1    368\n",
       "9             5               0    126\n",
       "10            6               1    390\n",
       "11            6               0    132\n",
       "12            7               1    376\n",
       "13            7               0    142\n",
       "14            8               1    381\n",
       "15            8               0    151\n",
       "16            9               1    366\n",
       "17            9               0    257\n",
       "18           10               1    389\n",
       "19           10               0    212\n",
       "20           11               1    397\n",
       "21           11               0    224\n",
       "22           12               1    400\n",
       "23           12               0    204"
      ]
     },
     "metadata": {},
     "output_type": "display_data"
    },
    {
     "name": "stdout",
     "output_type": "stream",
     "text": [
      "<class 'pandas.core.frame.DataFrame'>\n",
      "RangeIndex: 24 entries, 0 to 23\n",
      "Data columns (total 3 columns):\n",
      " #   Column          Non-Null Count  Dtype\n",
      "---  ------          --------------  -----\n",
      " 0   begin_month     24 non-null     int64\n",
      " 1   customer_churn  24 non-null     int64\n",
      " 2   count           24 non-null     int64\n",
      "dtypes: int64(3)\n",
      "memory usage: 704.0 bytes\n"
     ]
    },
    {
     "data": {
      "text/plain": [
       "None"
      ]
     },
     "metadata": {},
     "output_type": "display_data"
    },
    {
     "data": {
      "image/png": "[encoded data removed]",
      "text/plain": [
       "<Figure size 622.736x500 with 1 Axes>"
      ]
     },
     "metadata": {},
     "output_type": "display_data"
    }
   ],
   "source": [
    "#check 'begin_month' column for relationship to 'customer churn'\n",
    "month_df = (\n",
    "    df.groupby('begin_month')['customer_churn']\n",
    "    .value_counts()\n",
    "    .rename('count')  # Rename the column to avoid conflicts\n",
    "    .reset_index()\n",
    ")\n",
    "\n",
    "# Display the processed DataFrame and its info\n",
    "display(month_df)\n",
    "display(month_df.info())\n",
    "\n",
    "# Plot the data\n",
    "sns.relplot(data=month_df, x='begin_month', y='count', hue='customer_churn', kind='line')\n",
    "plt.title('Customer Churn over the months')\n",
    "plt.show()\n"
   ]
  },
  {
   "cell_type": "markdown",
   "metadata": {},
   "source": [
    "A significant number of customers who churned had started their contracts in the fourth quarter of the year, particularly in September and the later months."
   ]
  },
  {
   "cell_type": "code",
   "execution_count": 27,
   "metadata": {},
   "outputs": [
    {
     "data": {
      "text/html": [
       "<div>\n",
       "<style scoped>\n",
       "    .dataframe tbody tr th:only-of-type {\n",
       "        vertical-align: middle;\n",
       "    }\n",
       "\n",
       "    .dataframe tbody tr th {\n",
       "        vertical-align: top;\n",
       "    }\n",
       "\n",
       "    .dataframe thead th {\n",
       "        text-align: right;\n",
       "    }\n",
       "</style>\n",
       "<table border=\"1\" class=\"dataframe\">\n",
       "  <thead>\n",
       "    <tr style=\"text-align: right;\">\n",
       "      <th></th>\n",
       "      <th>begin_day_of_week</th>\n",
       "      <th>customer_churn</th>\n",
       "      <th>count</th>\n",
       "    </tr>\n",
       "  </thead>\n",
       "  <tbody>\n",
       "    <tr>\n",
       "      <th>0</th>\n",
       "      <td>0</td>\n",
       "      <td>1</td>\n",
       "      <td>617</td>\n",
       "    </tr>\n",
       "    <tr>\n",
       "      <th>1</th>\n",
       "      <td>0</td>\n",
       "      <td>0</td>\n",
       "      <td>230</td>\n",
       "    </tr>\n",
       "    <tr>\n",
       "      <th>2</th>\n",
       "      <td>1</td>\n",
       "      <td>1</td>\n",
       "      <td>672</td>\n",
       "    </tr>\n",
       "    <tr>\n",
       "      <th>3</th>\n",
       "      <td>1</td>\n",
       "      <td>0</td>\n",
       "      <td>276</td>\n",
       "    </tr>\n",
       "    <tr>\n",
       "      <th>4</th>\n",
       "      <td>2</td>\n",
       "      <td>1</td>\n",
       "      <td>783</td>\n",
       "    </tr>\n",
       "    <tr>\n",
       "      <th>5</th>\n",
       "      <td>2</td>\n",
       "      <td>0</td>\n",
       "      <td>180</td>\n",
       "    </tr>\n",
       "    <tr>\n",
       "      <th>6</th>\n",
       "      <td>3</td>\n",
       "      <td>1</td>\n",
       "      <td>654</td>\n",
       "    </tr>\n",
       "    <tr>\n",
       "      <th>7</th>\n",
       "      <td>3</td>\n",
       "      <td>0</td>\n",
       "      <td>219</td>\n",
       "    </tr>\n",
       "    <tr>\n",
       "      <th>8</th>\n",
       "      <td>4</td>\n",
       "      <td>1</td>\n",
       "      <td>723</td>\n",
       "    </tr>\n",
       "    <tr>\n",
       "      <th>9</th>\n",
       "      <td>4</td>\n",
       "      <td>0</td>\n",
       "      <td>345</td>\n",
       "    </tr>\n",
       "    <tr>\n",
       "      <th>10</th>\n",
       "      <td>5</td>\n",
       "      <td>1</td>\n",
       "      <td>990</td>\n",
       "    </tr>\n",
       "    <tr>\n",
       "      <th>11</th>\n",
       "      <td>5</td>\n",
       "      <td>0</td>\n",
       "      <td>224</td>\n",
       "    </tr>\n",
       "    <tr>\n",
       "      <th>12</th>\n",
       "      <td>6</td>\n",
       "      <td>1</td>\n",
       "      <td>724</td>\n",
       "    </tr>\n",
       "    <tr>\n",
       "      <th>13</th>\n",
       "      <td>6</td>\n",
       "      <td>0</td>\n",
       "      <td>395</td>\n",
       "    </tr>\n",
       "  </tbody>\n",
       "</table>\n",
       "</div>"
      ],
      "text/plain": [
       "    begin_day_of_week  customer_churn  count\n",
       "0                   0               1    617\n",
       "1                   0               0    230\n",
       "2                   1               1    672\n",
       "3                   1               0    276\n",
       "4                   2               1    783\n",
       "5                   2               0    180\n",
       "6                   3               1    654\n",
       "7                   3               0    219\n",
       "8                   4               1    723\n",
       "9                   4               0    345\n",
       "10                  5               1    990\n",
       "11                  5               0    224\n",
       "12                  6               1    724\n",
       "13                  6               0    395"
      ]
     },
     "metadata": {},
     "output_type": "display_data"
    },
    {
     "name": "stdout",
     "output_type": "stream",
     "text": [
      "<class 'pandas.core.frame.DataFrame'>\n",
      "RangeIndex: 14 entries, 0 to 13\n",
      "Data columns (total 3 columns):\n",
      " #   Column             Non-Null Count  Dtype\n",
      "---  ------             --------------  -----\n",
      " 0   begin_day_of_week  14 non-null     int64\n",
      " 1   customer_churn     14 non-null     int64\n",
      " 2   count              14 non-null     int64\n",
      "dtypes: int64(3)\n",
      "memory usage: 464.0 bytes\n"
     ]
    },
    {
     "data": {
      "text/plain": [
       "None"
      ]
     },
     "metadata": {},
     "output_type": "display_data"
    },
    {
     "data": {
      "image/png": "[encoded data removed]",
      "text/plain": [
       "<Figure size 622.736x500 with 1 Axes>"
      ]
     },
     "metadata": {},
     "output_type": "display_data"
    }
   ],
   "source": [
    "#check 'begin_day_of_week' column for relationship to 'customer churn'\n",
    "day_df = (\n",
    "    df.groupby('begin_day_of_week')['customer_churn']\n",
    "    .value_counts()\n",
    "    .rename('count')  # Rename the column to avoid conflicts\n",
    "    .reset_index()\n",
    ")\n",
    "\n",
    "# Display the processed DataFrame and its info\n",
    "display(day_df)\n",
    "display(day_df.info())\n",
    "\n",
    "# Plot the data\n",
    "sns.relplot(data=day_df, x='begin_day_of_week', y='count', hue='customer_churn', kind='line')\n",
    "plt.title('Customer Churn by Days of Week')\n",
    "plt.show()\n"
   ]
  },
  {
   "cell_type": "markdown",
   "metadata": {},
   "source": [
    "The majority of customers who are no longer under contract with Interconnect began their service on Thursdays and Saturdays, during the months of September to December, and in the years 2018 and 2019."
   ]
  },
  {
   "cell_type": "code",
   "execution_count": 28,
   "metadata": {
    "scrolled": true
   },
   "outputs": [
    {
     "data": {
      "image/png": "[encoded data removed]",
      "text/plain": [
       "<Figure size 1500x1000 with 6 Axes>"
      ]
     },
     "metadata": {},
     "output_type": "display_data"
    }
   ],
   "source": [
    "#Analyzing additional features\n",
    "fig = plt.figure(figsize = (15, 10))\n",
    "\n",
    "ax1 = fig.add_subplot(2,3,1)\n",
    "sns.countplot(data=df, x='online_security', ax=ax1)\n",
    "plt.xlabel('Customers Registered for Online Security')\n",
    "\n",
    "ax2 = fig.add_subplot(2,3,2)\n",
    "plt.title('Additional Features')\n",
    "sns.countplot(data=df, x='online_backup', ax=ax2)\n",
    "plt.xlabel('Customers Registered for Online Backup')\n",
    "\n",
    "ax3 = fig.add_subplot(2,3,3)\n",
    "sns.countplot(data=df, x='device_protection', ax=ax3)\n",
    "plt.xlabel('Customers Registered for Device Protection')\n",
    "\n",
    "ax4 = fig.add_subplot(2,3,4)\n",
    "sns.boxplot(data=df, x='begin_month', y='total_charges', ax=ax4)\n",
    "plt.xlabel('Total Charges by Beginning Month')\n",
    "\n",
    "ax5 = fig.add_subplot(2,3,5)\n",
    "sns.boxplot(data=df, x='begin_month', y='monthly_charges', ax=ax5)\n",
    "plt.xlabel('Monthly Charges by Beginning Month')\n",
    "\n",
    "ax6 = fig.add_subplot(2,3,6)\n",
    "sns.boxplot(data=df, x='begin_year', y='monthly_charges', ax=ax6)\n",
    "plt.xlabel('Monthly Charges by Beginning Year')\n",
    "\n",
    "plt.show()"
   ]
  },
  {
   "cell_type": "markdown",
   "metadata": {},
   "source": [
    "While total charges decreased for customers signing up later in the calendar year, median monthly charges remained relatively consistent across all 12 months, except for a noticeable dip in January sign-ups. This could be attributed to discounts offered by the company at the start of the year. Additionally, median monthly charges by contract start year showed little variation, apart from a significant price drop in 2020. This decline might be due to the decrease in customers following the high churn rates in 2018 and 2019 or a strategic decision by the company to lower prices in 2020 to attract new customers in response to the churn."
   ]
  },
  {
   "cell_type": "markdown",
   "metadata": {},
   "source": [
    "# Encoding"
   ]
  },
  {
   "cell_type": "code",
   "execution_count": 29,
   "metadata": {},
   "outputs": [
    {
     "name": "stdout",
     "output_type": "stream",
     "text": [
      "<class 'pandas.core.frame.DataFrame'>\n",
      "Int64Index: 7032 entries, 0 to 7042\n",
      "Data columns (total 27 columns):\n",
      " #   Column                                    Non-Null Count  Dtype  \n",
      "---  ------                                    --------------  -----  \n",
      " 0   monthly_charges                           7032 non-null   float64\n",
      " 1   total_charges                             7032 non-null   float64\n",
      " 2   gender                                    7032 non-null   object \n",
      " 3   senior_citizen                            7032 non-null   int64  \n",
      " 4   partner                                   7032 non-null   object \n",
      " 5   dependents                                7032 non-null   object \n",
      " 6   internet_service                          7032 non-null   object \n",
      " 7   online_security                           7032 non-null   object \n",
      " 8   online_backup                             7032 non-null   object \n",
      " 9   device_protection                         7032 non-null   object \n",
      " 10  tech_support                              7032 non-null   object \n",
      " 11  streaming_tv                              7032 non-null   object \n",
      " 12  streaming_movies                          7032 non-null   object \n",
      " 13  multiple_lines                            7032 non-null   object \n",
      " 14  customer_churn                            7032 non-null   int64  \n",
      " 15  begin_year                                7032 non-null   int64  \n",
      " 16  begin_month                               7032 non-null   int64  \n",
      " 17  begin_day_of_week                         7032 non-null   int64  \n",
      " 18  payment_method_Bank transfer (automatic)  7032 non-null   bool   \n",
      " 19  payment_method_Credit card (automatic)    7032 non-null   bool   \n",
      " 20  payment_method_Electronic check           7032 non-null   bool   \n",
      " 21  payment_method_Mailed check               7032 non-null   bool   \n",
      " 22  paperless_billing_No                      7032 non-null   bool   \n",
      " 23  paperless_billing_Yes                     7032 non-null   bool   \n",
      " 24  type_Month-to-month                       7032 non-null   bool   \n",
      " 25  type_One year                             7032 non-null   bool   \n",
      " 26  type_Two year                             7032 non-null   bool   \n",
      "dtypes: bool(9), float64(2), int64(5), object(11)\n",
      "memory usage: 1.3+ MB\n"
     ]
    }
   ],
   "source": [
    "#one hot encode the 'payment_method', 'paperless_billing', and 'type' columns.\n",
    "df = pd.get_dummies(df, columns=['payment_method', 'paperless_billing', 'type'])\n",
    "\n",
    "# Convert the resulting columns to boolean type\n",
    "dummy_columns = [col for col in df.columns if 'payment_method_' in col or 'paperless_billing_' in col or 'type_' in col]\n",
    "df[dummy_columns] = df[dummy_columns].astype(bool)\n",
    "\n",
    "# Check the updated info\n",
    "df.info()"
   ]
  },
  {
   "cell_type": "code",
   "execution_count": 30,
   "metadata": {
    "scrolled": true
   },
   "outputs": [
    {
     "data": {
      "text/html": [
       "<div>\n",
       "<style scoped>\n",
       "    .dataframe tbody tr th:only-of-type {\n",
       "        vertical-align: middle;\n",
       "    }\n",
       "\n",
       "    .dataframe tbody tr th {\n",
       "        vertical-align: top;\n",
       "    }\n",
       "\n",
       "    .dataframe thead th {\n",
       "        text-align: right;\n",
       "    }\n",
       "</style>\n",
       "<table border=\"1\" class=\"dataframe\">\n",
       "  <thead>\n",
       "    <tr style=\"text-align: right;\">\n",
       "      <th></th>\n",
       "      <th>monthly_charges</th>\n",
       "      <th>total_charges</th>\n",
       "      <th>gender</th>\n",
       "      <th>senior_citizen</th>\n",
       "      <th>partner</th>\n",
       "      <th>dependents</th>\n",
       "      <th>internet_service</th>\n",
       "      <th>online_security</th>\n",
       "      <th>online_backup</th>\n",
       "      <th>device_protection</th>\n",
       "      <th>...</th>\n",
       "      <th>begin_day_of_week</th>\n",
       "      <th>payment_method_Bank transfer (automatic)</th>\n",
       "      <th>payment_method_Credit card (automatic)</th>\n",
       "      <th>payment_method_Electronic check</th>\n",
       "      <th>payment_method_Mailed check</th>\n",
       "      <th>paperless_billing_No</th>\n",
       "      <th>paperless_billing_Yes</th>\n",
       "      <th>type_Month-to-month</th>\n",
       "      <th>type_One year</th>\n",
       "      <th>type_Two year</th>\n",
       "    </tr>\n",
       "  </thead>\n",
       "  <tbody>\n",
       "    <tr>\n",
       "      <th>7041</th>\n",
       "      <td>74.40</td>\n",
       "      <td>306.60</td>\n",
       "      <td>1</td>\n",
       "      <td>1</td>\n",
       "      <td>1</td>\n",
       "      <td>0</td>\n",
       "      <td>1</td>\n",
       "      <td>0</td>\n",
       "      <td>0</td>\n",
       "      <td>0</td>\n",
       "      <td>...</td>\n",
       "      <td>0</td>\n",
       "      <td>False</td>\n",
       "      <td>False</td>\n",
       "      <td>False</td>\n",
       "      <td>True</td>\n",
       "      <td>False</td>\n",
       "      <td>True</td>\n",
       "      <td>True</td>\n",
       "      <td>False</td>\n",
       "      <td>False</td>\n",
       "    </tr>\n",
       "    <tr>\n",
       "      <th>4747</th>\n",
       "      <td>20.60</td>\n",
       "      <td>754.00</td>\n",
       "      <td>1</td>\n",
       "      <td>0</td>\n",
       "      <td>0</td>\n",
       "      <td>0</td>\n",
       "      <td>2</td>\n",
       "      <td>1</td>\n",
       "      <td>1</td>\n",
       "      <td>1</td>\n",
       "      <td>...</td>\n",
       "      <td>2</td>\n",
       "      <td>True</td>\n",
       "      <td>False</td>\n",
       "      <td>False</td>\n",
       "      <td>False</td>\n",
       "      <td>True</td>\n",
       "      <td>False</td>\n",
       "      <td>False</td>\n",
       "      <td>True</td>\n",
       "      <td>False</td>\n",
       "    </tr>\n",
       "    <tr>\n",
       "      <th>1536</th>\n",
       "      <td>75.75</td>\n",
       "      <td>5388.15</td>\n",
       "      <td>1</td>\n",
       "      <td>0</td>\n",
       "      <td>1</td>\n",
       "      <td>1</td>\n",
       "      <td>0</td>\n",
       "      <td>2</td>\n",
       "      <td>2</td>\n",
       "      <td>2</td>\n",
       "      <td>...</td>\n",
       "      <td>3</td>\n",
       "      <td>True</td>\n",
       "      <td>False</td>\n",
       "      <td>False</td>\n",
       "      <td>False</td>\n",
       "      <td>False</td>\n",
       "      <td>True</td>\n",
       "      <td>False</td>\n",
       "      <td>False</td>\n",
       "      <td>True</td>\n",
       "    </tr>\n",
       "    <tr>\n",
       "      <th>2746</th>\n",
       "      <td>21.00</td>\n",
       "      <td>697.70</td>\n",
       "      <td>0</td>\n",
       "      <td>0</td>\n",
       "      <td>1</td>\n",
       "      <td>1</td>\n",
       "      <td>2</td>\n",
       "      <td>1</td>\n",
       "      <td>1</td>\n",
       "      <td>1</td>\n",
       "      <td>...</td>\n",
       "      <td>5</td>\n",
       "      <td>False</td>\n",
       "      <td>False</td>\n",
       "      <td>False</td>\n",
       "      <td>True</td>\n",
       "      <td>True</td>\n",
       "      <td>False</td>\n",
       "      <td>False</td>\n",
       "      <td>False</td>\n",
       "      <td>True</td>\n",
       "    </tr>\n",
       "    <tr>\n",
       "      <th>5857</th>\n",
       "      <td>88.25</td>\n",
       "      <td>1460.65</td>\n",
       "      <td>0</td>\n",
       "      <td>0</td>\n",
       "      <td>1</td>\n",
       "      <td>1</td>\n",
       "      <td>1</td>\n",
       "      <td>0</td>\n",
       "      <td>0</td>\n",
       "      <td>2</td>\n",
       "      <td>...</td>\n",
       "      <td>4</td>\n",
       "      <td>False</td>\n",
       "      <td>False</td>\n",
       "      <td>True</td>\n",
       "      <td>False</td>\n",
       "      <td>True</td>\n",
       "      <td>False</td>\n",
       "      <td>True</td>\n",
       "      <td>False</td>\n",
       "      <td>False</td>\n",
       "    </tr>\n",
       "    <tr>\n",
       "      <th>591</th>\n",
       "      <td>24.90</td>\n",
       "      <td>1174.80</td>\n",
       "      <td>1</td>\n",
       "      <td>0</td>\n",
       "      <td>1</td>\n",
       "      <td>1</td>\n",
       "      <td>2</td>\n",
       "      <td>1</td>\n",
       "      <td>1</td>\n",
       "      <td>1</td>\n",
       "      <td>...</td>\n",
       "      <td>4</td>\n",
       "      <td>False</td>\n",
       "      <td>False</td>\n",
       "      <td>True</td>\n",
       "      <td>False</td>\n",
       "      <td>True</td>\n",
       "      <td>False</td>\n",
       "      <td>False</td>\n",
       "      <td>True</td>\n",
       "      <td>False</td>\n",
       "    </tr>\n",
       "    <tr>\n",
       "      <th>820</th>\n",
       "      <td>106.35</td>\n",
       "      <td>6751.35</td>\n",
       "      <td>0</td>\n",
       "      <td>0</td>\n",
       "      <td>1</td>\n",
       "      <td>0</td>\n",
       "      <td>1</td>\n",
       "      <td>0</td>\n",
       "      <td>0</td>\n",
       "      <td>2</td>\n",
       "      <td>...</td>\n",
       "      <td>3</td>\n",
       "      <td>False</td>\n",
       "      <td>False</td>\n",
       "      <td>True</td>\n",
       "      <td>False</td>\n",
       "      <td>False</td>\n",
       "      <td>True</td>\n",
       "      <td>True</td>\n",
       "      <td>False</td>\n",
       "      <td>False</td>\n",
       "    </tr>\n",
       "    <tr>\n",
       "      <th>873</th>\n",
       "      <td>50.80</td>\n",
       "      <td>3027.40</td>\n",
       "      <td>0</td>\n",
       "      <td>0</td>\n",
       "      <td>0</td>\n",
       "      <td>0</td>\n",
       "      <td>0</td>\n",
       "      <td>0</td>\n",
       "      <td>2</td>\n",
       "      <td>0</td>\n",
       "      <td>...</td>\n",
       "      <td>5</td>\n",
       "      <td>False</td>\n",
       "      <td>False</td>\n",
       "      <td>True</td>\n",
       "      <td>False</td>\n",
       "      <td>False</td>\n",
       "      <td>True</td>\n",
       "      <td>True</td>\n",
       "      <td>False</td>\n",
       "      <td>False</td>\n",
       "    </tr>\n",
       "    <tr>\n",
       "      <th>3740</th>\n",
       "      <td>71.65</td>\n",
       "      <td>135.75</td>\n",
       "      <td>0</td>\n",
       "      <td>0</td>\n",
       "      <td>1</td>\n",
       "      <td>1</td>\n",
       "      <td>1</td>\n",
       "      <td>0</td>\n",
       "      <td>0</td>\n",
       "      <td>0</td>\n",
       "      <td>...</td>\n",
       "      <td>6</td>\n",
       "      <td>False</td>\n",
       "      <td>False</td>\n",
       "      <td>True</td>\n",
       "      <td>False</td>\n",
       "      <td>False</td>\n",
       "      <td>True</td>\n",
       "      <td>True</td>\n",
       "      <td>False</td>\n",
       "      <td>False</td>\n",
       "    </tr>\n",
       "    <tr>\n",
       "      <th>2445</th>\n",
       "      <td>74.40</td>\n",
       "      <td>1972.35</td>\n",
       "      <td>0</td>\n",
       "      <td>0</td>\n",
       "      <td>1</td>\n",
       "      <td>1</td>\n",
       "      <td>1</td>\n",
       "      <td>2</td>\n",
       "      <td>0</td>\n",
       "      <td>0</td>\n",
       "      <td>...</td>\n",
       "      <td>2</td>\n",
       "      <td>False</td>\n",
       "      <td>False</td>\n",
       "      <td>False</td>\n",
       "      <td>True</td>\n",
       "      <td>True</td>\n",
       "      <td>False</td>\n",
       "      <td>True</td>\n",
       "      <td>False</td>\n",
       "      <td>False</td>\n",
       "    </tr>\n",
       "    <tr>\n",
       "      <th>2849</th>\n",
       "      <td>20.30</td>\n",
       "      <td>246.70</td>\n",
       "      <td>0</td>\n",
       "      <td>0</td>\n",
       "      <td>0</td>\n",
       "      <td>0</td>\n",
       "      <td>2</td>\n",
       "      <td>1</td>\n",
       "      <td>1</td>\n",
       "      <td>1</td>\n",
       "      <td>...</td>\n",
       "      <td>4</td>\n",
       "      <td>False</td>\n",
       "      <td>False</td>\n",
       "      <td>False</td>\n",
       "      <td>True</td>\n",
       "      <td>True</td>\n",
       "      <td>False</td>\n",
       "      <td>True</td>\n",
       "      <td>False</td>\n",
       "      <td>False</td>\n",
       "    </tr>\n",
       "    <tr>\n",
       "      <th>2875</th>\n",
       "      <td>85.10</td>\n",
       "      <td>1873.70</td>\n",
       "      <td>1</td>\n",
       "      <td>0</td>\n",
       "      <td>1</td>\n",
       "      <td>0</td>\n",
       "      <td>1</td>\n",
       "      <td>0</td>\n",
       "      <td>0</td>\n",
       "      <td>0</td>\n",
       "      <td>...</td>\n",
       "      <td>3</td>\n",
       "      <td>False</td>\n",
       "      <td>False</td>\n",
       "      <td>True</td>\n",
       "      <td>False</td>\n",
       "      <td>False</td>\n",
       "      <td>True</td>\n",
       "      <td>True</td>\n",
       "      <td>False</td>\n",
       "      <td>False</td>\n",
       "    </tr>\n",
       "    <tr>\n",
       "      <th>6588</th>\n",
       "      <td>23.85</td>\n",
       "      <td>625.65</td>\n",
       "      <td>0</td>\n",
       "      <td>0</td>\n",
       "      <td>1</td>\n",
       "      <td>1</td>\n",
       "      <td>2</td>\n",
       "      <td>1</td>\n",
       "      <td>1</td>\n",
       "      <td>1</td>\n",
       "      <td>...</td>\n",
       "      <td>3</td>\n",
       "      <td>False</td>\n",
       "      <td>False</td>\n",
       "      <td>False</td>\n",
       "      <td>True</td>\n",
       "      <td>True</td>\n",
       "      <td>False</td>\n",
       "      <td>False</td>\n",
       "      <td>False</td>\n",
       "      <td>True</td>\n",
       "    </tr>\n",
       "    <tr>\n",
       "      <th>478</th>\n",
       "      <td>96.10</td>\n",
       "      <td>453.40</td>\n",
       "      <td>1</td>\n",
       "      <td>0</td>\n",
       "      <td>0</td>\n",
       "      <td>0</td>\n",
       "      <td>1</td>\n",
       "      <td>0</td>\n",
       "      <td>0</td>\n",
       "      <td>0</td>\n",
       "      <td>...</td>\n",
       "      <td>5</td>\n",
       "      <td>False</td>\n",
       "      <td>False</td>\n",
       "      <td>True</td>\n",
       "      <td>False</td>\n",
       "      <td>False</td>\n",
       "      <td>True</td>\n",
       "      <td>True</td>\n",
       "      <td>False</td>\n",
       "      <td>False</td>\n",
       "    </tr>\n",
       "    <tr>\n",
       "      <th>5178</th>\n",
       "      <td>108.95</td>\n",
       "      <td>5718.20</td>\n",
       "      <td>0</td>\n",
       "      <td>0</td>\n",
       "      <td>1</td>\n",
       "      <td>0</td>\n",
       "      <td>1</td>\n",
       "      <td>0</td>\n",
       "      <td>2</td>\n",
       "      <td>2</td>\n",
       "      <td>...</td>\n",
       "      <td>1</td>\n",
       "      <td>True</td>\n",
       "      <td>False</td>\n",
       "      <td>False</td>\n",
       "      <td>False</td>\n",
       "      <td>False</td>\n",
       "      <td>True</td>\n",
       "      <td>False</td>\n",
       "      <td>True</td>\n",
       "      <td>False</td>\n",
       "    </tr>\n",
       "    <tr>\n",
       "      <th>3691</th>\n",
       "      <td>63.90</td>\n",
       "      <td>2635.00</td>\n",
       "      <td>0</td>\n",
       "      <td>0</td>\n",
       "      <td>1</td>\n",
       "      <td>0</td>\n",
       "      <td>0</td>\n",
       "      <td>0</td>\n",
       "      <td>2</td>\n",
       "      <td>0</td>\n",
       "      <td>...</td>\n",
       "      <td>5</td>\n",
       "      <td>True</td>\n",
       "      <td>False</td>\n",
       "      <td>False</td>\n",
       "      <td>False</td>\n",
       "      <td>True</td>\n",
       "      <td>False</td>\n",
       "      <td>False</td>\n",
       "      <td>True</td>\n",
       "      <td>False</td>\n",
       "    </tr>\n",
       "    <tr>\n",
       "      <th>3061</th>\n",
       "      <td>106.40</td>\n",
       "      <td>2483.50</td>\n",
       "      <td>1</td>\n",
       "      <td>1</td>\n",
       "      <td>0</td>\n",
       "      <td>0</td>\n",
       "      <td>1</td>\n",
       "      <td>0</td>\n",
       "      <td>2</td>\n",
       "      <td>2</td>\n",
       "      <td>...</td>\n",
       "      <td>3</td>\n",
       "      <td>False</td>\n",
       "      <td>False</td>\n",
       "      <td>True</td>\n",
       "      <td>False</td>\n",
       "      <td>False</td>\n",
       "      <td>True</td>\n",
       "      <td>True</td>\n",
       "      <td>False</td>\n",
       "      <td>False</td>\n",
       "    </tr>\n",
       "    <tr>\n",
       "      <th>3341</th>\n",
       "      <td>43.80</td>\n",
       "      <td>2106.05</td>\n",
       "      <td>0</td>\n",
       "      <td>1</td>\n",
       "      <td>0</td>\n",
       "      <td>0</td>\n",
       "      <td>0</td>\n",
       "      <td>0</td>\n",
       "      <td>0</td>\n",
       "      <td>0</td>\n",
       "      <td>...</td>\n",
       "      <td>4</td>\n",
       "      <td>False</td>\n",
       "      <td>False</td>\n",
       "      <td>False</td>\n",
       "      <td>True</td>\n",
       "      <td>True</td>\n",
       "      <td>False</td>\n",
       "      <td>True</td>\n",
       "      <td>False</td>\n",
       "      <td>False</td>\n",
       "    </tr>\n",
       "    <tr>\n",
       "      <th>4006</th>\n",
       "      <td>19.80</td>\n",
       "      <td>1414.65</td>\n",
       "      <td>1</td>\n",
       "      <td>0</td>\n",
       "      <td>1</td>\n",
       "      <td>1</td>\n",
       "      <td>2</td>\n",
       "      <td>1</td>\n",
       "      <td>1</td>\n",
       "      <td>1</td>\n",
       "      <td>...</td>\n",
       "      <td>5</td>\n",
       "      <td>False</td>\n",
       "      <td>True</td>\n",
       "      <td>False</td>\n",
       "      <td>False</td>\n",
       "      <td>False</td>\n",
       "      <td>True</td>\n",
       "      <td>False</td>\n",
       "      <td>False</td>\n",
       "      <td>True</td>\n",
       "    </tr>\n",
       "    <tr>\n",
       "      <th>1171</th>\n",
       "      <td>94.40</td>\n",
       "      <td>5610.25</td>\n",
       "      <td>1</td>\n",
       "      <td>0</td>\n",
       "      <td>1</td>\n",
       "      <td>0</td>\n",
       "      <td>1</td>\n",
       "      <td>0</td>\n",
       "      <td>2</td>\n",
       "      <td>0</td>\n",
       "      <td>...</td>\n",
       "      <td>0</td>\n",
       "      <td>False</td>\n",
       "      <td>False</td>\n",
       "      <td>True</td>\n",
       "      <td>False</td>\n",
       "      <td>False</td>\n",
       "      <td>True</td>\n",
       "      <td>False</td>\n",
       "      <td>True</td>\n",
       "      <td>False</td>\n",
       "    </tr>\n",
       "    <tr>\n",
       "      <th>2667</th>\n",
       "      <td>115.05</td>\n",
       "      <td>8405.00</td>\n",
       "      <td>0</td>\n",
       "      <td>0</td>\n",
       "      <td>0</td>\n",
       "      <td>0</td>\n",
       "      <td>1</td>\n",
       "      <td>2</td>\n",
       "      <td>2</td>\n",
       "      <td>2</td>\n",
       "      <td>...</td>\n",
       "      <td>5</td>\n",
       "      <td>False</td>\n",
       "      <td>True</td>\n",
       "      <td>False</td>\n",
       "      <td>False</td>\n",
       "      <td>True</td>\n",
       "      <td>False</td>\n",
       "      <td>False</td>\n",
       "      <td>False</td>\n",
       "      <td>True</td>\n",
       "    </tr>\n",
       "    <tr>\n",
       "      <th>4414</th>\n",
       "      <td>20.75</td>\n",
       "      <td>452.20</td>\n",
       "      <td>0</td>\n",
       "      <td>0</td>\n",
       "      <td>0</td>\n",
       "      <td>1</td>\n",
       "      <td>2</td>\n",
       "      <td>1</td>\n",
       "      <td>1</td>\n",
       "      <td>1</td>\n",
       "      <td>...</td>\n",
       "      <td>1</td>\n",
       "      <td>False</td>\n",
       "      <td>False</td>\n",
       "      <td>False</td>\n",
       "      <td>True</td>\n",
       "      <td>True</td>\n",
       "      <td>False</td>\n",
       "      <td>True</td>\n",
       "      <td>False</td>\n",
       "      <td>False</td>\n",
       "    </tr>\n",
       "    <tr>\n",
       "      <th>3582</th>\n",
       "      <td>80.50</td>\n",
       "      <td>232.35</td>\n",
       "      <td>0</td>\n",
       "      <td>0</td>\n",
       "      <td>0</td>\n",
       "      <td>0</td>\n",
       "      <td>1</td>\n",
       "      <td>0</td>\n",
       "      <td>0</td>\n",
       "      <td>0</td>\n",
       "      <td>...</td>\n",
       "      <td>4</td>\n",
       "      <td>False</td>\n",
       "      <td>False</td>\n",
       "      <td>True</td>\n",
       "      <td>False</td>\n",
       "      <td>False</td>\n",
       "      <td>True</td>\n",
       "      <td>True</td>\n",
       "      <td>False</td>\n",
       "      <td>False</td>\n",
       "    </tr>\n",
       "    <tr>\n",
       "      <th>3643</th>\n",
       "      <td>19.05</td>\n",
       "      <td>990.45</td>\n",
       "      <td>0</td>\n",
       "      <td>0</td>\n",
       "      <td>1</td>\n",
       "      <td>0</td>\n",
       "      <td>2</td>\n",
       "      <td>1</td>\n",
       "      <td>1</td>\n",
       "      <td>1</td>\n",
       "      <td>...</td>\n",
       "      <td>1</td>\n",
       "      <td>False</td>\n",
       "      <td>True</td>\n",
       "      <td>False</td>\n",
       "      <td>False</td>\n",
       "      <td>True</td>\n",
       "      <td>False</td>\n",
       "      <td>False</td>\n",
       "      <td>True</td>\n",
       "      <td>False</td>\n",
       "    </tr>\n",
       "    <tr>\n",
       "      <th>2066</th>\n",
       "      <td>24.80</td>\n",
       "      <td>1514.85</td>\n",
       "      <td>1</td>\n",
       "      <td>0</td>\n",
       "      <td>1</td>\n",
       "      <td>1</td>\n",
       "      <td>2</td>\n",
       "      <td>1</td>\n",
       "      <td>1</td>\n",
       "      <td>1</td>\n",
       "      <td>...</td>\n",
       "      <td>2</td>\n",
       "      <td>False</td>\n",
       "      <td>False</td>\n",
       "      <td>False</td>\n",
       "      <td>True</td>\n",
       "      <td>False</td>\n",
       "      <td>True</td>\n",
       "      <td>False</td>\n",
       "      <td>False</td>\n",
       "      <td>True</td>\n",
       "    </tr>\n",
       "    <tr>\n",
       "      <th>6790</th>\n",
       "      <td>25.60</td>\n",
       "      <td>1790.35</td>\n",
       "      <td>0</td>\n",
       "      <td>0</td>\n",
       "      <td>0</td>\n",
       "      <td>0</td>\n",
       "      <td>2</td>\n",
       "      <td>1</td>\n",
       "      <td>1</td>\n",
       "      <td>1</td>\n",
       "      <td>...</td>\n",
       "      <td>1</td>\n",
       "      <td>True</td>\n",
       "      <td>False</td>\n",
       "      <td>False</td>\n",
       "      <td>False</td>\n",
       "      <td>False</td>\n",
       "      <td>True</td>\n",
       "      <td>False</td>\n",
       "      <td>False</td>\n",
       "      <td>True</td>\n",
       "    </tr>\n",
       "    <tr>\n",
       "      <th>1086</th>\n",
       "      <td>89.70</td>\n",
       "      <td>1047.70</td>\n",
       "      <td>0</td>\n",
       "      <td>1</td>\n",
       "      <td>0</td>\n",
       "      <td>0</td>\n",
       "      <td>1</td>\n",
       "      <td>0</td>\n",
       "      <td>0</td>\n",
       "      <td>0</td>\n",
       "      <td>...</td>\n",
       "      <td>5</td>\n",
       "      <td>True</td>\n",
       "      <td>False</td>\n",
       "      <td>False</td>\n",
       "      <td>False</td>\n",
       "      <td>True</td>\n",
       "      <td>False</td>\n",
       "      <td>True</td>\n",
       "      <td>False</td>\n",
       "      <td>False</td>\n",
       "    </tr>\n",
       "    <tr>\n",
       "      <th>5685</th>\n",
       "      <td>19.20</td>\n",
       "      <td>903.70</td>\n",
       "      <td>1</td>\n",
       "      <td>0</td>\n",
       "      <td>1</td>\n",
       "      <td>1</td>\n",
       "      <td>2</td>\n",
       "      <td>1</td>\n",
       "      <td>1</td>\n",
       "      <td>1</td>\n",
       "      <td>...</td>\n",
       "      <td>6</td>\n",
       "      <td>False</td>\n",
       "      <td>False</td>\n",
       "      <td>True</td>\n",
       "      <td>False</td>\n",
       "      <td>True</td>\n",
       "      <td>False</td>\n",
       "      <td>False</td>\n",
       "      <td>False</td>\n",
       "      <td>True</td>\n",
       "    </tr>\n",
       "    <tr>\n",
       "      <th>3125</th>\n",
       "      <td>19.00</td>\n",
       "      <td>78.90</td>\n",
       "      <td>1</td>\n",
       "      <td>0</td>\n",
       "      <td>0</td>\n",
       "      <td>0</td>\n",
       "      <td>2</td>\n",
       "      <td>1</td>\n",
       "      <td>1</td>\n",
       "      <td>1</td>\n",
       "      <td>...</td>\n",
       "      <td>1</td>\n",
       "      <td>False</td>\n",
       "      <td>False</td>\n",
       "      <td>False</td>\n",
       "      <td>True</td>\n",
       "      <td>True</td>\n",
       "      <td>False</td>\n",
       "      <td>True</td>\n",
       "      <td>False</td>\n",
       "      <td>False</td>\n",
       "    </tr>\n",
       "    <tr>\n",
       "      <th>6396</th>\n",
       "      <td>91.95</td>\n",
       "      <td>3301.05</td>\n",
       "      <td>0</td>\n",
       "      <td>1</td>\n",
       "      <td>1</td>\n",
       "      <td>0</td>\n",
       "      <td>1</td>\n",
       "      <td>0</td>\n",
       "      <td>2</td>\n",
       "      <td>0</td>\n",
       "      <td>...</td>\n",
       "      <td>2</td>\n",
       "      <td>False</td>\n",
       "      <td>True</td>\n",
       "      <td>False</td>\n",
       "      <td>False</td>\n",
       "      <td>False</td>\n",
       "      <td>True</td>\n",
       "      <td>True</td>\n",
       "      <td>False</td>\n",
       "      <td>False</td>\n",
       "    </tr>\n",
       "  </tbody>\n",
       "</table>\n",
       "<p>30 rows × 27 columns</p>\n",
       "</div>"
      ],
      "text/plain": [
       "      monthly_charges  total_charges  gender  senior_citizen  partner  \\\n",
       "7041            74.40         306.60       1               1        1   \n",
       "4747            20.60         754.00       1               0        0   \n",
       "1536            75.75        5388.15       1               0        1   \n",
       "2746            21.00         697.70       0               0        1   \n",
       "5857            88.25        1460.65       0               0        1   \n",
       "591             24.90        1174.80       1               0        1   \n",
       "820            106.35        6751.35       0               0        1   \n",
       "873             50.80        3027.40       0               0        0   \n",
       "3740            71.65         135.75       0               0        1   \n",
       "2445            74.40        1972.35       0               0        1   \n",
       "2849            20.30         246.70       0               0        0   \n",
       "2875            85.10        1873.70       1               0        1   \n",
       "6588            23.85         625.65       0               0        1   \n",
       "478             96.10         453.40       1               0        0   \n",
       "5178           108.95        5718.20       0               0        1   \n",
       "3691            63.90        2635.00       0               0        1   \n",
       "3061           106.40        2483.50       1               1        0   \n",
       "3341            43.80        2106.05       0               1        0   \n",
       "4006            19.80        1414.65       1               0        1   \n",
       "1171            94.40        5610.25       1               0        1   \n",
       "2667           115.05        8405.00       0               0        0   \n",
       "4414            20.75         452.20       0               0        0   \n",
       "3582            80.50         232.35       0               0        0   \n",
       "3643            19.05         990.45       0               0        1   \n",
       "2066            24.80        1514.85       1               0        1   \n",
       "6790            25.60        1790.35       0               0        0   \n",
       "1086            89.70        1047.70       0               1        0   \n",
       "5685            19.20         903.70       1               0        1   \n",
       "3125            19.00          78.90       1               0        0   \n",
       "6396            91.95        3301.05       0               1        1   \n",
       "\n",
       "      dependents  internet_service  online_security  online_backup  \\\n",
       "7041           0                 1                0              0   \n",
       "4747           0                 2                1              1   \n",
       "1536           1                 0                2              2   \n",
       "2746           1                 2                1              1   \n",
       "5857           1                 1                0              0   \n",
       "591            1                 2                1              1   \n",
       "820            0                 1                0              0   \n",
       "873            0                 0                0              2   \n",
       "3740           1                 1                0              0   \n",
       "2445           1                 1                2              0   \n",
       "2849           0                 2                1              1   \n",
       "2875           0                 1                0              0   \n",
       "6588           1                 2                1              1   \n",
       "478            0                 1                0              0   \n",
       "5178           0                 1                0              2   \n",
       "3691           0                 0                0              2   \n",
       "3061           0                 1                0              2   \n",
       "3341           0                 0                0              0   \n",
       "4006           1                 2                1              1   \n",
       "1171           0                 1                0              2   \n",
       "2667           0                 1                2              2   \n",
       "4414           1                 2                1              1   \n",
       "3582           0                 1                0              0   \n",
       "3643           0                 2                1              1   \n",
       "2066           1                 2                1              1   \n",
       "6790           0                 2                1              1   \n",
       "1086           0                 1                0              0   \n",
       "5685           1                 2                1              1   \n",
       "3125           0                 2                1              1   \n",
       "6396           0                 1                0              2   \n",
       "\n",
       "      device_protection  ...  begin_day_of_week  \\\n",
       "7041                  0  ...                  0   \n",
       "4747                  1  ...                  2   \n",
       "1536                  2  ...                  3   \n",
       "2746                  1  ...                  5   \n",
       "5857                  2  ...                  4   \n",
       "591                   1  ...                  4   \n",
       "820                   2  ...                  3   \n",
       "873                   0  ...                  5   \n",
       "3740                  0  ...                  6   \n",
       "2445                  0  ...                  2   \n",
       "2849                  1  ...                  4   \n",
       "2875                  0  ...                  3   \n",
       "6588                  1  ...                  3   \n",
       "478                   0  ...                  5   \n",
       "5178                  2  ...                  1   \n",
       "3691                  0  ...                  5   \n",
       "3061                  2  ...                  3   \n",
       "3341                  0  ...                  4   \n",
       "4006                  1  ...                  5   \n",
       "1171                  0  ...                  0   \n",
       "2667                  2  ...                  5   \n",
       "4414                  1  ...                  1   \n",
       "3582                  0  ...                  4   \n",
       "3643                  1  ...                  1   \n",
       "2066                  1  ...                  2   \n",
       "6790                  1  ...                  1   \n",
       "1086                  0  ...                  5   \n",
       "5685                  1  ...                  6   \n",
       "3125                  1  ...                  1   \n",
       "6396                  0  ...                  2   \n",
       "\n",
       "      payment_method_Bank transfer (automatic)  \\\n",
       "7041                                     False   \n",
       "4747                                      True   \n",
       "1536                                      True   \n",
       "2746                                     False   \n",
       "5857                                     False   \n",
       "591                                      False   \n",
       "820                                      False   \n",
       "873                                      False   \n",
       "3740                                     False   \n",
       "2445                                     False   \n",
       "2849                                     False   \n",
       "2875                                     False   \n",
       "6588                                     False   \n",
       "478                                      False   \n",
       "5178                                      True   \n",
       "3691                                      True   \n",
       "3061                                     False   \n",
       "3341                                     False   \n",
       "4006                                     False   \n",
       "1171                                     False   \n",
       "2667                                     False   \n",
       "4414                                     False   \n",
       "3582                                     False   \n",
       "3643                                     False   \n",
       "2066                                     False   \n",
       "6790                                      True   \n",
       "1086                                      True   \n",
       "5685                                     False   \n",
       "3125                                     False   \n",
       "6396                                     False   \n",
       "\n",
       "      payment_method_Credit card (automatic)  payment_method_Electronic check  \\\n",
       "7041                                   False                            False   \n",
       "4747                                   False                            False   \n",
       "1536                                   False                            False   \n",
       "2746                                   False                            False   \n",
       "5857                                   False                             True   \n",
       "591                                    False                             True   \n",
       "820                                    False                             True   \n",
       "873                                    False                             True   \n",
       "3740                                   False                             True   \n",
       "2445                                   False                            False   \n",
       "2849                                   False                            False   \n",
       "2875                                   False                             True   \n",
       "6588                                   False                            False   \n",
       "478                                    False                             True   \n",
       "5178                                   False                            False   \n",
       "3691                                   False                            False   \n",
       "3061                                   False                             True   \n",
       "3341                                   False                            False   \n",
       "4006                                    True                            False   \n",
       "1171                                   False                             True   \n",
       "2667                                    True                            False   \n",
       "4414                                   False                            False   \n",
       "3582                                   False                             True   \n",
       "3643                                    True                            False   \n",
       "2066                                   False                            False   \n",
       "6790                                   False                            False   \n",
       "1086                                   False                            False   \n",
       "5685                                   False                             True   \n",
       "3125                                   False                            False   \n",
       "6396                                    True                            False   \n",
       "\n",
       "      payment_method_Mailed check  paperless_billing_No  \\\n",
       "7041                         True                 False   \n",
       "4747                        False                  True   \n",
       "1536                        False                 False   \n",
       "2746                         True                  True   \n",
       "5857                        False                  True   \n",
       "591                         False                  True   \n",
       "820                         False                 False   \n",
       "873                         False                 False   \n",
       "3740                        False                 False   \n",
       "2445                         True                  True   \n",
       "2849                         True                  True   \n",
       "2875                        False                 False   \n",
       "6588                         True                  True   \n",
       "478                         False                 False   \n",
       "5178                        False                 False   \n",
       "3691                        False                  True   \n",
       "3061                        False                 False   \n",
       "3341                         True                  True   \n",
       "4006                        False                 False   \n",
       "1171                        False                 False   \n",
       "2667                        False                  True   \n",
       "4414                         True                  True   \n",
       "3582                        False                 False   \n",
       "3643                        False                  True   \n",
       "2066                         True                 False   \n",
       "6790                        False                 False   \n",
       "1086                        False                  True   \n",
       "5685                        False                  True   \n",
       "3125                         True                  True   \n",
       "6396                        False                 False   \n",
       "\n",
       "      paperless_billing_Yes  type_Month-to-month  type_One year  type_Two year  \n",
       "7041                   True                 True          False          False  \n",
       "4747                  False                False           True          False  \n",
       "1536                   True                False          False           True  \n",
       "2746                  False                False          False           True  \n",
       "5857                  False                 True          False          False  \n",
       "591                   False                False           True          False  \n",
       "820                    True                 True          False          False  \n",
       "873                    True                 True          False          False  \n",
       "3740                   True                 True          False          False  \n",
       "2445                  False                 True          False          False  \n",
       "2849                  False                 True          False          False  \n",
       "2875                   True                 True          False          False  \n",
       "6588                  False                False          False           True  \n",
       "478                    True                 True          False          False  \n",
       "5178                   True                False           True          False  \n",
       "3691                  False                False           True          False  \n",
       "3061                   True                 True          False          False  \n",
       "3341                  False                 True          False          False  \n",
       "4006                   True                False          False           True  \n",
       "1171                   True                False           True          False  \n",
       "2667                  False                False          False           True  \n",
       "4414                  False                 True          False          False  \n",
       "3582                   True                 True          False          False  \n",
       "3643                  False                False           True          False  \n",
       "2066                   True                False          False           True  \n",
       "6790                   True                False          False           True  \n",
       "1086                  False                 True          False          False  \n",
       "5685                  False                False          False           True  \n",
       "3125                  False                 True          False          False  \n",
       "6396                   True                 True          False          False  \n",
       "\n",
       "[30 rows x 27 columns]"
      ]
     },
     "execution_count": 30,
     "metadata": {},
     "output_type": "execute_result"
    }
   ],
   "source": [
    "#label encoding\n",
    "le = LabelEncoder()\n",
    "categ = ['gender','senior_citizen', 'partner', 'dependents', 'internet_service', 'online_security', 'online_backup', 'device_protection', 'tech_support', 'streaming_tv', 'streaming_movies', 'multiple_lines']\n",
    "\n",
    "df[categ] = df[categ].apply(le.fit_transform)\n",
    "\n",
    "df.sample(30)"
   ]
  },
  {
   "cell_type": "markdown",
   "metadata": {},
   "source": [
    "# Data Split"
   ]
  },
  {
   "cell_type": "code",
   "execution_count": 31,
   "metadata": {},
   "outputs": [],
   "source": [
    "#features and targets\n",
    "\n",
    "features = df.drop('customer_churn', axis=1)\n",
    "target = df['customer_churn']"
   ]
  },
  {
   "cell_type": "code",
   "execution_count": 32,
   "metadata": {},
   "outputs": [
    {
     "name": "stdout",
     "output_type": "stream",
     "text": [
      "(4218, 26)\n",
      "(4218,)\n",
      "(1407, 26)\n",
      "(1407, 26)\n"
     ]
    }
   ],
   "source": [
    "#splitting data into training, validation, and test sets at a ratio of 60:20:20\n",
    "\n",
    "#split training and test sets\n",
    "features_train, features_test, target_train, target_test = train_test_split(features, target, test_size=0.2, random_state=12345, stratify=target)\n",
    "\n",
    "#split validation set\n",
    "features_train, features_valid, target_train, target_valid = train_test_split(features_train, target_train, test_size=0.25, random_state=12345, stratify=target_train)\n",
    "\n",
    "print(features_train.shape)\n",
    "print(target_train.shape)\n",
    "print(features_valid.shape)\n",
    "print(features_test.shape)"
   ]
  },
  {
   "cell_type": "markdown",
   "metadata": {},
   "source": [
    "## Feature scale"
   ]
  },
  {
   "cell_type": "code",
   "execution_count": 33,
   "metadata": {
    "scrolled": true
   },
   "outputs": [
    {
     "data": {
      "text/plain": [
       "(      monthly_charges  total_charges  gender  senior_citizen  partner  \\\n",
       " 95           0.604582       0.104836       0               0        0   \n",
       " 4652         0.013944       0.052995       0               0        0   \n",
       " 5571         0.613048       0.564964       1               0        1   \n",
       " 320          0.639442       0.499801       0               1        0   \n",
       " 303          0.418825       0.471979       0               0        1   \n",
       " ...               ...            ...     ...             ...      ...   \n",
       " 5430         0.536853       0.089477       1               0        0   \n",
       " 5954         0.366036       0.132322       1               0        0   \n",
       " 948          0.804781       0.389680       1               1        0   \n",
       " 6255         0.919323       0.875986       1               1        1   \n",
       " 6756         0.712151       0.221563       1               1        1   \n",
       " \n",
       "       dependents  internet_service  online_security  online_backup  \\\n",
       " 95             0                 1                2              0   \n",
       " 4652           0                 2                1              1   \n",
       " 5571           0                 0                0              2   \n",
       " 320            0                 0                2              2   \n",
       " 303            1                 0                0              2   \n",
       " ...          ...               ...              ...            ...   \n",
       " 5430           0                 0                0              0   \n",
       " 5954           0                 0                2              2   \n",
       " 948            0                 1                0              0   \n",
       " 6255           0                 1                2              0   \n",
       " 6756           0                 1                0              0   \n",
       " \n",
       "       device_protection  ...  begin_day_of_week  \\\n",
       " 95                    0  ...           0.833333   \n",
       " 4652                  1  ...           0.500000   \n",
       " 5571                  2  ...           0.500000   \n",
       " 320                   0  ...           0.666667   \n",
       " 303                   2  ...           1.000000   \n",
       " ...                 ...  ...                ...   \n",
       " 5430                  0  ...           0.666667   \n",
       " 5954                  2  ...           0.666667   \n",
       " 948                   2  ...           0.333333   \n",
       " 6255                  2  ...           0.500000   \n",
       " 6756                  0  ...           1.000000   \n",
       " \n",
       "       payment_method_Bank transfer (automatic)  \\\n",
       " 95                                       False   \n",
       " 4652                                     False   \n",
       " 5571                                     False   \n",
       " 320                                       True   \n",
       " 303                                      False   \n",
       " ...                                        ...   \n",
       " 5430                                     False   \n",
       " 5954                                     False   \n",
       " 948                                      False   \n",
       " 6255                                     False   \n",
       " 6756                                      True   \n",
       " \n",
       "       payment_method_Credit card (automatic)  payment_method_Electronic check  \\\n",
       " 95                                     False                             True   \n",
       " 4652                                    True                            False   \n",
       " 5571                                   False                             True   \n",
       " 320                                    False                            False   \n",
       " 303                                     True                            False   \n",
       " ...                                      ...                              ...   \n",
       " 5430                                    True                            False   \n",
       " 5954                                    True                            False   \n",
       " 948                                    False                             True   \n",
       " 6255                                   False                            False   \n",
       " 6756                                   False                            False   \n",
       " \n",
       "       payment_method_Mailed check  paperless_billing_No  \\\n",
       " 95                          False                 False   \n",
       " 4652                        False                 False   \n",
       " 5571                        False                 False   \n",
       " 320                         False                  True   \n",
       " 303                         False                  True   \n",
       " ...                           ...                   ...   \n",
       " 5430                        False                 False   \n",
       " 5954                        False                 False   \n",
       " 948                         False                 False   \n",
       " 6255                         True                 False   \n",
       " 6756                        False                 False   \n",
       " \n",
       "       paperless_billing_Yes  type_Month-to-month  type_One year  type_Two year  \n",
       " 95                     True                 True          False          False  \n",
       " 4652                   True                False           True          False  \n",
       " 5571                   True                False           True          False  \n",
       " 320                   False                False           True          False  \n",
       " 303                   False                False          False           True  \n",
       " ...                     ...                  ...            ...            ...  \n",
       " 5430                   True                 True          False          False  \n",
       " 5954                   True                 True          False          False  \n",
       " 948                    True                 True          False          False  \n",
       " 6255                   True                False           True          False  \n",
       " 6756                   True                 True          False          False  \n",
       " \n",
       " [4218 rows x 26 columns],\n",
       "       monthly_charges  total_charges  gender  senior_citizen  partner  \\\n",
       " 469          0.375498       0.082565       0               0        1   \n",
       " 4598         0.378486       0.109740       1               0        0   \n",
       " 5831         0.722610       0.091265       0               0        0   \n",
       " 5092         0.021912       0.015220       0               0        1   \n",
       " 2008         0.685757       0.037226       0               0        0   \n",
       " ...               ...            ...     ...             ...      ...   \n",
       " 1391         0.672809       0.279415       1               0        1   \n",
       " 1602         0.717131       0.315776       1               0        0   \n",
       " 4118         0.563247       0.340742       0               0        0   \n",
       " 6519         0.728088       0.663038       1               0        1   \n",
       " 6396         0.734064       0.378747       0               1        1   \n",
       " \n",
       "       dependents  internet_service  online_security  online_backup  \\\n",
       " 469            1                 0                0              0   \n",
       " 4598           0                 0                2              0   \n",
       " 5831           0                 1                0              0   \n",
       " 5092           1                 2                1              1   \n",
       " 2008           1                 1                0              0   \n",
       " ...          ...               ...              ...            ...   \n",
       " 1391           0                 1                0              2   \n",
       " 1602           0                 1                0              0   \n",
       " 4118           0                 1                0              2   \n",
       " 6519           1                 1                0              2   \n",
       " 6396           0                 1                0              2   \n",
       " \n",
       "       device_protection  ...  begin_day_of_week  \\\n",
       " 469                   0  ...           0.833333   \n",
       " 4598                  0  ...           0.333333   \n",
       " 5831                  0  ...           0.666667   \n",
       " 5092                  1  ...           0.000000   \n",
       " 2008                  2  ...           0.833333   \n",
       " ...                 ...  ...                ...   \n",
       " 1391                  2  ...           0.666667   \n",
       " 1602                  0  ...           0.833333   \n",
       " 4118                  0  ...           0.833333   \n",
       " 6519                  0  ...           0.833333   \n",
       " 6396                  0  ...           0.333333   \n",
       " \n",
       "       payment_method_Bank transfer (automatic)  \\\n",
       " 469                                      False   \n",
       " 4598                                     False   \n",
       " 5831                                      True   \n",
       " 5092                                     False   \n",
       " 2008                                     False   \n",
       " ...                                        ...   \n",
       " 1391                                     False   \n",
       " 1602                                     False   \n",
       " 4118                                     False   \n",
       " 6519                                     False   \n",
       " 6396                                     False   \n",
       " \n",
       "       payment_method_Credit card (automatic)  payment_method_Electronic check  \\\n",
       " 469                                    False                             True   \n",
       " 4598                                   False                            False   \n",
       " 5831                                   False                            False   \n",
       " 5092                                   False                            False   \n",
       " 2008                                   False                            False   \n",
       " ...                                      ...                              ...   \n",
       " 1391                                   False                             True   \n",
       " 1602                                   False                             True   \n",
       " 4118                                    True                            False   \n",
       " 6519                                   False                             True   \n",
       " 6396                                    True                            False   \n",
       " \n",
       "       payment_method_Mailed check  paperless_billing_No  \\\n",
       " 469                         False                  True   \n",
       " 4598                         True                  True   \n",
       " 5831                        False                 False   \n",
       " 5092                         True                  True   \n",
       " 2008                         True                 False   \n",
       " ...                           ...                   ...   \n",
       " 1391                        False                 False   \n",
       " 1602                        False                 False   \n",
       " 4118                        False                  True   \n",
       " 6519                        False                 False   \n",
       " 6396                        False                 False   \n",
       " \n",
       "       paperless_billing_Yes  type_Month-to-month  type_One year  type_Two year  \n",
       " 469                   False                 True          False          False  \n",
       " 4598                  False                 True          False          False  \n",
       " 5831                   True                 True          False          False  \n",
       " 5092                  False                 True          False          False  \n",
       " 2008                   True                 True          False          False  \n",
       " ...                     ...                  ...            ...            ...  \n",
       " 1391                   True                 True          False          False  \n",
       " 1602                   True                 True          False          False  \n",
       " 4118                  False                 True          False          False  \n",
       " 6519                   True                False           True          False  \n",
       " 6396                   True                 True          False          False  \n",
       " \n",
       " [1407 rows x 26 columns],\n",
       "       monthly_charges  total_charges  gender  senior_citizen  partner  \\\n",
       " 3312         0.020418       0.000167       1               0        0   \n",
       " 680          0.615040       0.007056       1               0        1   \n",
       " 4732         0.016434       0.159065       0               0        1   \n",
       " 570          0.009960       0.125133       0               0        1   \n",
       " 2933         0.057271       0.189875       1               0        1   \n",
       " ...               ...            ...     ...             ...      ...   \n",
       " 2996         0.421813       0.131261       0               0        0   \n",
       " 6735         0.687251       0.728120       0               0        1   \n",
       " 5076         0.752490       0.358374       0               0        1   \n",
       " 4219         0.566733       0.433167       0               0        0   \n",
       " 205          0.614542       0.307641       0               0        0   \n",
       " \n",
       "       dependents  internet_service  online_security  online_backup  \\\n",
       " 3312           0                 2                1              1   \n",
       " 680            1                 1                0              0   \n",
       " 4732           1                 2                1              1   \n",
       " 570            1                 2                1              1   \n",
       " 2933           1                 2                1              1   \n",
       " ...          ...               ...              ...            ...   \n",
       " 2996           0                 0                2              0   \n",
       " 6735           1                 0                2              2   \n",
       " 5076           1                 1                0              0   \n",
       " 4219           0                 1                0              2   \n",
       " 205            0                 1                0              2   \n",
       " \n",
       "       device_protection  ...  begin_day_of_week  \\\n",
       " 3312                  1  ...           0.333333   \n",
       " 680                   0  ...           1.000000   \n",
       " 4732                  1  ...           0.833333   \n",
       " 570                   1  ...           1.000000   \n",
       " 2933                  1  ...           1.000000   \n",
       " ...                 ...  ...                ...   \n",
       " 2996                  2  ...           0.333333   \n",
       " 6735                  2  ...           0.833333   \n",
       " 5076                  2  ...           1.000000   \n",
       " 4219                  0  ...           0.000000   \n",
       " 205                   0  ...           0.000000   \n",
       " \n",
       "       payment_method_Bank transfer (automatic)  \\\n",
       " 3312                                     False   \n",
       " 680                                      False   \n",
       " 4732                                     False   \n",
       " 570                                      False   \n",
       " 2933                                      True   \n",
       " ...                                        ...   \n",
       " 2996                                     False   \n",
       " 6735                                     False   \n",
       " 5076                                     False   \n",
       " 4219                                     False   \n",
       " 205                                       True   \n",
       " \n",
       "       payment_method_Credit card (automatic)  payment_method_Electronic check  \\\n",
       " 3312                                   False                            False   \n",
       " 680                                    False                             True   \n",
       " 4732                                    True                            False   \n",
       " 570                                     True                            False   \n",
       " 2933                                   False                            False   \n",
       " ...                                      ...                              ...   \n",
       " 2996                                   False                            False   \n",
       " 6735                                    True                            False   \n",
       " 5076                                   False                             True   \n",
       " 4219                                   False                             True   \n",
       " 205                                    False                            False   \n",
       " \n",
       "       payment_method_Mailed check  paperless_billing_No  \\\n",
       " 3312                         True                  True   \n",
       " 680                         False                  True   \n",
       " 4732                        False                  True   \n",
       " 570                         False                 False   \n",
       " 2933                        False                 False   \n",
       " ...                           ...                   ...   \n",
       " 2996                         True                 False   \n",
       " 6735                        False                  True   \n",
       " 5076                        False                 False   \n",
       " 4219                        False                  True   \n",
       " 205                         False                 False   \n",
       " \n",
       "       paperless_billing_Yes  type_Month-to-month  type_One year  type_Two year  \n",
       " 3312                  False                 True          False          False  \n",
       " 680                   False                 True          False          False  \n",
       " 4732                  False                False          False           True  \n",
       " 570                    True                False          False           True  \n",
       " 2933                   True                False          False           True  \n",
       " ...                     ...                  ...            ...            ...  \n",
       " 2996                   True                 True          False          False  \n",
       " 6735                  False                False          False           True  \n",
       " 5076                   True                False           True          False  \n",
       " 4219                  False                False           True          False  \n",
       " 205                    True                False           True          False  \n",
       " \n",
       " [1407 rows x 26 columns])"
      ]
     },
     "execution_count": 33,
     "metadata": {},
     "output_type": "execute_result"
    }
   ],
   "source": [
    "numeric = ['monthly_charges', 'total_charges', 'begin_year','begin_month', 'begin_day_of_week']\n",
    "\n",
    "def scaling(features_train, features_valid, features_test):\n",
    "    scaler = MinMaxScaler()\n",
    "    scaler.fit(features_train[numeric])\n",
    "    features_train[numeric] = scaler.transform(features_train[numeric]) \n",
    "    features_valid[numeric] = scaler.transform(features_valid[numeric])\n",
    "    features_test[numeric] = scaler.transform(features_test[numeric])\n",
    "    return features_train, features_valid, features_test\n",
    "\n",
    "scaling(features_train, features_valid, features_test)"
   ]
  },
  {
   "cell_type": "markdown",
   "metadata": {},
   "source": [
    "## upsampling the Data"
   ]
  },
  {
   "cell_type": "markdown",
   "metadata": {},
   "source": [
    "Class imbalance by upsampling the data"
   ]
  },
  {
   "cell_type": "code",
   "execution_count": 34,
   "metadata": {},
   "outputs": [],
   "source": [
    "#function to upsample the data\n",
    "def upsample(features, target, repeat):\n",
    "    features_zeros = features[target == 0]\n",
    "    features_ones = features[target == 1]\n",
    "    target_zeros = target[target == 0]\n",
    "    target_ones = target[target == 1]\n",
    "    \n",
    "    features_upsampled = pd.concat([features_ones] + [features_zeros]  * repeat)\n",
    "    target_upsampled = pd.concat([target_ones] + [target_zeros] * repeat)\n",
    "\n",
    "    features_upsampled, target_upsampled = shuffle(features_upsampled, target_upsampled, random_state=12345)\n",
    "\n",
    "    return features_upsampled, target_upsampled"
   ]
  },
  {
   "cell_type": "code",
   "execution_count": 35,
   "metadata": {},
   "outputs": [],
   "source": [
    "#apply upsample function to training set \n",
    "upsample_features_train, upsample_target_train = upsample(features_train, target_train, 3)"
   ]
  },
  {
   "cell_type": "code",
   "execution_count": 36,
   "metadata": {},
   "outputs": [
    {
     "name": "stdout",
     "output_type": "stream",
     "text": [
      "Balance of Classes:\n",
      "0    0.520588\n",
      "1    0.479412\n",
      "Name: customer_churn, dtype: float64\n"
     ]
    },
    {
     "data": {
      "image/png": "[encoded data removed]",
      "text/plain": [
       "<Figure size 640x480 with 1 Axes>"
      ]
     },
     "metadata": {},
     "output_type": "display_data"
    }
   ],
   "source": [
    "#re-examine class balances after upsampling\n",
    "class_balance_upsampled = upsample_target_train.value_counts(normalize=True)\n",
    "print('Balance of Classes:')\n",
    "print(class_balance_upsampled)\n",
    "\n",
    "fig, ax = plt.subplots()\n",
    "\n",
    "bar_colors = ['tab:red', 'tab:blue']\n",
    "\n",
    "class_balance_upsampled.plot.bar(ylabel='Percentage of Class', title='Class Imbalances of the Upsampled Target', color=bar_colors)\n",
    "\n",
    "\n",
    "plt.show()"
   ]
  },
  {
   "cell_type": "markdown",
   "metadata": {},
   "source": [
    "class imbalance is much closer to at 52% to 47%, enabeling us to move forward with our model training"
   ]
  },
  {
   "cell_type": "markdown",
   "metadata": {},
   "source": [
    "# MOdel Training"
   ]
  },
  {
   "cell_type": "code",
   "execution_count": 37,
   "metadata": {},
   "outputs": [],
   "source": [
    "#calculate auc-roc score\n",
    "def auc_roc(model, features, target):\n",
    "    probabilities_valid = model.predict_proba(features)\n",
    "    probabilities_one_valid = probabilities_valid[:, 1]\n",
    "    auc_roc = roc_auc_score(target, probabilities_one_valid)\n",
    "    print('AUC - ROC Score:', auc_roc)\n",
    "    \n",
    "    fpr, tpr, thresholds = roc_curve(target, probabilities_one_valid)\n",
    "    \n",
    "    #calculate accuracy score on training set\n",
    "    train_predictions = model.predict(features)\n",
    "    train_accuracy = accuracy_score(target, train_predictions)\n",
    "    print(\"Accuracy Score for the Training Set:\", train_accuracy)\n",
    "    \n",
    "    #plot auc-roc curve\n",
    "    plt.figure()\n",
    "    plt.plot(fpr, tpr)\n",
    "    plt.plot([0, 1], [0, 1], linestyle='--')\n",
    "    plt.xlim([0.0, 1.0])\n",
    "    plt.ylim([0.0, 1.0])\n",
    "    plt.xlabel('False Positive Rate')\n",
    "    plt.ylabel('True Positive Rate')\n",
    "    plt.title('ROC curve')\n",
    "    plt.show()\n",
    "    return"
   ]
  },
  {
   "cell_type": "code",
   "execution_count": null,
   "metadata": {},
   "outputs": [],
   "source": []
  },
  {
   "cell_type": "code",
   "execution_count": 38,
   "metadata": {},
   "outputs": [
    {
     "name": "stdout",
     "output_type": "stream",
     "text": [
      "Dummy Classifier:\n",
      "\n",
      "AUC - ROC Score: 0.5\n",
      "Accuracy Score for the Training Set: 0.5060412224591329\n"
     ]
    },
    {
     "data": {
      "image/png": "[encoded data removed]",
      "text/plain": [
       "<Figure size 640x480 with 1 Axes>"
      ]
     },
     "metadata": {},
     "output_type": "display_data"
    }
   ],
   "source": [
    "#initialize dummy model\n",
    "dummy_clf = DummyClassifier(strategy='uniform') #strategy is uniform because data is now balanced\n",
    "dummy_clf.fit(upsample_features_train, upsample_target_train) #fit the dummy classifier to upsampled training set\n",
    "dummy_pred = dummy_clf.predict(features_valid)\n",
    "\n",
    "print('Dummy Classifier:')\n",
    "print('')\n",
    "\n",
    "#evaluate the dummy model\n",
    "auc_roc(dummy_clf, features_valid, target_valid)"
   ]
  },
  {
   "cell_type": "markdown",
   "metadata": {},
   "source": [
    "AUC-ROC score of 0.5, the dummy classifer has no ability to seperate between the two classes."
   ]
  },
  {
   "cell_type": "markdown",
   "metadata": {},
   "source": [
    "**Random Forest**"
   ]
  },
  {
   "cell_type": "code",
   "execution_count": 39,
   "metadata": {},
   "outputs": [
    {
     "name": "stdout",
     "output_type": "stream",
     "text": [
      "Tuned Hyperparameters : {'criterion': 'entropy', 'max_depth': 30, 'min_samples_split': 2, 'n_estimators': 200}\n",
      "Accuracy : 0.9826908256114003\n",
      "CPU times: user 1min 19s, sys: 96.6 ms, total: 1min 19s\n",
      "Wall time: 1min 19s\n"
     ]
    }
   ],
   "source": [
    "%%time\n",
    "#initialize rf model\n",
    "rf = RandomForestClassifier(random_state=12345)\n",
    "\n",
    "#parameter grid\n",
    "rf_params = {\n",
    "    'n_estimators': [ 50, 100, 200],\n",
    "    'criterion': ['gini', 'entropy'],\n",
    "    'max_depth': [1, 10, 20, 30],\n",
    "    'min_samples_split': [2, 5, 10],\n",
    "}\n",
    "\n",
    "rf_clf = GridSearchCV(rf, param_grid=rf_params, scoring='roc_auc', cv=3)\n",
    "rf_clf.fit(upsample_features_train, upsample_target_train)\n",
    "\n",
    "print(\"Tuned Hyperparameters :\", rf_clf.best_params_)\n",
    "print(\"Accuracy :\",rf_clf.best_score_)"
   ]
  },
  {
   "cell_type": "code",
   "execution_count": 40,
   "metadata": {},
   "outputs": [
    {
     "name": "stdout",
     "output_type": "stream",
     "text": [
      "AUC - ROC Score: 0.8956805110497954\n",
      "Accuracy Score for the Training Set: 0.8599857853589197\n"
     ]
    },
    {
     "data": {
      "image/png": "[encoded data removed]",
      "text/plain": [
       "<Figure size 640x480 with 1 Axes>"
      ]
     },
     "metadata": {},
     "output_type": "display_data"
    }
   ],
   "source": [
    "\n",
    "auc_roc(rf_clf, features_valid, target_valid)"
   ]
  },
  {
   "cell_type": "markdown",
   "metadata": {},
   "source": [
    "**KNeighboors**"
   ]
  },
  {
   "cell_type": "code",
   "execution_count": 41,
   "metadata": {},
   "outputs": [
    {
     "name": "stdout",
     "output_type": "stream",
     "text": [
      "Tuned Hyperparameters : {'algorithm': 'auto', 'n_neighbors': 200, 'p': 1, 'weights': 'distance'}\n",
      "Accuracy : 0.9829529058485895\n",
      "CPU times: user 1min 10s, sys: 7.02 s, total: 1min 17s\n",
      "Wall time: 1min 17s\n"
     ]
    }
   ],
   "source": [
    "%%time\n",
    "#Initialize KNN model\n",
    "knn = KNeighborsClassifier()\n",
    "\n",
    "#parameter grid\n",
    "knn_params = {'n_neighbors': (5, 20, 100, 200, 500),\n",
    "        'p':np.arange(1,3),\n",
    "        'weights':['uniform','distance'],\n",
    "        'algorithm':['auto','ball_tree','kd_tree','brute']\n",
    "       }\n",
    "\n",
    "knn_clf = GridSearchCV(knn, knn_params, scoring='roc_auc', cv=3)\n",
    "knn_clf.fit(upsample_features_train, upsample_target_train)\n",
    "\n",
    "print(\"Tuned Hyperparameters :\", knn_clf.best_params_)\n",
    "print(\"Accuracy :\",knn_clf.best_score_)"
   ]
  },
  {
   "cell_type": "code",
   "execution_count": 42,
   "metadata": {},
   "outputs": [
    {
     "name": "stdout",
     "output_type": "stream",
     "text": [
      "AUC - ROC Score: 0.8486936444911504\n",
      "Accuracy Score for the Training Set: 0.689410092395167\n"
     ]
    },
    {
     "data": {
      "image/png": "[encoded data removed]",
      "text/plain": [
       "<Figure size 640x480 with 1 Axes>"
      ]
     },
     "metadata": {},
     "output_type": "display_data"
    }
   ],
   "source": [
    "auc_roc(knn_clf, features_valid, target_valid)"
   ]
  },
  {
   "cell_type": "code",
   "execution_count": null,
   "metadata": {},
   "outputs": [],
   "source": []
  },
  {
   "cell_type": "markdown",
   "metadata": {},
   "source": [
    "**Decission Tree**"
   ]
  },
  {
   "cell_type": "code",
   "execution_count": 43,
   "metadata": {},
   "outputs": [
    {
     "name": "stdout",
     "output_type": "stream",
     "text": [
      "Fitting 4 folds for each of 150 candidates, totalling 600 fits\n",
      "Tuned Hyperparameters : {'criterion': 'gini', 'max_depth': 2, 'min_samples_leaf': 5, 'splitter': 'best'}\n",
      "Accuracy : 0.7633744145810106\n",
      "CPU times: user 8.58 s, sys: 3.09 ms, total: 8.58 s\n",
      "Wall time: 8.62 s\n"
     ]
    }
   ],
   "source": [
    "%%time\n",
    "#initialize model\n",
    "dt = DecisionTreeClassifier(random_state=12345)\n",
    "\n",
    "#parameter grid\n",
    "dt_params = {'max_depth': [2, 3, 5, 10, 20],\n",
    "    'min_samples_leaf': [5, 10, 20, 50, 100],\n",
    "    'criterion': [\"gini\", \"entropy\", \"log_loss\"],\n",
    "    'splitter': ['best', 'random']       \n",
    "            }\n",
    "#grid search\n",
    "dt_clf = GridSearchCV(dt, param_grid=dt_params, cv=4, n_jobs=-1, verbose=1, scoring='roc_auc')\n",
    "dt_clf.fit(upsample_features_train, upsample_target_train)\n",
    "\n",
    "print(\"Tuned Hyperparameters :\", dt_clf.best_params_)\n",
    "print(\"Accuracy :\",dt_clf.best_score_)"
   ]
  },
  {
   "cell_type": "code",
   "execution_count": 44,
   "metadata": {},
   "outputs": [
    {
     "name": "stdout",
     "output_type": "stream",
     "text": [
      "AUC - ROC Score: 0.7766240791837284\n",
      "Accuracy Score for the Training Set: 0.7057569296375267\n"
     ]
    },
    {
     "data": {
      "image/png": "[encoded data removed]",
      "text/plain": [
       "<Figure size 640x480 with 1 Axes>"
      ]
     },
     "metadata": {},
     "output_type": "display_data"
    }
   ],
   "source": [
    "auc_roc(dt_clf, features_valid, target_valid)"
   ]
  },
  {
   "cell_type": "code",
   "execution_count": null,
   "metadata": {},
   "outputs": [],
   "source": []
  },
  {
   "cell_type": "markdown",
   "metadata": {},
   "source": [
    "**Logistic Regression**"
   ]
  },
  {
   "cell_type": "code",
   "execution_count": 45,
   "metadata": {},
   "outputs": [
    {
     "name": "stdout",
     "output_type": "stream",
     "text": [
      "Tuned Hyperparameters : {'fit_intercept': True, 'n_jobs': 1, 'penalty': 'l2', 'solver': 'newton-cg'}\n",
      "Accuracy : 0.8315387800603139\n",
      "CPU times: user 19.1 s, sys: 26.2 s, total: 45.3 s\n",
      "Wall time: 55.9 s\n"
     ]
    }
   ],
   "source": [
    "%%time\n",
    "#initialize the logistic regression model\n",
    "lr = LogisticRegression(random_state=12345)\n",
    "\n",
    "#parameter grid\n",
    "lr_params = {\n",
    "    'penalty' : ['l2', 'none'],\n",
    "    'solver' : ['newton-cg', 'lbfgs', 'liblinear', 'newton-cholesky', 'sag', 'saga'],\n",
    "    'fit_intercept': [True, False],\n",
    "    'n_jobs': list(range(1,10))\n",
    "}\n",
    "\n",
    "lr_clf = GridSearchCV(lr, lr_params, scoring='roc_auc', n_jobs=-1, cv=2)\n",
    "lr_clf.fit(upsample_features_train, upsample_target_train)\n",
    "\n",
    "print(\"Tuned Hyperparameters :\", lr_clf.best_params_)\n",
    "print(\"Accuracy :\",lr_clf.best_score_)"
   ]
  },
  {
   "cell_type": "code",
   "execution_count": 46,
   "metadata": {},
   "outputs": [
    {
     "name": "stdout",
     "output_type": "stream",
     "text": [
      "AUC - ROC Score: 0.8519550035978485\n",
      "Accuracy Score for the Training Set: 0.7348969438521677\n"
     ]
    },
    {
     "data": {
      "image/png": "[encoded data removed]",
      "text/plain": [
       "<Figure size 640x480 with 1 Axes>"
      ]
     },
     "metadata": {},
     "output_type": "display_data"
    }
   ],
   "source": [
    "auc_roc(lr_clf, features_valid, target_valid)"
   ]
  },
  {
   "cell_type": "markdown",
   "metadata": {},
   "source": [
    "----------------------------------------------------------------------------------------------------------------------"
   ]
  },
  {
   "cell_type": "markdown",
   "metadata": {},
   "source": [
    "# **Boosting Model**"
   ]
  },
  {
   "cell_type": "markdown",
   "metadata": {},
   "source": [
    "**XGB**"
   ]
  },
  {
   "cell_type": "code",
   "execution_count": 47,
   "metadata": {},
   "outputs": [
    {
     "name": "stdout",
     "output_type": "stream",
     "text": [
      "[03:48:59] WARNING: ../src/learner.cc:1115: Starting in XGBoost 1.3.0, the default evaluation metric used with the objective 'binary:logistic' was changed from 'error' to 'logloss'. Explicitly set eval_metric if you'd like to restore the old behavior.\n",
      "[03:49:00] WARNING: ../src/learner.cc:1115: Starting in XGBoost 1.3.0, the default evaluation metric used with the objective 'binary:logistic' was changed from 'error' to 'logloss'. Explicitly set eval_metric if you'd like to restore the old behavior.\n",
      "[03:49:01] WARNING: ../src/learner.cc:1115: Starting in XGBoost 1.3.0, the default evaluation metric used with the objective 'binary:logistic' was changed from 'error' to 'logloss'. Explicitly set eval_metric if you'd like to restore the old behavior.\n",
      "[03:49:02] WARNING: ../src/learner.cc:1115: Starting in XGBoost 1.3.0, the default evaluation metric used with the objective 'binary:logistic' was changed from 'error' to 'logloss'. Explicitly set eval_metric if you'd like to restore the old behavior.\n",
      "[03:49:03] WARNING: ../src/learner.cc:1115: Starting in XGBoost 1.3.0, the default evaluation metric used with the objective 'binary:logistic' was changed from 'error' to 'logloss'. Explicitly set eval_metric if you'd like to restore the old behavior.\n",
      "[03:49:04] WARNING: ../src/learner.cc:1115: Starting in XGBoost 1.3.0, the default evaluation metric used with the objective 'binary:logistic' was changed from 'error' to 'logloss'. Explicitly set eval_metric if you'd like to restore the old behavior.\n",
      "[03:49:05] WARNING: ../src/learner.cc:1115: Starting in XGBoost 1.3.0, the default evaluation metric used with the objective 'binary:logistic' was changed from 'error' to 'logloss'. Explicitly set eval_metric if you'd like to restore the old behavior.\n",
      "[03:49:06] WARNING: ../src/learner.cc:1115: Starting in XGBoost 1.3.0, the default evaluation metric used with the objective 'binary:logistic' was changed from 'error' to 'logloss'. Explicitly set eval_metric if you'd like to restore the old behavior.\n",
      "[03:49:07] WARNING: ../src/learner.cc:1115: Starting in XGBoost 1.3.0, the default evaluation metric used with the objective 'binary:logistic' was changed from 'error' to 'logloss'. Explicitly set eval_metric if you'd like to restore the old behavior.\n",
      "[03:49:08] WARNING: ../src/learner.cc:1115: Starting in XGBoost 1.3.0, the default evaluation metric used with the objective 'binary:logistic' was changed from 'error' to 'logloss'. Explicitly set eval_metric if you'd like to restore the old behavior.\n",
      "[03:49:09] WARNING: ../src/learner.cc:1115: Starting in XGBoost 1.3.0, the default evaluation metric used with the objective 'binary:logistic' was changed from 'error' to 'logloss'. Explicitly set eval_metric if you'd like to restore the old behavior.\n",
      "[03:49:11] WARNING: ../src/learner.cc:1115: Starting in XGBoost 1.3.0, the default evaluation metric used with the objective 'binary:logistic' was changed from 'error' to 'logloss'. Explicitly set eval_metric if you'd like to restore the old behavior.\n",
      "[03:49:13] WARNING: ../src/learner.cc:1115: Starting in XGBoost 1.3.0, the default evaluation metric used with the objective 'binary:logistic' was changed from 'error' to 'logloss'. Explicitly set eval_metric if you'd like to restore the old behavior.\n",
      "[03:49:14] WARNING: ../src/learner.cc:1115: Starting in XGBoost 1.3.0, the default evaluation metric used with the objective 'binary:logistic' was changed from 'error' to 'logloss'. Explicitly set eval_metric if you'd like to restore the old behavior.\n",
      "[03:49:16] WARNING: ../src/learner.cc:1115: Starting in XGBoost 1.3.0, the default evaluation metric used with the objective 'binary:logistic' was changed from 'error' to 'logloss'. Explicitly set eval_metric if you'd like to restore the old behavior.\n",
      "[03:49:18] WARNING: ../src/learner.cc:1115: Starting in XGBoost 1.3.0, the default evaluation metric used with the objective 'binary:logistic' was changed from 'error' to 'logloss'. Explicitly set eval_metric if you'd like to restore the old behavior.\n",
      "[03:49:19] WARNING: ../src/learner.cc:1115: Starting in XGBoost 1.3.0, the default evaluation metric used with the objective 'binary:logistic' was changed from 'error' to 'logloss'. Explicitly set eval_metric if you'd like to restore the old behavior.\n",
      "[03:49:21] WARNING: ../src/learner.cc:1115: Starting in XGBoost 1.3.0, the default evaluation metric used with the objective 'binary:logistic' was changed from 'error' to 'logloss'. Explicitly set eval_metric if you'd like to restore the old behavior.\n",
      "[03:49:22] WARNING: ../src/learner.cc:1115: Starting in XGBoost 1.3.0, the default evaluation metric used with the objective 'binary:logistic' was changed from 'error' to 'logloss'. Explicitly set eval_metric if you'd like to restore the old behavior.\n",
      "[03:49:25] WARNING: ../src/learner.cc:1115: Starting in XGBoost 1.3.0, the default evaluation metric used with the objective 'binary:logistic' was changed from 'error' to 'logloss'. Explicitly set eval_metric if you'd like to restore the old behavior.\n",
      "[03:49:27] WARNING: ../src/learner.cc:1115: Starting in XGBoost 1.3.0, the default evaluation metric used with the objective 'binary:logistic' was changed from 'error' to 'logloss'. Explicitly set eval_metric if you'd like to restore the old behavior.\n",
      "[03:49:30] WARNING: ../src/learner.cc:1115: Starting in XGBoost 1.3.0, the default evaluation metric used with the objective 'binary:logistic' was changed from 'error' to 'logloss'. Explicitly set eval_metric if you'd like to restore the old behavior.\n",
      "[03:49:32] WARNING: ../src/learner.cc:1115: Starting in XGBoost 1.3.0, the default evaluation metric used with the objective 'binary:logistic' was changed from 'error' to 'logloss'. Explicitly set eval_metric if you'd like to restore the old behavior.\n",
      "[03:49:35] WARNING: ../src/learner.cc:1115: Starting in XGBoost 1.3.0, the default evaluation metric used with the objective 'binary:logistic' was changed from 'error' to 'logloss'. Explicitly set eval_metric if you'd like to restore the old behavior.\n",
      "[03:49:38] WARNING: ../src/learner.cc:1115: Starting in XGBoost 1.3.0, the default evaluation metric used with the objective 'binary:logistic' was changed from 'error' to 'logloss'. Explicitly set eval_metric if you'd like to restore the old behavior.\n",
      "[03:49:40] WARNING: ../src/learner.cc:1115: Starting in XGBoost 1.3.0, the default evaluation metric used with the objective 'binary:logistic' was changed from 'error' to 'logloss'. Explicitly set eval_metric if you'd like to restore the old behavior.\n",
      "[03:49:42] WARNING: ../src/learner.cc:1115: Starting in XGBoost 1.3.0, the default evaluation metric used with the objective 'binary:logistic' was changed from 'error' to 'logloss'. Explicitly set eval_metric if you'd like to restore the old behavior.\n",
      "[03:49:44] WARNING: ../src/learner.cc:1115: Starting in XGBoost 1.3.0, the default evaluation metric used with the objective 'binary:logistic' was changed from 'error' to 'logloss'. Explicitly set eval_metric if you'd like to restore the old behavior.\n",
      "[03:49:46] WARNING: ../src/learner.cc:1115: Starting in XGBoost 1.3.0, the default evaluation metric used with the objective 'binary:logistic' was changed from 'error' to 'logloss'. Explicitly set eval_metric if you'd like to restore the old behavior.\n",
      "[03:49:47] WARNING: ../src/learner.cc:1115: Starting in XGBoost 1.3.0, the default evaluation metric used with the objective 'binary:logistic' was changed from 'error' to 'logloss'. Explicitly set eval_metric if you'd like to restore the old behavior.\n",
      "[03:49:49] WARNING: ../src/learner.cc:1115: Starting in XGBoost 1.3.0, the default evaluation metric used with the objective 'binary:logistic' was changed from 'error' to 'logloss'. Explicitly set eval_metric if you'd like to restore the old behavior.\n",
      "[03:49:50] WARNING: ../src/learner.cc:1115: Starting in XGBoost 1.3.0, the default evaluation metric used with the objective 'binary:logistic' was changed from 'error' to 'logloss'. Explicitly set eval_metric if you'd like to restore the old behavior.\n",
      "[03:49:51] WARNING: ../src/learner.cc:1115: Starting in XGBoost 1.3.0, the default evaluation metric used with the objective 'binary:logistic' was changed from 'error' to 'logloss'. Explicitly set eval_metric if you'd like to restore the old behavior.\n"
     ]
    },
    {
     "name": "stdout",
     "output_type": "stream",
     "text": [
      "[03:49:53] WARNING: ../src/learner.cc:1115: Starting in XGBoost 1.3.0, the default evaluation metric used with the objective 'binary:logistic' was changed from 'error' to 'logloss'. Explicitly set eval_metric if you'd like to restore the old behavior.\n",
      "[03:49:54] WARNING: ../src/learner.cc:1115: Starting in XGBoost 1.3.0, the default evaluation metric used with the objective 'binary:logistic' was changed from 'error' to 'logloss'. Explicitly set eval_metric if you'd like to restore the old behavior.\n",
      "[03:49:55] WARNING: ../src/learner.cc:1115: Starting in XGBoost 1.3.0, the default evaluation metric used with the objective 'binary:logistic' was changed from 'error' to 'logloss'. Explicitly set eval_metric if you'd like to restore the old behavior.\n",
      "[03:49:57] WARNING: ../src/learner.cc:1115: Starting in XGBoost 1.3.0, the default evaluation metric used with the objective 'binary:logistic' was changed from 'error' to 'logloss'. Explicitly set eval_metric if you'd like to restore the old behavior.\n",
      "[03:50:02] WARNING: ../src/learner.cc:1115: Starting in XGBoost 1.3.0, the default evaluation metric used with the objective 'binary:logistic' was changed from 'error' to 'logloss'. Explicitly set eval_metric if you'd like to restore the old behavior.\n",
      "[03:50:04] WARNING: ../src/learner.cc:1115: Starting in XGBoost 1.3.0, the default evaluation metric used with the objective 'binary:logistic' was changed from 'error' to 'logloss'. Explicitly set eval_metric if you'd like to restore the old behavior.\n",
      "[03:50:08] WARNING: ../src/learner.cc:1115: Starting in XGBoost 1.3.0, the default evaluation metric used with the objective 'binary:logistic' was changed from 'error' to 'logloss'. Explicitly set eval_metric if you'd like to restore the old behavior.\n",
      "[03:50:10] WARNING: ../src/learner.cc:1115: Starting in XGBoost 1.3.0, the default evaluation metric used with the objective 'binary:logistic' was changed from 'error' to 'logloss'. Explicitly set eval_metric if you'd like to restore the old behavior.\n",
      "[03:50:13] WARNING: ../src/learner.cc:1115: Starting in XGBoost 1.3.0, the default evaluation metric used with the objective 'binary:logistic' was changed from 'error' to 'logloss'. Explicitly set eval_metric if you'd like to restore the old behavior.\n",
      "[03:50:16] WARNING: ../src/learner.cc:1115: Starting in XGBoost 1.3.0, the default evaluation metric used with the objective 'binary:logistic' was changed from 'error' to 'logloss'. Explicitly set eval_metric if you'd like to restore the old behavior.\n",
      "[03:50:18] WARNING: ../src/learner.cc:1115: Starting in XGBoost 1.3.0, the default evaluation metric used with the objective 'binary:logistic' was changed from 'error' to 'logloss'. Explicitly set eval_metric if you'd like to restore the old behavior.\n",
      "[03:50:21] WARNING: ../src/learner.cc:1115: Starting in XGBoost 1.3.0, the default evaluation metric used with the objective 'binary:logistic' was changed from 'error' to 'logloss'. Explicitly set eval_metric if you'd like to restore the old behavior.\n",
      "[03:50:23] WARNING: ../src/learner.cc:1115: Starting in XGBoost 1.3.0, the default evaluation metric used with the objective 'binary:logistic' was changed from 'error' to 'logloss'. Explicitly set eval_metric if you'd like to restore the old behavior.\n",
      "[03:50:27] WARNING: ../src/learner.cc:1115: Starting in XGBoost 1.3.0, the default evaluation metric used with the objective 'binary:logistic' was changed from 'error' to 'logloss'. Explicitly set eval_metric if you'd like to restore the old behavior.\n",
      "[03:50:31] WARNING: ../src/learner.cc:1115: Starting in XGBoost 1.3.0, the default evaluation metric used with the objective 'binary:logistic' was changed from 'error' to 'logloss'. Explicitly set eval_metric if you'd like to restore the old behavior.\n",
      "[03:50:35] WARNING: ../src/learner.cc:1115: Starting in XGBoost 1.3.0, the default evaluation metric used with the objective 'binary:logistic' was changed from 'error' to 'logloss'. Explicitly set eval_metric if you'd like to restore the old behavior.\n",
      "[03:50:40] WARNING: ../src/learner.cc:1115: Starting in XGBoost 1.3.0, the default evaluation metric used with the objective 'binary:logistic' was changed from 'error' to 'logloss'. Explicitly set eval_metric if you'd like to restore the old behavior.\n",
      "[03:50:43] WARNING: ../src/learner.cc:1115: Starting in XGBoost 1.3.0, the default evaluation metric used with the objective 'binary:logistic' was changed from 'error' to 'logloss'. Explicitly set eval_metric if you'd like to restore the old behavior.\n",
      "[03:50:47] WARNING: ../src/learner.cc:1115: Starting in XGBoost 1.3.0, the default evaluation metric used with the objective 'binary:logistic' was changed from 'error' to 'logloss'. Explicitly set eval_metric if you'd like to restore the old behavior.\n",
      "[03:50:51] WARNING: ../src/learner.cc:1115: Starting in XGBoost 1.3.0, the default evaluation metric used with the objective 'binary:logistic' was changed from 'error' to 'logloss'. Explicitly set eval_metric if you'd like to restore the old behavior.\n",
      "[03:50:55] WARNING: ../src/learner.cc:1115: Starting in XGBoost 1.3.0, the default evaluation metric used with the objective 'binary:logistic' was changed from 'error' to 'logloss'. Explicitly set eval_metric if you'd like to restore the old behavior.\n",
      "[03:50:59] WARNING: ../src/learner.cc:1115: Starting in XGBoost 1.3.0, the default evaluation metric used with the objective 'binary:logistic' was changed from 'error' to 'logloss'. Explicitly set eval_metric if you'd like to restore the old behavior.\n",
      "[03:51:01] WARNING: ../src/learner.cc:1115: Starting in XGBoost 1.3.0, the default evaluation metric used with the objective 'binary:logistic' was changed from 'error' to 'logloss'. Explicitly set eval_metric if you'd like to restore the old behavior.\n",
      "[03:51:03] WARNING: ../src/learner.cc:1115: Starting in XGBoost 1.3.0, the default evaluation metric used with the objective 'binary:logistic' was changed from 'error' to 'logloss'. Explicitly set eval_metric if you'd like to restore the old behavior.\n",
      "[03:51:06] WARNING: ../src/learner.cc:1115: Starting in XGBoost 1.3.0, the default evaluation metric used with the objective 'binary:logistic' was changed from 'error' to 'logloss'. Explicitly set eval_metric if you'd like to restore the old behavior.\n",
      "[03:51:08] WARNING: ../src/learner.cc:1115: Starting in XGBoost 1.3.0, the default evaluation metric used with the objective 'binary:logistic' was changed from 'error' to 'logloss'. Explicitly set eval_metric if you'd like to restore the old behavior.\n",
      "[03:51:10] WARNING: ../src/learner.cc:1115: Starting in XGBoost 1.3.0, the default evaluation metric used with the objective 'binary:logistic' was changed from 'error' to 'logloss'. Explicitly set eval_metric if you'd like to restore the old behavior.\n",
      "[03:51:13] WARNING: ../src/learner.cc:1115: Starting in XGBoost 1.3.0, the default evaluation metric used with the objective 'binary:logistic' was changed from 'error' to 'logloss'. Explicitly set eval_metric if you'd like to restore the old behavior.\n",
      "[03:51:15] WARNING: ../src/learner.cc:1115: Starting in XGBoost 1.3.0, the default evaluation metric used with the objective 'binary:logistic' was changed from 'error' to 'logloss'. Explicitly set eval_metric if you'd like to restore the old behavior.\n",
      "[03:51:17] WARNING: ../src/learner.cc:1115: Starting in XGBoost 1.3.0, the default evaluation metric used with the objective 'binary:logistic' was changed from 'error' to 'logloss'. Explicitly set eval_metric if you'd like to restore the old behavior.\n",
      "[03:51:20] WARNING: ../src/learner.cc:1115: Starting in XGBoost 1.3.0, the default evaluation metric used with the objective 'binary:logistic' was changed from 'error' to 'logloss'. Explicitly set eval_metric if you'd like to restore the old behavior.\n",
      "[03:51:24] WARNING: ../src/learner.cc:1115: Starting in XGBoost 1.3.0, the default evaluation metric used with the objective 'binary:logistic' was changed from 'error' to 'logloss'. Explicitly set eval_metric if you'd like to restore the old behavior.\n",
      "[03:51:29] WARNING: ../src/learner.cc:1115: Starting in XGBoost 1.3.0, the default evaluation metric used with the objective 'binary:logistic' was changed from 'error' to 'logloss'. Explicitly set eval_metric if you'd like to restore the old behavior.\n"
     ]
    },
    {
     "name": "stdout",
     "output_type": "stream",
     "text": [
      "[03:51:33] WARNING: ../src/learner.cc:1115: Starting in XGBoost 1.3.0, the default evaluation metric used with the objective 'binary:logistic' was changed from 'error' to 'logloss'. Explicitly set eval_metric if you'd like to restore the old behavior.\n",
      "[03:51:38] WARNING: ../src/learner.cc:1115: Starting in XGBoost 1.3.0, the default evaluation metric used with the objective 'binary:logistic' was changed from 'error' to 'logloss'. Explicitly set eval_metric if you'd like to restore the old behavior.\n",
      "[03:51:42] WARNING: ../src/learner.cc:1115: Starting in XGBoost 1.3.0, the default evaluation metric used with the objective 'binary:logistic' was changed from 'error' to 'logloss'. Explicitly set eval_metric if you'd like to restore the old behavior.\n",
      "[03:51:47] WARNING: ../src/learner.cc:1115: Starting in XGBoost 1.3.0, the default evaluation metric used with the objective 'binary:logistic' was changed from 'error' to 'logloss'. Explicitly set eval_metric if you'd like to restore the old behavior.\n",
      "[03:51:52] WARNING: ../src/learner.cc:1115: Starting in XGBoost 1.3.0, the default evaluation metric used with the objective 'binary:logistic' was changed from 'error' to 'logloss'. Explicitly set eval_metric if you'd like to restore the old behavior.\n",
      "[03:51:56] WARNING: ../src/learner.cc:1115: Starting in XGBoost 1.3.0, the default evaluation metric used with the objective 'binary:logistic' was changed from 'error' to 'logloss'. Explicitly set eval_metric if you'd like to restore the old behavior.\n",
      "[03:52:01] WARNING: ../src/learner.cc:1115: Starting in XGBoost 1.3.0, the default evaluation metric used with the objective 'binary:logistic' was changed from 'error' to 'logloss'. Explicitly set eval_metric if you'd like to restore the old behavior.\n",
      "[03:52:08] WARNING: ../src/learner.cc:1115: Starting in XGBoost 1.3.0, the default evaluation metric used with the objective 'binary:logistic' was changed from 'error' to 'logloss'. Explicitly set eval_metric if you'd like to restore the old behavior.\n",
      "[03:52:15] WARNING: ../src/learner.cc:1115: Starting in XGBoost 1.3.0, the default evaluation metric used with the objective 'binary:logistic' was changed from 'error' to 'logloss'. Explicitly set eval_metric if you'd like to restore the old behavior.\n",
      "[03:52:26] WARNING: ../src/learner.cc:1115: Starting in XGBoost 1.3.0, the default evaluation metric used with the objective 'binary:logistic' was changed from 'error' to 'logloss'. Explicitly set eval_metric if you'd like to restore the old behavior.\n",
      "[03:52:33] WARNING: ../src/learner.cc:1115: Starting in XGBoost 1.3.0, the default evaluation metric used with the objective 'binary:logistic' was changed from 'error' to 'logloss'. Explicitly set eval_metric if you'd like to restore the old behavior.\n",
      "[03:52:40] WARNING: ../src/learner.cc:1115: Starting in XGBoost 1.3.0, the default evaluation metric used with the objective 'binary:logistic' was changed from 'error' to 'logloss'. Explicitly set eval_metric if you'd like to restore the old behavior.\n",
      "[03:52:47] WARNING: ../src/learner.cc:1115: Starting in XGBoost 1.3.0, the default evaluation metric used with the objective 'binary:logistic' was changed from 'error' to 'logloss'. Explicitly set eval_metric if you'd like to restore the old behavior.\n",
      "[03:52:54] WARNING: ../src/learner.cc:1115: Starting in XGBoost 1.3.0, the default evaluation metric used with the objective 'binary:logistic' was changed from 'error' to 'logloss'. Explicitly set eval_metric if you'd like to restore the old behavior.\n",
      "[03:53:01] WARNING: ../src/learner.cc:1115: Starting in XGBoost 1.3.0, the default evaluation metric used with the objective 'binary:logistic' was changed from 'error' to 'logloss'. Explicitly set eval_metric if you'd like to restore the old behavior.\n",
      "[03:53:08] WARNING: ../src/learner.cc:1115: Starting in XGBoost 1.3.0, the default evaluation metric used with the objective 'binary:logistic' was changed from 'error' to 'logloss'. Explicitly set eval_metric if you'd like to restore the old behavior.\n",
      "[03:53:09] WARNING: ../src/learner.cc:1115: Starting in XGBoost 1.3.0, the default evaluation metric used with the objective 'binary:logistic' was changed from 'error' to 'logloss'. Explicitly set eval_metric if you'd like to restore the old behavior.\n",
      "[03:53:10] WARNING: ../src/learner.cc:1115: Starting in XGBoost 1.3.0, the default evaluation metric used with the objective 'binary:logistic' was changed from 'error' to 'logloss'. Explicitly set eval_metric if you'd like to restore the old behavior.\n",
      "[03:53:11] WARNING: ../src/learner.cc:1115: Starting in XGBoost 1.3.0, the default evaluation metric used with the objective 'binary:logistic' was changed from 'error' to 'logloss'. Explicitly set eval_metric if you'd like to restore the old behavior.\n",
      "[03:53:12] WARNING: ../src/learner.cc:1115: Starting in XGBoost 1.3.0, the default evaluation metric used with the objective 'binary:logistic' was changed from 'error' to 'logloss'. Explicitly set eval_metric if you'd like to restore the old behavior.\n",
      "[03:53:13] WARNING: ../src/learner.cc:1115: Starting in XGBoost 1.3.0, the default evaluation metric used with the objective 'binary:logistic' was changed from 'error' to 'logloss'. Explicitly set eval_metric if you'd like to restore the old behavior.\n",
      "[03:53:14] WARNING: ../src/learner.cc:1115: Starting in XGBoost 1.3.0, the default evaluation metric used with the objective 'binary:logistic' was changed from 'error' to 'logloss'. Explicitly set eval_metric if you'd like to restore the old behavior.\n",
      "[03:53:15] WARNING: ../src/learner.cc:1115: Starting in XGBoost 1.3.0, the default evaluation metric used with the objective 'binary:logistic' was changed from 'error' to 'logloss'. Explicitly set eval_metric if you'd like to restore the old behavior.\n",
      "[03:53:16] WARNING: ../src/learner.cc:1115: Starting in XGBoost 1.3.0, the default evaluation metric used with the objective 'binary:logistic' was changed from 'error' to 'logloss'. Explicitly set eval_metric if you'd like to restore the old behavior.\n",
      "[03:53:17] WARNING: ../src/learner.cc:1115: Starting in XGBoost 1.3.0, the default evaluation metric used with the objective 'binary:logistic' was changed from 'error' to 'logloss'. Explicitly set eval_metric if you'd like to restore the old behavior.\n",
      "[03:53:19] WARNING: ../src/learner.cc:1115: Starting in XGBoost 1.3.0, the default evaluation metric used with the objective 'binary:logistic' was changed from 'error' to 'logloss'. Explicitly set eval_metric if you'd like to restore the old behavior.\n",
      "[03:53:20] WARNING: ../src/learner.cc:1115: Starting in XGBoost 1.3.0, the default evaluation metric used with the objective 'binary:logistic' was changed from 'error' to 'logloss'. Explicitly set eval_metric if you'd like to restore the old behavior.\n",
      "[03:53:22] WARNING: ../src/learner.cc:1115: Starting in XGBoost 1.3.0, the default evaluation metric used with the objective 'binary:logistic' was changed from 'error' to 'logloss'. Explicitly set eval_metric if you'd like to restore the old behavior.\n",
      "[03:53:24] WARNING: ../src/learner.cc:1115: Starting in XGBoost 1.3.0, the default evaluation metric used with the objective 'binary:logistic' was changed from 'error' to 'logloss'. Explicitly set eval_metric if you'd like to restore the old behavior.\n",
      "[03:53:27] WARNING: ../src/learner.cc:1115: Starting in XGBoost 1.3.0, the default evaluation metric used with the objective 'binary:logistic' was changed from 'error' to 'logloss'. Explicitly set eval_metric if you'd like to restore the old behavior.\n",
      "[03:53:29] WARNING: ../src/learner.cc:1115: Starting in XGBoost 1.3.0, the default evaluation metric used with the objective 'binary:logistic' was changed from 'error' to 'logloss'. Explicitly set eval_metric if you'd like to restore the old behavior.\n",
      "[03:53:30] WARNING: ../src/learner.cc:1115: Starting in XGBoost 1.3.0, the default evaluation metric used with the objective 'binary:logistic' was changed from 'error' to 'logloss'. Explicitly set eval_metric if you'd like to restore the old behavior.\n",
      "[03:53:32] WARNING: ../src/learner.cc:1115: Starting in XGBoost 1.3.0, the default evaluation metric used with the objective 'binary:logistic' was changed from 'error' to 'logloss'. Explicitly set eval_metric if you'd like to restore the old behavior.\n"
     ]
    },
    {
     "name": "stdout",
     "output_type": "stream",
     "text": [
      "[03:53:33] WARNING: ../src/learner.cc:1115: Starting in XGBoost 1.3.0, the default evaluation metric used with the objective 'binary:logistic' was changed from 'error' to 'logloss'. Explicitly set eval_metric if you'd like to restore the old behavior.\n",
      "[03:53:36] WARNING: ../src/learner.cc:1115: Starting in XGBoost 1.3.0, the default evaluation metric used with the objective 'binary:logistic' was changed from 'error' to 'logloss'. Explicitly set eval_metric if you'd like to restore the old behavior.\n",
      "[03:53:39] WARNING: ../src/learner.cc:1115: Starting in XGBoost 1.3.0, the default evaluation metric used with the objective 'binary:logistic' was changed from 'error' to 'logloss'. Explicitly set eval_metric if you'd like to restore the old behavior.\n",
      "[03:53:41] WARNING: ../src/learner.cc:1115: Starting in XGBoost 1.3.0, the default evaluation metric used with the objective 'binary:logistic' was changed from 'error' to 'logloss'. Explicitly set eval_metric if you'd like to restore the old behavior.\n",
      "[03:53:43] WARNING: ../src/learner.cc:1115: Starting in XGBoost 1.3.0, the default evaluation metric used with the objective 'binary:logistic' was changed from 'error' to 'logloss'. Explicitly set eval_metric if you'd like to restore the old behavior.\n",
      "[03:53:46] WARNING: ../src/learner.cc:1115: Starting in XGBoost 1.3.0, the default evaluation metric used with the objective 'binary:logistic' was changed from 'error' to 'logloss'. Explicitly set eval_metric if you'd like to restore the old behavior.\n",
      "[03:53:49] WARNING: ../src/learner.cc:1115: Starting in XGBoost 1.3.0, the default evaluation metric used with the objective 'binary:logistic' was changed from 'error' to 'logloss'. Explicitly set eval_metric if you'd like to restore the old behavior.\n",
      "[03:53:51] WARNING: ../src/learner.cc:1115: Starting in XGBoost 1.3.0, the default evaluation metric used with the objective 'binary:logistic' was changed from 'error' to 'logloss'. Explicitly set eval_metric if you'd like to restore the old behavior.\n",
      "[03:53:53] WARNING: ../src/learner.cc:1115: Starting in XGBoost 1.3.0, the default evaluation metric used with the objective 'binary:logistic' was changed from 'error' to 'logloss'. Explicitly set eval_metric if you'd like to restore the old behavior.\n",
      "[03:53:56] WARNING: ../src/learner.cc:1115: Starting in XGBoost 1.3.0, the default evaluation metric used with the objective 'binary:logistic' was changed from 'error' to 'logloss'. Explicitly set eval_metric if you'd like to restore the old behavior.\n",
      "[03:53:59] WARNING: ../src/learner.cc:1115: Starting in XGBoost 1.3.0, the default evaluation metric used with the objective 'binary:logistic' was changed from 'error' to 'logloss'. Explicitly set eval_metric if you'd like to restore the old behavior.\n",
      "[03:54:00] WARNING: ../src/learner.cc:1115: Starting in XGBoost 1.3.0, the default evaluation metric used with the objective 'binary:logistic' was changed from 'error' to 'logloss'. Explicitly set eval_metric if you'd like to restore the old behavior.\n",
      "[03:54:02] WARNING: ../src/learner.cc:1115: Starting in XGBoost 1.3.0, the default evaluation metric used with the objective 'binary:logistic' was changed from 'error' to 'logloss'. Explicitly set eval_metric if you'd like to restore the old behavior.\n",
      "[03:54:03] WARNING: ../src/learner.cc:1115: Starting in XGBoost 1.3.0, the default evaluation metric used with the objective 'binary:logistic' was changed from 'error' to 'logloss'. Explicitly set eval_metric if you'd like to restore the old behavior.\n",
      "[03:54:04] WARNING: ../src/learner.cc:1115: Starting in XGBoost 1.3.0, the default evaluation metric used with the objective 'binary:logistic' was changed from 'error' to 'logloss'. Explicitly set eval_metric if you'd like to restore the old behavior.\n",
      "[03:54:06] WARNING: ../src/learner.cc:1115: Starting in XGBoost 1.3.0, the default evaluation metric used with the objective 'binary:logistic' was changed from 'error' to 'logloss'. Explicitly set eval_metric if you'd like to restore the old behavior.\n",
      "[03:54:07] WARNING: ../src/learner.cc:1115: Starting in XGBoost 1.3.0, the default evaluation metric used with the objective 'binary:logistic' was changed from 'error' to 'logloss'. Explicitly set eval_metric if you'd like to restore the old behavior.\n",
      "[03:54:08] WARNING: ../src/learner.cc:1115: Starting in XGBoost 1.3.0, the default evaluation metric used with the objective 'binary:logistic' was changed from 'error' to 'logloss'. Explicitly set eval_metric if you'd like to restore the old behavior.\n",
      "[03:54:10] WARNING: ../src/learner.cc:1115: Starting in XGBoost 1.3.0, the default evaluation metric used with the objective 'binary:logistic' was changed from 'error' to 'logloss'. Explicitly set eval_metric if you'd like to restore the old behavior.\n",
      "[03:54:12] WARNING: ../src/learner.cc:1115: Starting in XGBoost 1.3.0, the default evaluation metric used with the objective 'binary:logistic' was changed from 'error' to 'logloss'. Explicitly set eval_metric if you'd like to restore the old behavior.\n",
      "[03:54:15] WARNING: ../src/learner.cc:1115: Starting in XGBoost 1.3.0, the default evaluation metric used with the objective 'binary:logistic' was changed from 'error' to 'logloss'. Explicitly set eval_metric if you'd like to restore the old behavior.\n",
      "[03:54:18] WARNING: ../src/learner.cc:1115: Starting in XGBoost 1.3.0, the default evaluation metric used with the objective 'binary:logistic' was changed from 'error' to 'logloss'. Explicitly set eval_metric if you'd like to restore the old behavior.\n",
      "[03:54:21] WARNING: ../src/learner.cc:1115: Starting in XGBoost 1.3.0, the default evaluation metric used with the objective 'binary:logistic' was changed from 'error' to 'logloss'. Explicitly set eval_metric if you'd like to restore the old behavior.\n",
      "[03:54:23] WARNING: ../src/learner.cc:1115: Starting in XGBoost 1.3.0, the default evaluation metric used with the objective 'binary:logistic' was changed from 'error' to 'logloss'. Explicitly set eval_metric if you'd like to restore the old behavior.\n",
      "[03:54:26] WARNING: ../src/learner.cc:1115: Starting in XGBoost 1.3.0, the default evaluation metric used with the objective 'binary:logistic' was changed from 'error' to 'logloss'. Explicitly set eval_metric if you'd like to restore the old behavior.\n",
      "[03:54:28] WARNING: ../src/learner.cc:1115: Starting in XGBoost 1.3.0, the default evaluation metric used with the objective 'binary:logistic' was changed from 'error' to 'logloss'. Explicitly set eval_metric if you'd like to restore the old behavior.\n",
      "[03:54:31] WARNING: ../src/learner.cc:1115: Starting in XGBoost 1.3.0, the default evaluation metric used with the objective 'binary:logistic' was changed from 'error' to 'logloss'. Explicitly set eval_metric if you'd like to restore the old behavior.\n",
      "[03:54:33] WARNING: ../src/learner.cc:1115: Starting in XGBoost 1.3.0, the default evaluation metric used with the objective 'binary:logistic' was changed from 'error' to 'logloss'. Explicitly set eval_metric if you'd like to restore the old behavior.\n",
      "[03:54:38] WARNING: ../src/learner.cc:1115: Starting in XGBoost 1.3.0, the default evaluation metric used with the objective 'binary:logistic' was changed from 'error' to 'logloss'. Explicitly set eval_metric if you'd like to restore the old behavior.\n",
      "[03:54:41] WARNING: ../src/learner.cc:1115: Starting in XGBoost 1.3.0, the default evaluation metric used with the objective 'binary:logistic' was changed from 'error' to 'logloss'. Explicitly set eval_metric if you'd like to restore the old behavior.\n",
      "[03:54:46] WARNING: ../src/learner.cc:1115: Starting in XGBoost 1.3.0, the default evaluation metric used with the objective 'binary:logistic' was changed from 'error' to 'logloss'. Explicitly set eval_metric if you'd like to restore the old behavior.\n",
      "[03:54:50] WARNING: ../src/learner.cc:1115: Starting in XGBoost 1.3.0, the default evaluation metric used with the objective 'binary:logistic' was changed from 'error' to 'logloss'. Explicitly set eval_metric if you'd like to restore the old behavior.\n",
      "[03:54:53] WARNING: ../src/learner.cc:1115: Starting in XGBoost 1.3.0, the default evaluation metric used with the objective 'binary:logistic' was changed from 'error' to 'logloss'. Explicitly set eval_metric if you'd like to restore the old behavior.\n"
     ]
    },
    {
     "name": "stdout",
     "output_type": "stream",
     "text": [
      "[03:54:58] WARNING: ../src/learner.cc:1115: Starting in XGBoost 1.3.0, the default evaluation metric used with the objective 'binary:logistic' was changed from 'error' to 'logloss'. Explicitly set eval_metric if you'd like to restore the old behavior.\n",
      "[03:55:01] WARNING: ../src/learner.cc:1115: Starting in XGBoost 1.3.0, the default evaluation metric used with the objective 'binary:logistic' was changed from 'error' to 'logloss'. Explicitly set eval_metric if you'd like to restore the old behavior.\n",
      "[03:55:05] WARNING: ../src/learner.cc:1115: Starting in XGBoost 1.3.0, the default evaluation metric used with the objective 'binary:logistic' was changed from 'error' to 'logloss'. Explicitly set eval_metric if you'd like to restore the old behavior.\n",
      "[03:55:09] WARNING: ../src/learner.cc:1115: Starting in XGBoost 1.3.0, the default evaluation metric used with the objective 'binary:logistic' was changed from 'error' to 'logloss'. Explicitly set eval_metric if you'd like to restore the old behavior.\n",
      "[03:55:11] WARNING: ../src/learner.cc:1115: Starting in XGBoost 1.3.0, the default evaluation metric used with the objective 'binary:logistic' was changed from 'error' to 'logloss'. Explicitly set eval_metric if you'd like to restore the old behavior.\n",
      "[03:55:13] WARNING: ../src/learner.cc:1115: Starting in XGBoost 1.3.0, the default evaluation metric used with the objective 'binary:logistic' was changed from 'error' to 'logloss'. Explicitly set eval_metric if you'd like to restore the old behavior.\n",
      "[03:55:15] WARNING: ../src/learner.cc:1115: Starting in XGBoost 1.3.0, the default evaluation metric used with the objective 'binary:logistic' was changed from 'error' to 'logloss'. Explicitly set eval_metric if you'd like to restore the old behavior.\n",
      "[03:55:18] WARNING: ../src/learner.cc:1115: Starting in XGBoost 1.3.0, the default evaluation metric used with the objective 'binary:logistic' was changed from 'error' to 'logloss'. Explicitly set eval_metric if you'd like to restore the old behavior.\n",
      "[03:55:20] WARNING: ../src/learner.cc:1115: Starting in XGBoost 1.3.0, the default evaluation metric used with the objective 'binary:logistic' was changed from 'error' to 'logloss'. Explicitly set eval_metric if you'd like to restore the old behavior.\n",
      "[03:55:22] WARNING: ../src/learner.cc:1115: Starting in XGBoost 1.3.0, the default evaluation metric used with the objective 'binary:logistic' was changed from 'error' to 'logloss'. Explicitly set eval_metric if you'd like to restore the old behavior.\n",
      "[03:55:24] WARNING: ../src/learner.cc:1115: Starting in XGBoost 1.3.0, the default evaluation metric used with the objective 'binary:logistic' was changed from 'error' to 'logloss'. Explicitly set eval_metric if you'd like to restore the old behavior.\n",
      "[03:55:27] WARNING: ../src/learner.cc:1115: Starting in XGBoost 1.3.0, the default evaluation metric used with the objective 'binary:logistic' was changed from 'error' to 'logloss'. Explicitly set eval_metric if you'd like to restore the old behavior.\n",
      "[03:55:29] WARNING: ../src/learner.cc:1115: Starting in XGBoost 1.3.0, the default evaluation metric used with the objective 'binary:logistic' was changed from 'error' to 'logloss'. Explicitly set eval_metric if you'd like to restore the old behavior.\n",
      "[03:55:33] WARNING: ../src/learner.cc:1115: Starting in XGBoost 1.3.0, the default evaluation metric used with the objective 'binary:logistic' was changed from 'error' to 'logloss'. Explicitly set eval_metric if you'd like to restore the old behavior.\n",
      "[03:55:42] WARNING: ../src/learner.cc:1115: Starting in XGBoost 1.3.0, the default evaluation metric used with the objective 'binary:logistic' was changed from 'error' to 'logloss'. Explicitly set eval_metric if you'd like to restore the old behavior.\n",
      "[03:55:46] WARNING: ../src/learner.cc:1115: Starting in XGBoost 1.3.0, the default evaluation metric used with the objective 'binary:logistic' was changed from 'error' to 'logloss'. Explicitly set eval_metric if you'd like to restore the old behavior.\n",
      "[03:55:51] WARNING: ../src/learner.cc:1115: Starting in XGBoost 1.3.0, the default evaluation metric used with the objective 'binary:logistic' was changed from 'error' to 'logloss'. Explicitly set eval_metric if you'd like to restore the old behavior.\n",
      "[03:55:55] WARNING: ../src/learner.cc:1115: Starting in XGBoost 1.3.0, the default evaluation metric used with the objective 'binary:logistic' was changed from 'error' to 'logloss'. Explicitly set eval_metric if you'd like to restore the old behavior.\n",
      "[03:56:00] WARNING: ../src/learner.cc:1115: Starting in XGBoost 1.3.0, the default evaluation metric used with the objective 'binary:logistic' was changed from 'error' to 'logloss'. Explicitly set eval_metric if you'd like to restore the old behavior.\n",
      "[03:56:04] WARNING: ../src/learner.cc:1115: Starting in XGBoost 1.3.0, the default evaluation metric used with the objective 'binary:logistic' was changed from 'error' to 'logloss'. Explicitly set eval_metric if you'd like to restore the old behavior.\n",
      "[03:56:08] WARNING: ../src/learner.cc:1115: Starting in XGBoost 1.3.0, the default evaluation metric used with the objective 'binary:logistic' was changed from 'error' to 'logloss'. Explicitly set eval_metric if you'd like to restore the old behavior.\n",
      "[03:56:12] WARNING: ../src/learner.cc:1115: Starting in XGBoost 1.3.0, the default evaluation metric used with the objective 'binary:logistic' was changed from 'error' to 'logloss'. Explicitly set eval_metric if you'd like to restore the old behavior.\n",
      "[03:56:19] WARNING: ../src/learner.cc:1115: Starting in XGBoost 1.3.0, the default evaluation metric used with the objective 'binary:logistic' was changed from 'error' to 'logloss'. Explicitly set eval_metric if you'd like to restore the old behavior.\n",
      "[03:56:25] WARNING: ../src/learner.cc:1115: Starting in XGBoost 1.3.0, the default evaluation metric used with the objective 'binary:logistic' was changed from 'error' to 'logloss'. Explicitly set eval_metric if you'd like to restore the old behavior.\n",
      "[03:56:31] WARNING: ../src/learner.cc:1115: Starting in XGBoost 1.3.0, the default evaluation metric used with the objective 'binary:logistic' was changed from 'error' to 'logloss'. Explicitly set eval_metric if you'd like to restore the old behavior.\n",
      "[03:56:37] WARNING: ../src/learner.cc:1115: Starting in XGBoost 1.3.0, the default evaluation metric used with the objective 'binary:logistic' was changed from 'error' to 'logloss'. Explicitly set eval_metric if you'd like to restore the old behavior.\n",
      "[03:56:43] WARNING: ../src/learner.cc:1115: Starting in XGBoost 1.3.0, the default evaluation metric used with the objective 'binary:logistic' was changed from 'error' to 'logloss'. Explicitly set eval_metric if you'd like to restore the old behavior.\n",
      "[03:56:50] WARNING: ../src/learner.cc:1115: Starting in XGBoost 1.3.0, the default evaluation metric used with the objective 'binary:logistic' was changed from 'error' to 'logloss'. Explicitly set eval_metric if you'd like to restore the old behavior.\n",
      "[03:56:56] WARNING: ../src/learner.cc:1115: Starting in XGBoost 1.3.0, the default evaluation metric used with the objective 'binary:logistic' was changed from 'error' to 'logloss'. Explicitly set eval_metric if you'd like to restore the old behavior.\n",
      "[03:57:02] WARNING: ../src/learner.cc:1115: Starting in XGBoost 1.3.0, the default evaluation metric used with the objective 'binary:logistic' was changed from 'error' to 'logloss'. Explicitly set eval_metric if you'd like to restore the old behavior.\n",
      "[03:57:08] WARNING: ../src/learner.cc:1115: Starting in XGBoost 1.3.0, the default evaluation metric used with the objective 'binary:logistic' was changed from 'error' to 'logloss'. Explicitly set eval_metric if you'd like to restore the old behavior.\n",
      "[03:57:09] WARNING: ../src/learner.cc:1115: Starting in XGBoost 1.3.0, the default evaluation metric used with the objective 'binary:logistic' was changed from 'error' to 'logloss'. Explicitly set eval_metric if you'd like to restore the old behavior.\n",
      "[03:57:10] WARNING: ../src/learner.cc:1115: Starting in XGBoost 1.3.0, the default evaluation metric used with the objective 'binary:logistic' was changed from 'error' to 'logloss'. Explicitly set eval_metric if you'd like to restore the old behavior.\n"
     ]
    },
    {
     "name": "stdout",
     "output_type": "stream",
     "text": [
      "[03:57:11] WARNING: ../src/learner.cc:1115: Starting in XGBoost 1.3.0, the default evaluation metric used with the objective 'binary:logistic' was changed from 'error' to 'logloss'. Explicitly set eval_metric if you'd like to restore the old behavior.\n",
      "[03:57:12] WARNING: ../src/learner.cc:1115: Starting in XGBoost 1.3.0, the default evaluation metric used with the objective 'binary:logistic' was changed from 'error' to 'logloss'. Explicitly set eval_metric if you'd like to restore the old behavior.\n",
      "[03:57:13] WARNING: ../src/learner.cc:1115: Starting in XGBoost 1.3.0, the default evaluation metric used with the objective 'binary:logistic' was changed from 'error' to 'logloss'. Explicitly set eval_metric if you'd like to restore the old behavior.\n",
      "[03:57:14] WARNING: ../src/learner.cc:1115: Starting in XGBoost 1.3.0, the default evaluation metric used with the objective 'binary:logistic' was changed from 'error' to 'logloss'. Explicitly set eval_metric if you'd like to restore the old behavior.\n",
      "[03:57:15] WARNING: ../src/learner.cc:1115: Starting in XGBoost 1.3.0, the default evaluation metric used with the objective 'binary:logistic' was changed from 'error' to 'logloss'. Explicitly set eval_metric if you'd like to restore the old behavior.\n",
      "[03:57:15] WARNING: ../src/learner.cc:1115: Starting in XGBoost 1.3.0, the default evaluation metric used with the objective 'binary:logistic' was changed from 'error' to 'logloss'. Explicitly set eval_metric if you'd like to restore the old behavior.\n",
      "[03:57:16] WARNING: ../src/learner.cc:1115: Starting in XGBoost 1.3.0, the default evaluation metric used with the objective 'binary:logistic' was changed from 'error' to 'logloss'. Explicitly set eval_metric if you'd like to restore the old behavior.\n",
      "[03:57:18] WARNING: ../src/learner.cc:1115: Starting in XGBoost 1.3.0, the default evaluation metric used with the objective 'binary:logistic' was changed from 'error' to 'logloss'. Explicitly set eval_metric if you'd like to restore the old behavior.\n",
      "[03:57:20] WARNING: ../src/learner.cc:1115: Starting in XGBoost 1.3.0, the default evaluation metric used with the objective 'binary:logistic' was changed from 'error' to 'logloss'. Explicitly set eval_metric if you'd like to restore the old behavior.\n",
      "[03:57:22] WARNING: ../src/learner.cc:1115: Starting in XGBoost 1.3.0, the default evaluation metric used with the objective 'binary:logistic' was changed from 'error' to 'logloss'. Explicitly set eval_metric if you'd like to restore the old behavior.\n",
      "[03:57:23] WARNING: ../src/learner.cc:1115: Starting in XGBoost 1.3.0, the default evaluation metric used with the objective 'binary:logistic' was changed from 'error' to 'logloss'. Explicitly set eval_metric if you'd like to restore the old behavior.\n",
      "[03:57:25] WARNING: ../src/learner.cc:1115: Starting in XGBoost 1.3.0, the default evaluation metric used with the objective 'binary:logistic' was changed from 'error' to 'logloss'. Explicitly set eval_metric if you'd like to restore the old behavior.\n",
      "[03:57:27] WARNING: ../src/learner.cc:1115: Starting in XGBoost 1.3.0, the default evaluation metric used with the objective 'binary:logistic' was changed from 'error' to 'logloss'. Explicitly set eval_metric if you'd like to restore the old behavior.\n",
      "[03:57:28] WARNING: ../src/learner.cc:1115: Starting in XGBoost 1.3.0, the default evaluation metric used with the objective 'binary:logistic' was changed from 'error' to 'logloss'. Explicitly set eval_metric if you'd like to restore the old behavior.\n",
      "[03:57:30] WARNING: ../src/learner.cc:1115: Starting in XGBoost 1.3.0, the default evaluation metric used with the objective 'binary:logistic' was changed from 'error' to 'logloss'. Explicitly set eval_metric if you'd like to restore the old behavior.\n",
      "[03:57:32] WARNING: ../src/learner.cc:1115: Starting in XGBoost 1.3.0, the default evaluation metric used with the objective 'binary:logistic' was changed from 'error' to 'logloss'. Explicitly set eval_metric if you'd like to restore the old behavior.\n",
      "[03:57:34] WARNING: ../src/learner.cc:1115: Starting in XGBoost 1.3.0, the default evaluation metric used with the objective 'binary:logistic' was changed from 'error' to 'logloss'. Explicitly set eval_metric if you'd like to restore the old behavior.\n",
      "[03:57:37] WARNING: ../src/learner.cc:1115: Starting in XGBoost 1.3.0, the default evaluation metric used with the objective 'binary:logistic' was changed from 'error' to 'logloss'. Explicitly set eval_metric if you'd like to restore the old behavior.\n",
      "[03:57:39] WARNING: ../src/learner.cc:1115: Starting in XGBoost 1.3.0, the default evaluation metric used with the objective 'binary:logistic' was changed from 'error' to 'logloss'. Explicitly set eval_metric if you'd like to restore the old behavior.\n",
      "[03:57:42] WARNING: ../src/learner.cc:1115: Starting in XGBoost 1.3.0, the default evaluation metric used with the objective 'binary:logistic' was changed from 'error' to 'logloss'. Explicitly set eval_metric if you'd like to restore the old behavior.\n",
      "[03:57:44] WARNING: ../src/learner.cc:1115: Starting in XGBoost 1.3.0, the default evaluation metric used with the objective 'binary:logistic' was changed from 'error' to 'logloss'. Explicitly set eval_metric if you'd like to restore the old behavior.\n",
      "[03:57:47] WARNING: ../src/learner.cc:1115: Starting in XGBoost 1.3.0, the default evaluation metric used with the objective 'binary:logistic' was changed from 'error' to 'logloss'. Explicitly set eval_metric if you'd like to restore the old behavior.\n",
      "[03:57:49] WARNING: ../src/learner.cc:1115: Starting in XGBoost 1.3.0, the default evaluation metric used with the objective 'binary:logistic' was changed from 'error' to 'logloss'. Explicitly set eval_metric if you'd like to restore the old behavior.\n",
      "[03:57:52] WARNING: ../src/learner.cc:1115: Starting in XGBoost 1.3.0, the default evaluation metric used with the objective 'binary:logistic' was changed from 'error' to 'logloss'. Explicitly set eval_metric if you'd like to restore the old behavior.\n",
      "[03:57:54] WARNING: ../src/learner.cc:1115: Starting in XGBoost 1.3.0, the default evaluation metric used with the objective 'binary:logistic' was changed from 'error' to 'logloss'. Explicitly set eval_metric if you'd like to restore the old behavior.\n",
      "[03:57:55] WARNING: ../src/learner.cc:1115: Starting in XGBoost 1.3.0, the default evaluation metric used with the objective 'binary:logistic' was changed from 'error' to 'logloss'. Explicitly set eval_metric if you'd like to restore the old behavior.\n",
      "[03:57:57] WARNING: ../src/learner.cc:1115: Starting in XGBoost 1.3.0, the default evaluation metric used with the objective 'binary:logistic' was changed from 'error' to 'logloss'. Explicitly set eval_metric if you'd like to restore the old behavior.\n",
      "[03:57:58] WARNING: ../src/learner.cc:1115: Starting in XGBoost 1.3.0, the default evaluation metric used with the objective 'binary:logistic' was changed from 'error' to 'logloss'. Explicitly set eval_metric if you'd like to restore the old behavior.\n",
      "[03:58:00] WARNING: ../src/learner.cc:1115: Starting in XGBoost 1.3.0, the default evaluation metric used with the objective 'binary:logistic' was changed from 'error' to 'logloss'. Explicitly set eval_metric if you'd like to restore the old behavior.\n",
      "[03:58:01] WARNING: ../src/learner.cc:1115: Starting in XGBoost 1.3.0, the default evaluation metric used with the objective 'binary:logistic' was changed from 'error' to 'logloss'. Explicitly set eval_metric if you'd like to restore the old behavior.\n",
      "[03:58:02] WARNING: ../src/learner.cc:1115: Starting in XGBoost 1.3.0, the default evaluation metric used with the objective 'binary:logistic' was changed from 'error' to 'logloss'. Explicitly set eval_metric if you'd like to restore the old behavior.\n",
      "[03:58:03] WARNING: ../src/learner.cc:1115: Starting in XGBoost 1.3.0, the default evaluation metric used with the objective 'binary:logistic' was changed from 'error' to 'logloss'. Explicitly set eval_metric if you'd like to restore the old behavior.\n",
      "[03:58:05] WARNING: ../src/learner.cc:1115: Starting in XGBoost 1.3.0, the default evaluation metric used with the objective 'binary:logistic' was changed from 'error' to 'logloss'. Explicitly set eval_metric if you'd like to restore the old behavior.\n"
     ]
    },
    {
     "name": "stdout",
     "output_type": "stream",
     "text": [
      "[03:58:06] WARNING: ../src/learner.cc:1115: Starting in XGBoost 1.3.0, the default evaluation metric used with the objective 'binary:logistic' was changed from 'error' to 'logloss'. Explicitly set eval_metric if you'd like to restore the old behavior.\n",
      "[03:58:09] WARNING: ../src/learner.cc:1115: Starting in XGBoost 1.3.0, the default evaluation metric used with the objective 'binary:logistic' was changed from 'error' to 'logloss'. Explicitly set eval_metric if you'd like to restore the old behavior.\n",
      "[03:58:11] WARNING: ../src/learner.cc:1115: Starting in XGBoost 1.3.0, the default evaluation metric used with the objective 'binary:logistic' was changed from 'error' to 'logloss'. Explicitly set eval_metric if you'd like to restore the old behavior.\n",
      "[03:58:14] WARNING: ../src/learner.cc:1115: Starting in XGBoost 1.3.0, the default evaluation metric used with the objective 'binary:logistic' was changed from 'error' to 'logloss'. Explicitly set eval_metric if you'd like to restore the old behavior.\n",
      "[03:58:17] WARNING: ../src/learner.cc:1115: Starting in XGBoost 1.3.0, the default evaluation metric used with the objective 'binary:logistic' was changed from 'error' to 'logloss'. Explicitly set eval_metric if you'd like to restore the old behavior.\n",
      "[03:58:19] WARNING: ../src/learner.cc:1115: Starting in XGBoost 1.3.0, the default evaluation metric used with the objective 'binary:logistic' was changed from 'error' to 'logloss'. Explicitly set eval_metric if you'd like to restore the old behavior.\n",
      "[03:58:22] WARNING: ../src/learner.cc:1115: Starting in XGBoost 1.3.0, the default evaluation metric used with the objective 'binary:logistic' was changed from 'error' to 'logloss'. Explicitly set eval_metric if you'd like to restore the old behavior.\n",
      "[03:58:25] WARNING: ../src/learner.cc:1115: Starting in XGBoost 1.3.0, the default evaluation metric used with the objective 'binary:logistic' was changed from 'error' to 'logloss'. Explicitly set eval_metric if you'd like to restore the old behavior.\n",
      "[03:58:27] WARNING: ../src/learner.cc:1115: Starting in XGBoost 1.3.0, the default evaluation metric used with the objective 'binary:logistic' was changed from 'error' to 'logloss'. Explicitly set eval_metric if you'd like to restore the old behavior.\n",
      "[03:58:30] WARNING: ../src/learner.cc:1115: Starting in XGBoost 1.3.0, the default evaluation metric used with the objective 'binary:logistic' was changed from 'error' to 'logloss'. Explicitly set eval_metric if you'd like to restore the old behavior.\n",
      "[03:58:34] WARNING: ../src/learner.cc:1115: Starting in XGBoost 1.3.0, the default evaluation metric used with the objective 'binary:logistic' was changed from 'error' to 'logloss'. Explicitly set eval_metric if you'd like to restore the old behavior.\n",
      "[03:58:38] WARNING: ../src/learner.cc:1115: Starting in XGBoost 1.3.0, the default evaluation metric used with the objective 'binary:logistic' was changed from 'error' to 'logloss'. Explicitly set eval_metric if you'd like to restore the old behavior.\n",
      "[03:58:42] WARNING: ../src/learner.cc:1115: Starting in XGBoost 1.3.0, the default evaluation metric used with the objective 'binary:logistic' was changed from 'error' to 'logloss'. Explicitly set eval_metric if you'd like to restore the old behavior.\n",
      "[03:58:46] WARNING: ../src/learner.cc:1115: Starting in XGBoost 1.3.0, the default evaluation metric used with the objective 'binary:logistic' was changed from 'error' to 'logloss'. Explicitly set eval_metric if you'd like to restore the old behavior.\n",
      "[03:58:50] WARNING: ../src/learner.cc:1115: Starting in XGBoost 1.3.0, the default evaluation metric used with the objective 'binary:logistic' was changed from 'error' to 'logloss'. Explicitly set eval_metric if you'd like to restore the old behavior.\n",
      "[03:58:54] WARNING: ../src/learner.cc:1115: Starting in XGBoost 1.3.0, the default evaluation metric used with the objective 'binary:logistic' was changed from 'error' to 'logloss'. Explicitly set eval_metric if you'd like to restore the old behavior.\n",
      "[03:58:58] WARNING: ../src/learner.cc:1115: Starting in XGBoost 1.3.0, the default evaluation metric used with the objective 'binary:logistic' was changed from 'error' to 'logloss'. Explicitly set eval_metric if you'd like to restore the old behavior.\n",
      "[03:59:02] WARNING: ../src/learner.cc:1115: Starting in XGBoost 1.3.0, the default evaluation metric used with the objective 'binary:logistic' was changed from 'error' to 'logloss'. Explicitly set eval_metric if you'd like to restore the old behavior.\n",
      "[03:59:05] WARNING: ../src/learner.cc:1115: Starting in XGBoost 1.3.0, the default evaluation metric used with the objective 'binary:logistic' was changed from 'error' to 'logloss'. Explicitly set eval_metric if you'd like to restore the old behavior.\n",
      "[03:59:08] WARNING: ../src/learner.cc:1115: Starting in XGBoost 1.3.0, the default evaluation metric used with the objective 'binary:logistic' was changed from 'error' to 'logloss'. Explicitly set eval_metric if you'd like to restore the old behavior.\n",
      "[03:59:10] WARNING: ../src/learner.cc:1115: Starting in XGBoost 1.3.0, the default evaluation metric used with the objective 'binary:logistic' was changed from 'error' to 'logloss'. Explicitly set eval_metric if you'd like to restore the old behavior.\n",
      "[03:59:12] WARNING: ../src/learner.cc:1115: Starting in XGBoost 1.3.0, the default evaluation metric used with the objective 'binary:logistic' was changed from 'error' to 'logloss'. Explicitly set eval_metric if you'd like to restore the old behavior.\n",
      "[03:59:14] WARNING: ../src/learner.cc:1115: Starting in XGBoost 1.3.0, the default evaluation metric used with the objective 'binary:logistic' was changed from 'error' to 'logloss'. Explicitly set eval_metric if you'd like to restore the old behavior.\n",
      "[03:59:16] WARNING: ../src/learner.cc:1115: Starting in XGBoost 1.3.0, the default evaluation metric used with the objective 'binary:logistic' was changed from 'error' to 'logloss'. Explicitly set eval_metric if you'd like to restore the old behavior.\n",
      "[03:59:19] WARNING: ../src/learner.cc:1115: Starting in XGBoost 1.3.0, the default evaluation metric used with the objective 'binary:logistic' was changed from 'error' to 'logloss'. Explicitly set eval_metric if you'd like to restore the old behavior.\n",
      "[03:59:21] WARNING: ../src/learner.cc:1115: Starting in XGBoost 1.3.0, the default evaluation metric used with the objective 'binary:logistic' was changed from 'error' to 'logloss'. Explicitly set eval_metric if you'd like to restore the old behavior.\n",
      "[03:59:23] WARNING: ../src/learner.cc:1115: Starting in XGBoost 1.3.0, the default evaluation metric used with the objective 'binary:logistic' was changed from 'error' to 'logloss'. Explicitly set eval_metric if you'd like to restore the old behavior.\n",
      "[03:59:25] WARNING: ../src/learner.cc:1115: Starting in XGBoost 1.3.0, the default evaluation metric used with the objective 'binary:logistic' was changed from 'error' to 'logloss'. Explicitly set eval_metric if you'd like to restore the old behavior.\n",
      "[03:59:29] WARNING: ../src/learner.cc:1115: Starting in XGBoost 1.3.0, the default evaluation metric used with the objective 'binary:logistic' was changed from 'error' to 'logloss'. Explicitly set eval_metric if you'd like to restore the old behavior.\n",
      "[03:59:33] WARNING: ../src/learner.cc:1115: Starting in XGBoost 1.3.0, the default evaluation metric used with the objective 'binary:logistic' was changed from 'error' to 'logloss'. Explicitly set eval_metric if you'd like to restore the old behavior.\n",
      "[03:59:38] WARNING: ../src/learner.cc:1115: Starting in XGBoost 1.3.0, the default evaluation metric used with the objective 'binary:logistic' was changed from 'error' to 'logloss'. Explicitly set eval_metric if you'd like to restore the old behavior.\n",
      "[03:59:42] WARNING: ../src/learner.cc:1115: Starting in XGBoost 1.3.0, the default evaluation metric used with the objective 'binary:logistic' was changed from 'error' to 'logloss'. Explicitly set eval_metric if you'd like to restore the old behavior.\n",
      "[03:59:46] WARNING: ../src/learner.cc:1115: Starting in XGBoost 1.3.0, the default evaluation metric used with the objective 'binary:logistic' was changed from 'error' to 'logloss'. Explicitly set eval_metric if you'd like to restore the old behavior.\n"
     ]
    },
    {
     "name": "stdout",
     "output_type": "stream",
     "text": [
      "[03:59:50] WARNING: ../src/learner.cc:1115: Starting in XGBoost 1.3.0, the default evaluation metric used with the objective 'binary:logistic' was changed from 'error' to 'logloss'. Explicitly set eval_metric if you'd like to restore the old behavior.\n",
      "[03:59:54] WARNING: ../src/learner.cc:1115: Starting in XGBoost 1.3.0, the default evaluation metric used with the objective 'binary:logistic' was changed from 'error' to 'logloss'. Explicitly set eval_metric if you'd like to restore the old behavior.\n",
      "[03:59:58] WARNING: ../src/learner.cc:1115: Starting in XGBoost 1.3.0, the default evaluation metric used with the objective 'binary:logistic' was changed from 'error' to 'logloss'. Explicitly set eval_metric if you'd like to restore the old behavior.\n",
      "[04:00:02] WARNING: ../src/learner.cc:1115: Starting in XGBoost 1.3.0, the default evaluation metric used with the objective 'binary:logistic' was changed from 'error' to 'logloss'. Explicitly set eval_metric if you'd like to restore the old behavior.\n",
      "[04:00:08] WARNING: ../src/learner.cc:1115: Starting in XGBoost 1.3.0, the default evaluation metric used with the objective 'binary:logistic' was changed from 'error' to 'logloss'. Explicitly set eval_metric if you'd like to restore the old behavior.\n",
      "[04:00:13] WARNING: ../src/learner.cc:1115: Starting in XGBoost 1.3.0, the default evaluation metric used with the objective 'binary:logistic' was changed from 'error' to 'logloss'. Explicitly set eval_metric if you'd like to restore the old behavior.\n",
      "[04:00:20] WARNING: ../src/learner.cc:1115: Starting in XGBoost 1.3.0, the default evaluation metric used with the objective 'binary:logistic' was changed from 'error' to 'logloss'. Explicitly set eval_metric if you'd like to restore the old behavior.\n",
      "[04:00:26] WARNING: ../src/learner.cc:1115: Starting in XGBoost 1.3.0, the default evaluation metric used with the objective 'binary:logistic' was changed from 'error' to 'logloss'. Explicitly set eval_metric if you'd like to restore the old behavior.\n",
      "[04:00:32] WARNING: ../src/learner.cc:1115: Starting in XGBoost 1.3.0, the default evaluation metric used with the objective 'binary:logistic' was changed from 'error' to 'logloss'. Explicitly set eval_metric if you'd like to restore the old behavior.\n",
      "[04:00:37] WARNING: ../src/learner.cc:1115: Starting in XGBoost 1.3.0, the default evaluation metric used with the objective 'binary:logistic' was changed from 'error' to 'logloss'. Explicitly set eval_metric if you'd like to restore the old behavior.\n",
      "[04:00:43] WARNING: ../src/learner.cc:1115: Starting in XGBoost 1.3.0, the default evaluation metric used with the objective 'binary:logistic' was changed from 'error' to 'logloss'. Explicitly set eval_metric if you'd like to restore the old behavior.\n",
      "[04:00:49] WARNING: ../src/learner.cc:1115: Starting in XGBoost 1.3.0, the default evaluation metric used with the objective 'binary:logistic' was changed from 'error' to 'logloss'. Explicitly set eval_metric if you'd like to restore the old behavior.\n",
      "[04:00:59] WARNING: ../src/learner.cc:1115: Starting in XGBoost 1.3.0, the default evaluation metric used with the objective 'binary:logistic' was changed from 'error' to 'logloss'. Explicitly set eval_metric if you'd like to restore the old behavior.\n",
      "Tuned Hyperparameters : {'learning_rate': 0.2, 'max_depth': 10, 'n_estimators': 300, 'subsample': 1}\n",
      "Accuracy : 0.9869156166280754\n",
      "CPU times: user 12min 2s, sys: 1.53 s, total: 12min 4s\n",
      "Wall time: 12min 7s\n"
     ]
    }
   ],
   "source": [
    "%%time\n",
    "#initialize the xgb model\n",
    "xgb = XGBClassifier(random_state=12345)\n",
    "\n",
    "xgb_params = {\n",
    "    'learning_rate': [0.01, 0.1, 0.2],\n",
    "    'n_estimators': [100, 200, 300],\n",
    "    'max_depth': [2, 5, 10],\n",
    "    'subsample': [0.5, 0.7, 1]\n",
    "}\n",
    "\n",
    "xgb_clf = GridSearchCV(xgb, xgb_params, cv=3, scoring='roc_auc')\n",
    "xgb_clf.fit(upsample_features_train, upsample_target_train)\n",
    "\n",
    "print(\"Tuned Hyperparameters :\", xgb_clf.best_params_)\n",
    "print(\"Accuracy :\",xgb_clf.best_score_)"
   ]
  },
  {
   "cell_type": "code",
   "execution_count": 48,
   "metadata": {},
   "outputs": [
    {
     "name": "stdout",
     "output_type": "stream",
     "text": [
      "AUC - ROC Score: 0.920254593080742\n",
      "Accuracy Score for the Training Set: 0.8919687277896233\n"
     ]
    },
    {
     "data": {
      "image/png": "[encoded data removed]",
      "text/plain": [
       "<Figure size 640x480 with 1 Axes>"
      ]
     },
     "metadata": {},
     "output_type": "display_data"
    }
   ],
   "source": [
    "auc_roc(xgb_clf, features_valid, target_valid)"
   ]
  },
  {
   "cell_type": "markdown",
   "metadata": {},
   "source": [
    "**CatBoost**"
   ]
  },
  {
   "cell_type": "code",
   "execution_count": 50,
   "metadata": {},
   "outputs": [
    {
     "name": "stdout",
     "output_type": "stream",
     "text": [
      "Tuned Hyperparameters : {'depth': 10, 'iterations': 300, 'l2_leaf_reg': 1, 'learning_rate': 0.1}\n",
      "Accuracy : 0.9878939510331751\n",
      "CPU times: user 3min 28s, sys: 763 ms, total: 3min 28s\n",
      "Wall time: 3min 51s\n"
     ]
    }
   ],
   "source": [
    "%%time\n",
    "# Initialize the CatBoost model\n",
    "catboost = CatBoostClassifier(random_state=12345, verbose=0)\n",
    "\n",
    "# Define hyperparameter grid\n",
    "catboost_params = {\n",
    "    'learning_rate': [0.01, 0.1, 0.2],\n",
    "    'iterations': [100, 200, 300],\n",
    "    'depth': [2, 5, 10],\n",
    "    'l2_leaf_reg': [1, 3, 5]\n",
    "}\n",
    "\n",
    "catboost_clf = GridSearchCV(catboost, catboost_params, cv=3, scoring='roc_auc', n_jobs=-1)\n",
    "catboost_clf.fit(upsample_features_train, upsample_target_train)\n",
    "\n",
    "print(\"Tuned Hyperparameters :\", catboost_clf.best_params_)\n",
    "print(\"Accuracy :\" ,catboost_clf.best_score_)"
   ]
  },
  {
   "cell_type": "code",
   "execution_count": 51,
   "metadata": {},
   "outputs": [
    {
     "name": "stdout",
     "output_type": "stream",
     "text": [
      "AUC - ROC Score: 0.9052083387257921\n",
      "Accuracy Score for the Training Set: 0.8699360341151386\n"
     ]
    },
    {
     "data": {
      "image/png": "[encoded data removed]",
      "text/plain": [
       "<Figure size 640x480 with 1 Axes>"
      ]
     },
     "metadata": {},
     "output_type": "display_data"
    }
   ],
   "source": [
    "auc_roc(catboost_clf, features_valid, target_valid)"
   ]
  },
  {
   "cell_type": "markdown",
   "metadata": {},
   "source": [
    "**Test MOdel**"
   ]
  },
  {
   "cell_type": "code",
   "execution_count": 53,
   "metadata": {},
   "outputs": [
    {
     "name": "stdout",
     "output_type": "stream",
     "text": [
      "[04:34:25] WARNING: ../src/learner.cc:1115: Starting in XGBoost 1.3.0, the default evaluation metric used with the objective 'binary:logistic' was changed from 'error' to 'logloss'. Explicitly set eval_metric if you'd like to restore the old behavior.\n",
      "AUC-ROC Score for Final Model: 0.920715324764069\n",
      "\n"
     ]
    }
   ],
   "source": [
    "#final parameter grid\n",
    "final_params = {'learning_rate': 0.2,\n",
    "                'max_depth': 10,\n",
    "                'n_estimators': 300,\n",
    "                'subsample': 1}\n",
    "\n",
    "#initialize final model\n",
    "final_model = XGBClassifier(**final_params, random_state=12345)\n",
    "\n",
    "#train final model\n",
    "final_model.fit(upsample_features_train, upsample_target_train)\n",
    "\n",
    "#predict final model\n",
    "target_pred = final_model.predict(features_test)\n",
    "target_pred_proba = final_model.predict_proba(features_test)[:, 1]\n",
    "\n",
    "#auc roc score for final model\n",
    "print('AUC-ROC Score for Final Model:', roc_auc_score(target_test, target_pred_proba))\n",
    "print('')"
   ]
  },
  {
   "cell_type": "code",
   "execution_count": 54,
   "metadata": {},
   "outputs": [
    {
     "name": "stdout",
     "output_type": "stream",
     "text": [
      "AUC - ROC Score: 0.920715324764069\n",
      "Accuracy Score for the Training Set: 0.8862828713574982\n"
     ]
    },
    {
     "data": {
      "image/png": "[encoded data removed]",
      "text/plain": [
       "<Figure size 640x480 with 1 Axes>"
      ]
     },
     "metadata": {},
     "output_type": "display_data"
    }
   ],
   "source": [
    "auc_roc(final_model, features_test, target_test)"
   ]
  },
  {
   "cell_type": "markdown",
   "metadata": {},
   "source": [
    "# Conclusion"
   ]
  },
  {
   "cell_type": "markdown",
   "metadata": {},
   "source": [
    "The goal for the project was to identify which interconnect customers are most likely to churn based on the data presented. After several models, XGB provided the highest AUC ROC scores."
   ]
  },
  {
   "cell_type": "markdown",
   "metadata": {},
   "source": [
    "    **What steps of the plan were performed and what steps were skipped (explain why)?**\n",
    "        -All steps were performed some were condensed as one step since the task was within \n",
    "        the same category.\n",
    "        -The steps are listed above beneath the intro section.\n",
    "    \n",
    "    **What difficulties did you encounter and how did you manage to solve them?**\n",
    "        - My kernel kept crashing, I kept having to restart. LightGBM model was exhaustingly long... \n",
    "        so I decided to simply not use it. as an option since the others provided a dec auc score.\n",
    "        I kept changing my parameters and trying different platforms untill it worked in my favor.\n",
    "    \n",
    "    **What were some of the key steps to solving the task?**\n",
    "        - Taking a minute to walk away. Get some sunlight, and then come back when you aren't \n",
    "        so angry at the screen.\n",
    "    \n",
    "    **What is your final model and what quality score does it have?**\n",
    "        - My final model is the XGB AUC ROC .9207.\n",
    "        \n",
    "Here are some of the criteria used by the team leader:\n",
    "\n",
    "    Interconnect could leverage the insights from the EDA and the predictions from the final model to tailor special offers for target demographics, such as senior citizens and fiber optic subscribers, who were identified as having a higher likelihood of churn during the EDA. These efforts could include providing discounts on specific services, running promotions on others, and introducing targeted rewards to enhance customer loyalty.\n",
    "\n"
   ]
  }
 ],
 "metadata": {
  "ExecuteTimeLog": [
   {
    "duration": 2800,
    "start_time": "2024-12-21T01:34:30.761Z"
   },
   {
    "duration": 63,
    "start_time": "2024-12-21T01:34:44.968Z"
   },
   {
    "duration": 7,
    "start_time": "2024-12-21T01:56:55.111Z"
   },
   {
    "duration": 11,
    "start_time": "2024-12-21T01:57:55.941Z"
   },
   {
    "duration": 10,
    "start_time": "2024-12-21T01:58:15.547Z"
   },
   {
    "duration": 8,
    "start_time": "2024-12-21T01:58:29.219Z"
   },
   {
    "duration": 7,
    "start_time": "2024-12-21T01:58:40.479Z"
   },
   {
    "duration": 9,
    "start_time": "2024-12-21T01:58:48.280Z"
   },
   {
    "duration": 6,
    "start_time": "2024-12-21T01:58:57.017Z"
   },
   {
    "duration": 27,
    "start_time": "2024-12-21T02:05:20.393Z"
   },
   {
    "duration": 24,
    "start_time": "2024-12-21T02:34:06.563Z"
   },
   {
    "duration": 16,
    "start_time": "2024-12-21T02:34:22.101Z"
   },
   {
    "duration": 29,
    "start_time": "2024-12-21T02:34:41.993Z"
   },
   {
    "duration": 5,
    "start_time": "2024-12-21T02:36:23.271Z"
   },
   {
    "duration": 19,
    "start_time": "2024-12-21T02:36:34.003Z"
   },
   {
    "duration": 1094,
    "start_time": "2024-12-21T02:37:31.432Z"
   },
   {
    "duration": 43,
    "start_time": "2024-12-21T02:37:32.528Z"
   },
   {
    "duration": 7,
    "start_time": "2024-12-21T02:37:32.572Z"
   },
   {
    "duration": 11,
    "start_time": "2024-12-21T02:37:32.582Z"
   },
   {
    "duration": 11,
    "start_time": "2024-12-21T02:37:32.594Z"
   },
   {
    "duration": 8,
    "start_time": "2024-12-21T02:37:32.606Z"
   },
   {
    "duration": 7,
    "start_time": "2024-12-21T02:37:32.616Z"
   },
   {
    "duration": 7,
    "start_time": "2024-12-21T02:37:32.625Z"
   },
   {
    "duration": 38,
    "start_time": "2024-12-21T02:37:32.634Z"
   },
   {
    "duration": 33,
    "start_time": "2024-12-21T02:37:32.675Z"
   },
   {
    "duration": 24,
    "start_time": "2024-12-21T02:37:32.710Z"
   },
   {
    "duration": 36,
    "start_time": "2024-12-21T02:37:32.737Z"
   },
   {
    "duration": 25,
    "start_time": "2024-12-21T02:37:32.775Z"
   },
   {
    "duration": 5,
    "start_time": "2024-12-21T02:37:32.803Z"
   },
   {
    "duration": 19,
    "start_time": "2024-12-21T02:37:32.810Z"
   },
   {
    "duration": 256,
    "start_time": "2024-12-21T02:37:32.831Z"
   },
   {
    "duration": 20,
    "start_time": "2024-12-21T02:38:45.382Z"
   },
   {
    "duration": 406,
    "start_time": "2024-12-21T02:52:16.419Z"
   },
   {
    "duration": 378,
    "start_time": "2024-12-21T02:55:20.896Z"
   },
   {
    "duration": 354,
    "start_time": "2024-12-21T03:28:03.665Z"
   },
   {
    "duration": 60,
    "start_time": "2024-12-21T03:28:09.109Z"
   },
   {
    "duration": 95,
    "start_time": "2024-12-21T03:28:44.821Z"
   },
   {
    "duration": 92,
    "start_time": "2024-12-21T04:05:14.430Z"
   },
   {
    "duration": 95,
    "start_time": "2024-12-21T04:05:46.842Z"
   },
   {
    "duration": 68,
    "start_time": "2024-12-21T04:06:30.075Z"
   },
   {
    "duration": 2842,
    "start_time": "2024-12-21T18:05:55.991Z"
   },
   {
    "duration": 56,
    "start_time": "2024-12-21T18:05:58.835Z"
   },
   {
    "duration": 6,
    "start_time": "2024-12-21T18:05:58.893Z"
   },
   {
    "duration": 9,
    "start_time": "2024-12-21T18:05:58.901Z"
   },
   {
    "duration": 10,
    "start_time": "2024-12-21T18:05:58.911Z"
   },
   {
    "duration": 8,
    "start_time": "2024-12-21T18:05:58.922Z"
   },
   {
    "duration": 10,
    "start_time": "2024-12-21T18:05:58.932Z"
   },
   {
    "duration": 7,
    "start_time": "2024-12-21T18:05:58.945Z"
   },
   {
    "duration": 6,
    "start_time": "2024-12-21T18:05:58.954Z"
   },
   {
    "duration": 25,
    "start_time": "2024-12-21T18:05:58.963Z"
   },
   {
    "duration": 20,
    "start_time": "2024-12-21T18:05:58.989Z"
   },
   {
    "duration": 45,
    "start_time": "2024-12-21T18:05:59.011Z"
   },
   {
    "duration": 23,
    "start_time": "2024-12-21T18:05:59.057Z"
   },
   {
    "duration": 4,
    "start_time": "2024-12-21T18:05:59.081Z"
   },
   {
    "duration": 19,
    "start_time": "2024-12-21T18:05:59.087Z"
   },
   {
    "duration": 48,
    "start_time": "2024-12-21T18:05:59.107Z"
   },
   {
    "duration": 435,
    "start_time": "2024-12-21T18:05:59.158Z"
   },
   {
    "duration": 331,
    "start_time": "2024-12-21T18:05:59.595Z"
   },
   {
    "duration": 68,
    "start_time": "2024-12-21T18:05:59.928Z"
   },
   {
    "duration": 98,
    "start_time": "2024-12-21T18:05:59.998Z"
   },
   {
    "duration": 75,
    "start_time": "2024-12-21T18:06:00.098Z"
   },
   {
    "duration": 4,
    "start_time": "2024-12-21T18:06:00.175Z"
   },
   {
    "duration": 12,
    "start_time": "2024-12-21T18:06:17.604Z"
   },
   {
    "duration": 7,
    "start_time": "2024-12-21T18:10:32.242Z"
   },
   {
    "duration": 11,
    "start_time": "2024-12-21T18:10:46.504Z"
   },
   {
    "duration": 765,
    "start_time": "2024-12-21T18:11:00.660Z"
   },
   {
    "duration": 410,
    "start_time": "2024-12-21T18:31:50.546Z"
   },
   {
    "duration": 41,
    "start_time": "2024-12-21T18:36:41.906Z"
   },
   {
    "duration": 166,
    "start_time": "2024-12-21T18:38:27.803Z"
   },
   {
    "duration": 19,
    "start_time": "2024-12-21T18:40:27.820Z"
   },
   {
    "duration": 63,
    "start_time": "2024-12-21T18:40:52.404Z"
   },
   {
    "duration": 354,
    "start_time": "2024-12-21T18:41:51.278Z"
   },
   {
    "duration": 19,
    "start_time": "2024-12-21T18:43:00.669Z"
   },
   {
    "duration": 408,
    "start_time": "2024-12-21T18:43:50.038Z"
   },
   {
    "duration": 887,
    "start_time": "2024-12-21T18:46:13.176Z"
   },
   {
    "duration": 1068,
    "start_time": "2024-12-21T18:48:06.932Z"
   },
   {
    "duration": 35,
    "start_time": "2024-12-21T18:48:08.002Z"
   },
   {
    "duration": 7,
    "start_time": "2024-12-21T18:48:08.038Z"
   },
   {
    "duration": 9,
    "start_time": "2024-12-21T18:48:08.049Z"
   },
   {
    "duration": 9,
    "start_time": "2024-12-21T18:48:08.060Z"
   },
   {
    "duration": 7,
    "start_time": "2024-12-21T18:48:08.071Z"
   },
   {
    "duration": 7,
    "start_time": "2024-12-21T18:48:08.079Z"
   },
   {
    "duration": 8,
    "start_time": "2024-12-21T18:48:08.087Z"
   },
   {
    "duration": 6,
    "start_time": "2024-12-21T18:48:08.096Z"
   },
   {
    "duration": 26,
    "start_time": "2024-12-21T18:48:08.145Z"
   },
   {
    "duration": 18,
    "start_time": "2024-12-21T18:48:08.173Z"
   },
   {
    "duration": 15,
    "start_time": "2024-12-21T18:48:08.193Z"
   },
   {
    "duration": 46,
    "start_time": "2024-12-21T18:48:08.210Z"
   },
   {
    "duration": 4,
    "start_time": "2024-12-21T18:48:08.258Z"
   },
   {
    "duration": 19,
    "start_time": "2024-12-21T18:48:08.264Z"
   },
   {
    "duration": 20,
    "start_time": "2024-12-21T18:48:08.285Z"
   },
   {
    "duration": 462,
    "start_time": "2024-12-21T18:48:08.306Z"
   },
   {
    "duration": 319,
    "start_time": "2024-12-21T18:48:08.769Z"
   },
   {
    "duration": 71,
    "start_time": "2024-12-21T18:48:09.090Z"
   },
   {
    "duration": 100,
    "start_time": "2024-12-21T18:48:09.163Z"
   },
   {
    "duration": 67,
    "start_time": "2024-12-21T18:48:09.265Z"
   },
   {
    "duration": 12,
    "start_time": "2024-12-21T18:48:09.342Z"
   },
   {
    "duration": 6,
    "start_time": "2024-12-21T18:48:09.356Z"
   },
   {
    "duration": 11,
    "start_time": "2024-12-21T18:48:09.364Z"
   },
   {
    "duration": 421,
    "start_time": "2024-12-21T18:48:09.377Z"
   },
   {
    "duration": 421,
    "start_time": "2024-12-21T18:48:09.800Z"
   },
   {
    "duration": 440,
    "start_time": "2024-12-21T18:48:10.223Z"
   },
   {
    "duration": 877,
    "start_time": "2024-12-21T18:48:10.666Z"
   },
   {
    "duration": 8,
    "start_time": "2024-12-21T18:50:29.725Z"
   },
   {
    "duration": 11,
    "start_time": "2024-12-21T18:50:30.400Z"
   },
   {
    "duration": 1096,
    "start_time": "2024-12-21T18:54:45.096Z"
   },
   {
    "duration": 31,
    "start_time": "2024-12-21T18:54:46.194Z"
   },
   {
    "duration": 7,
    "start_time": "2024-12-21T18:54:46.226Z"
   },
   {
    "duration": 13,
    "start_time": "2024-12-21T18:54:46.235Z"
   },
   {
    "duration": 9,
    "start_time": "2024-12-21T18:54:46.251Z"
   },
   {
    "duration": 8,
    "start_time": "2024-12-21T18:54:46.261Z"
   },
   {
    "duration": 6,
    "start_time": "2024-12-21T18:54:46.271Z"
   },
   {
    "duration": 8,
    "start_time": "2024-12-21T18:54:46.278Z"
   },
   {
    "duration": 6,
    "start_time": "2024-12-21T18:54:46.287Z"
   },
   {
    "duration": 62,
    "start_time": "2024-12-21T18:54:46.295Z"
   },
   {
    "duration": 19,
    "start_time": "2024-12-21T18:54:46.358Z"
   },
   {
    "duration": 15,
    "start_time": "2024-12-21T18:54:46.379Z"
   },
   {
    "duration": 21,
    "start_time": "2024-12-21T18:54:46.396Z"
   },
   {
    "duration": 4,
    "start_time": "2024-12-21T18:54:46.445Z"
   },
   {
    "duration": 25,
    "start_time": "2024-12-21T18:54:46.450Z"
   },
   {
    "duration": 20,
    "start_time": "2024-12-21T18:54:46.476Z"
   },
   {
    "duration": 446,
    "start_time": "2024-12-21T18:54:46.498Z"
   },
   {
    "duration": 342,
    "start_time": "2024-12-21T18:54:46.946Z"
   },
   {
    "duration": 67,
    "start_time": "2024-12-21T18:54:47.291Z"
   },
   {
    "duration": 97,
    "start_time": "2024-12-21T18:54:47.360Z"
   },
   {
    "duration": 66,
    "start_time": "2024-12-21T18:54:47.459Z"
   },
   {
    "duration": 25,
    "start_time": "2024-12-21T18:54:47.527Z"
   },
   {
    "duration": 8,
    "start_time": "2024-12-21T18:54:47.553Z"
   },
   {
    "duration": 12,
    "start_time": "2024-12-21T18:54:47.562Z"
   },
   {
    "duration": 432,
    "start_time": "2024-12-21T18:54:47.576Z"
   },
   {
    "duration": 432,
    "start_time": "2024-12-21T18:54:48.010Z"
   },
   {
    "duration": 406,
    "start_time": "2024-12-21T18:54:48.444Z"
   },
   {
    "duration": 883,
    "start_time": "2024-12-21T18:54:48.852Z"
   },
   {
    "duration": 8,
    "start_time": "2024-12-21T18:54:49.737Z"
   },
   {
    "duration": 10,
    "start_time": "2024-12-21T18:54:49.747Z"
   },
   {
    "duration": 18,
    "start_time": "2024-12-21T18:54:49.759Z"
   },
   {
    "duration": 590,
    "start_time": "2024-12-21T19:01:55.621Z"
   },
   {
    "duration": 1138,
    "start_time": "2024-12-21T19:02:18.847Z"
   },
   {
    "duration": 32,
    "start_time": "2024-12-21T19:02:19.988Z"
   },
   {
    "duration": 6,
    "start_time": "2024-12-21T19:02:20.022Z"
   },
   {
    "duration": 16,
    "start_time": "2024-12-21T19:02:20.031Z"
   },
   {
    "duration": 9,
    "start_time": "2024-12-21T19:02:20.050Z"
   },
   {
    "duration": 7,
    "start_time": "2024-12-21T19:02:20.061Z"
   },
   {
    "duration": 6,
    "start_time": "2024-12-21T19:02:20.070Z"
   },
   {
    "duration": 7,
    "start_time": "2024-12-21T19:02:20.078Z"
   },
   {
    "duration": 6,
    "start_time": "2024-12-21T19:02:20.086Z"
   },
   {
    "duration": 62,
    "start_time": "2024-12-21T19:02:20.093Z"
   },
   {
    "duration": 19,
    "start_time": "2024-12-21T19:02:20.156Z"
   },
   {
    "duration": 15,
    "start_time": "2024-12-21T19:02:20.176Z"
   },
   {
    "duration": 21,
    "start_time": "2024-12-21T19:02:20.193Z"
   },
   {
    "duration": 28,
    "start_time": "2024-12-21T19:02:20.217Z"
   },
   {
    "duration": 24,
    "start_time": "2024-12-21T19:02:20.247Z"
   },
   {
    "duration": 21,
    "start_time": "2024-12-21T19:02:20.272Z"
   },
   {
    "duration": 440,
    "start_time": "2024-12-21T19:02:20.294Z"
   },
   {
    "duration": 348,
    "start_time": "2024-12-21T19:02:20.735Z"
   },
   {
    "duration": 69,
    "start_time": "2024-12-21T19:02:21.085Z"
   },
   {
    "duration": 102,
    "start_time": "2024-12-21T19:02:21.156Z"
   },
   {
    "duration": 70,
    "start_time": "2024-12-21T19:02:21.260Z"
   },
   {
    "duration": 20,
    "start_time": "2024-12-21T19:02:21.332Z"
   },
   {
    "duration": 7,
    "start_time": "2024-12-21T19:02:21.354Z"
   },
   {
    "duration": 12,
    "start_time": "2024-12-21T19:02:21.362Z"
   },
   {
    "duration": 434,
    "start_time": "2024-12-21T19:02:21.375Z"
   },
   {
    "duration": 421,
    "start_time": "2024-12-21T19:02:21.811Z"
   },
   {
    "duration": 413,
    "start_time": "2024-12-21T19:02:22.234Z"
   },
   {
    "duration": 867,
    "start_time": "2024-12-21T19:02:22.649Z"
   },
   {
    "duration": 20,
    "start_time": "2024-12-21T19:02:23.518Z"
   },
   {
    "duration": 17,
    "start_time": "2024-12-21T19:02:23.539Z"
   },
   {
    "duration": 26,
    "start_time": "2024-12-21T19:04:07.512Z"
   },
   {
    "duration": 4,
    "start_time": "2024-12-21T19:08:22.049Z"
   },
   {
    "duration": 9,
    "start_time": "2024-12-21T19:08:29.754Z"
   },
   {
    "duration": 34,
    "start_time": "2024-12-21T19:09:21.779Z"
   },
   {
    "duration": 1132,
    "start_time": "2024-12-21T19:10:19.700Z"
   },
   {
    "duration": 33,
    "start_time": "2024-12-21T19:10:20.834Z"
   },
   {
    "duration": 7,
    "start_time": "2024-12-21T19:10:20.868Z"
   },
   {
    "duration": 10,
    "start_time": "2024-12-21T19:10:20.876Z"
   },
   {
    "duration": 9,
    "start_time": "2024-12-21T19:10:20.888Z"
   },
   {
    "duration": 6,
    "start_time": "2024-12-21T19:10:20.899Z"
   },
   {
    "duration": 6,
    "start_time": "2024-12-21T19:10:20.907Z"
   },
   {
    "duration": 34,
    "start_time": "2024-12-21T19:10:20.915Z"
   },
   {
    "duration": 6,
    "start_time": "2024-12-21T19:10:20.950Z"
   },
   {
    "duration": 27,
    "start_time": "2024-12-21T19:10:20.958Z"
   },
   {
    "duration": 19,
    "start_time": "2024-12-21T19:10:20.986Z"
   },
   {
    "duration": 45,
    "start_time": "2024-12-21T19:10:21.007Z"
   },
   {
    "duration": 22,
    "start_time": "2024-12-21T19:10:21.054Z"
   },
   {
    "duration": 4,
    "start_time": "2024-12-21T19:10:21.079Z"
   },
   {
    "duration": 19,
    "start_time": "2024-12-21T19:10:21.085Z"
   },
   {
    "duration": 46,
    "start_time": "2024-12-21T19:10:21.105Z"
   },
   {
    "duration": 433,
    "start_time": "2024-12-21T19:10:21.152Z"
   },
   {
    "duration": 296,
    "start_time": "2024-12-21T19:10:21.586Z"
   },
   {
    "duration": 67,
    "start_time": "2024-12-21T19:10:21.883Z"
   },
   {
    "duration": 97,
    "start_time": "2024-12-21T19:10:21.952Z"
   },
   {
    "duration": 69,
    "start_time": "2024-12-21T19:10:22.050Z"
   },
   {
    "duration": 27,
    "start_time": "2024-12-21T19:10:22.120Z"
   },
   {
    "duration": 7,
    "start_time": "2024-12-21T19:10:22.148Z"
   },
   {
    "duration": 14,
    "start_time": "2024-12-21T19:10:22.157Z"
   },
   {
    "duration": 417,
    "start_time": "2024-12-21T19:10:22.173Z"
   },
   {
    "duration": 448,
    "start_time": "2024-12-21T19:10:22.591Z"
   },
   {
    "duration": 412,
    "start_time": "2024-12-21T19:10:23.042Z"
   },
   {
    "duration": 851,
    "start_time": "2024-12-21T19:10:23.456Z"
   },
   {
    "duration": 20,
    "start_time": "2024-12-21T19:10:24.309Z"
   },
   {
    "duration": 41,
    "start_time": "2024-12-21T19:10:24.331Z"
   },
   {
    "duration": 3,
    "start_time": "2024-12-21T19:10:24.374Z"
   },
   {
    "duration": 9,
    "start_time": "2024-12-21T19:10:24.379Z"
   },
   {
    "duration": 34,
    "start_time": "2024-12-21T19:10:24.389Z"
   },
   {
    "duration": 4,
    "start_time": "2024-12-21T19:13:12.259Z"
   },
   {
    "duration": 8,
    "start_time": "2024-12-21T19:13:25.259Z"
   },
   {
    "duration": 96,
    "start_time": "2024-12-21T19:13:34.331Z"
   },
   {
    "duration": 4,
    "start_time": "2024-12-21T19:19:12.845Z"
   },
   {
    "duration": 116,
    "start_time": "2024-12-21T19:20:12.244Z"
   },
   {
    "duration": 45607,
    "start_time": "2024-12-21T19:20:59.548Z"
   },
   {
    "duration": 1110,
    "start_time": "2024-12-21T19:24:17.636Z"
   },
   {
    "duration": 35,
    "start_time": "2024-12-21T19:24:18.748Z"
   },
   {
    "duration": 7,
    "start_time": "2024-12-21T19:24:18.784Z"
   },
   {
    "duration": 9,
    "start_time": "2024-12-21T19:24:18.793Z"
   },
   {
    "duration": 9,
    "start_time": "2024-12-21T19:24:18.806Z"
   },
   {
    "duration": 27,
    "start_time": "2024-12-21T19:24:18.816Z"
   },
   {
    "duration": 8,
    "start_time": "2024-12-21T19:24:18.844Z"
   },
   {
    "duration": 9,
    "start_time": "2024-12-21T19:24:18.853Z"
   },
   {
    "duration": 5,
    "start_time": "2024-12-21T19:24:18.863Z"
   },
   {
    "duration": 26,
    "start_time": "2024-12-21T19:24:18.869Z"
   },
   {
    "duration": 46,
    "start_time": "2024-12-21T19:24:18.897Z"
   },
   {
    "duration": 16,
    "start_time": "2024-12-21T19:24:18.945Z"
   },
   {
    "duration": 21,
    "start_time": "2024-12-21T19:24:18.962Z"
   },
   {
    "duration": 3,
    "start_time": "2024-12-21T19:24:18.986Z"
   },
   {
    "duration": 19,
    "start_time": "2024-12-21T19:24:18.991Z"
   },
   {
    "duration": 44,
    "start_time": "2024-12-21T19:24:19.011Z"
   },
   {
    "duration": 432,
    "start_time": "2024-12-21T19:24:19.056Z"
   },
   {
    "duration": 295,
    "start_time": "2024-12-21T19:24:19.490Z"
   },
   {
    "duration": 69,
    "start_time": "2024-12-21T19:24:19.787Z"
   },
   {
    "duration": 101,
    "start_time": "2024-12-21T19:24:19.859Z"
   },
   {
    "duration": 83,
    "start_time": "2024-12-21T19:24:19.961Z"
   },
   {
    "duration": 12,
    "start_time": "2024-12-21T19:24:20.046Z"
   },
   {
    "duration": 6,
    "start_time": "2024-12-21T19:24:20.060Z"
   },
   {
    "duration": 11,
    "start_time": "2024-12-21T19:24:20.067Z"
   },
   {
    "duration": 440,
    "start_time": "2024-12-21T19:24:20.079Z"
   },
   {
    "duration": 467,
    "start_time": "2024-12-21T19:24:20.521Z"
   },
   {
    "duration": 415,
    "start_time": "2024-12-21T19:24:20.990Z"
   },
   {
    "duration": 872,
    "start_time": "2024-12-21T19:24:21.407Z"
   },
   {
    "duration": 20,
    "start_time": "2024-12-21T19:24:22.282Z"
   },
   {
    "duration": 35,
    "start_time": "2024-12-21T19:24:22.303Z"
   },
   {
    "duration": 3,
    "start_time": "2024-12-21T19:24:22.340Z"
   },
   {
    "duration": 9,
    "start_time": "2024-12-21T19:24:22.345Z"
   },
   {
    "duration": 33,
    "start_time": "2024-12-21T19:24:22.356Z"
   },
   {
    "duration": 3,
    "start_time": "2024-12-21T19:24:22.391Z"
   },
   {
    "duration": 8,
    "start_time": "2024-12-21T19:24:22.395Z"
   },
   {
    "duration": 127,
    "start_time": "2024-12-21T19:24:22.405Z"
   },
   {
    "duration": 10,
    "start_time": "2024-12-21T19:24:22.533Z"
   },
   {
    "duration": 133,
    "start_time": "2024-12-21T19:24:22.545Z"
   },
   {
    "duration": 3,
    "start_time": "2024-12-21T19:24:22.680Z"
   },
   {
    "duration": 0,
    "start_time": "2024-12-21T19:24:22.685Z"
   },
   {
    "duration": 1141,
    "start_time": "2024-12-21T19:24:48.173Z"
   },
   {
    "duration": 31,
    "start_time": "2024-12-21T19:24:49.316Z"
   },
   {
    "duration": 7,
    "start_time": "2024-12-21T19:24:49.349Z"
   },
   {
    "duration": 9,
    "start_time": "2024-12-21T19:24:49.359Z"
   },
   {
    "duration": 9,
    "start_time": "2024-12-21T19:24:49.369Z"
   },
   {
    "duration": 6,
    "start_time": "2024-12-21T19:24:49.380Z"
   },
   {
    "duration": 6,
    "start_time": "2024-12-21T19:24:49.388Z"
   },
   {
    "duration": 7,
    "start_time": "2024-12-21T19:24:49.396Z"
   },
   {
    "duration": 38,
    "start_time": "2024-12-21T19:24:49.405Z"
   },
   {
    "duration": 27,
    "start_time": "2024-12-21T19:24:49.446Z"
   },
   {
    "duration": 18,
    "start_time": "2024-12-21T19:24:49.474Z"
   },
   {
    "duration": 14,
    "start_time": "2024-12-21T19:24:49.494Z"
   },
   {
    "duration": 48,
    "start_time": "2024-12-21T19:24:49.510Z"
   },
   {
    "duration": 3,
    "start_time": "2024-12-21T19:24:49.560Z"
   },
   {
    "duration": 19,
    "start_time": "2024-12-21T19:24:49.567Z"
   },
   {
    "duration": 20,
    "start_time": "2024-12-21T19:24:49.587Z"
   },
   {
    "duration": 472,
    "start_time": "2024-12-21T19:24:49.608Z"
   },
   {
    "duration": 307,
    "start_time": "2024-12-21T19:24:50.082Z"
   },
   {
    "duration": 68,
    "start_time": "2024-12-21T19:24:50.391Z"
   },
   {
    "duration": 114,
    "start_time": "2024-12-21T19:24:50.461Z"
   },
   {
    "duration": 80,
    "start_time": "2024-12-21T19:24:50.578Z"
   },
   {
    "duration": 16,
    "start_time": "2024-12-21T19:24:50.660Z"
   },
   {
    "duration": 7,
    "start_time": "2024-12-21T19:24:50.678Z"
   },
   {
    "duration": 11,
    "start_time": "2024-12-21T19:24:50.686Z"
   },
   {
    "duration": 462,
    "start_time": "2024-12-21T19:24:50.698Z"
   },
   {
    "duration": 473,
    "start_time": "2024-12-21T19:24:51.162Z"
   },
   {
    "duration": 422,
    "start_time": "2024-12-21T19:24:51.637Z"
   },
   {
    "duration": 869,
    "start_time": "2024-12-21T19:24:52.063Z"
   },
   {
    "duration": 22,
    "start_time": "2024-12-21T19:24:52.933Z"
   },
   {
    "duration": 40,
    "start_time": "2024-12-21T19:24:52.958Z"
   },
   {
    "duration": 3,
    "start_time": "2024-12-21T19:24:53.000Z"
   },
   {
    "duration": 9,
    "start_time": "2024-12-21T19:24:53.005Z"
   },
   {
    "duration": 56,
    "start_time": "2024-12-21T19:24:53.016Z"
   },
   {
    "duration": 4,
    "start_time": "2024-12-21T19:24:53.074Z"
   },
   {
    "duration": 9,
    "start_time": "2024-12-21T19:24:53.079Z"
   },
   {
    "duration": 115,
    "start_time": "2024-12-21T19:24:53.089Z"
   },
   {
    "duration": 5,
    "start_time": "2024-12-21T19:24:53.205Z"
   },
   {
    "duration": 136,
    "start_time": "2024-12-21T19:24:53.212Z"
   },
   {
    "duration": 45900,
    "start_time": "2024-12-21T19:24:53.349Z"
   },
   {
    "duration": 1121,
    "start_time": "2024-12-22T07:43:36.675Z"
   },
   {
    "duration": 35,
    "start_time": "2024-12-22T07:43:37.799Z"
   },
   {
    "duration": 6,
    "start_time": "2024-12-22T07:43:37.842Z"
   },
   {
    "duration": 9,
    "start_time": "2024-12-22T07:43:37.852Z"
   },
   {
    "duration": 10,
    "start_time": "2024-12-22T07:43:37.862Z"
   },
   {
    "duration": 8,
    "start_time": "2024-12-22T07:43:37.874Z"
   },
   {
    "duration": 7,
    "start_time": "2024-12-22T07:43:37.883Z"
   },
   {
    "duration": 9,
    "start_time": "2024-12-22T07:43:37.891Z"
   },
   {
    "duration": 5,
    "start_time": "2024-12-22T07:43:37.943Z"
   },
   {
    "duration": 27,
    "start_time": "2024-12-22T07:43:37.950Z"
   },
   {
    "duration": 18,
    "start_time": "2024-12-22T07:43:37.978Z"
   },
   {
    "duration": 49,
    "start_time": "2024-12-22T07:43:37.998Z"
   },
   {
    "duration": 22,
    "start_time": "2024-12-22T07:43:38.050Z"
   },
   {
    "duration": 3,
    "start_time": "2024-12-22T07:43:38.074Z"
   },
   {
    "duration": 23,
    "start_time": "2024-12-22T07:43:38.079Z"
   },
   {
    "duration": 49,
    "start_time": "2024-12-22T07:43:38.104Z"
   },
   {
    "duration": 429,
    "start_time": "2024-12-22T07:43:38.155Z"
   },
   {
    "duration": 310,
    "start_time": "2024-12-22T07:43:38.586Z"
   },
   {
    "duration": 68,
    "start_time": "2024-12-22T07:43:38.898Z"
   },
   {
    "duration": 104,
    "start_time": "2024-12-22T07:43:38.967Z"
   },
   {
    "duration": 80,
    "start_time": "2024-12-22T07:43:39.073Z"
   },
   {
    "duration": 12,
    "start_time": "2024-12-22T07:43:39.154Z"
   },
   {
    "duration": 6,
    "start_time": "2024-12-22T07:43:39.169Z"
   },
   {
    "duration": 10,
    "start_time": "2024-12-22T07:43:39.176Z"
   },
   {
    "duration": 457,
    "start_time": "2024-12-22T07:43:39.188Z"
   },
   {
    "duration": 474,
    "start_time": "2024-12-22T07:43:39.647Z"
   },
   {
    "duration": 444,
    "start_time": "2024-12-22T07:43:40.123Z"
   },
   {
    "duration": 990,
    "start_time": "2024-12-22T07:43:40.569Z"
   },
   {
    "duration": 25,
    "start_time": "2024-12-22T07:43:41.562Z"
   },
   {
    "duration": 53,
    "start_time": "2024-12-22T07:43:41.589Z"
   },
   {
    "duration": 4,
    "start_time": "2024-12-22T07:43:41.644Z"
   },
   {
    "duration": 13,
    "start_time": "2024-12-22T07:43:41.650Z"
   },
   {
    "duration": 47,
    "start_time": "2024-12-22T07:43:41.665Z"
   },
   {
    "duration": 29,
    "start_time": "2024-12-22T07:43:41.715Z"
   },
   {
    "duration": 8,
    "start_time": "2024-12-22T07:43:41.746Z"
   },
   {
    "duration": 126,
    "start_time": "2024-12-22T07:43:41.755Z"
   },
   {
    "duration": 4,
    "start_time": "2024-12-22T07:43:41.883Z"
   },
   {
    "duration": 130,
    "start_time": "2024-12-22T07:43:41.889Z"
   },
   {
    "duration": 45542,
    "start_time": "2024-12-22T07:43:42.021Z"
   },
   {
    "duration": 91,
    "start_time": "2024-12-22T07:49:47.706Z"
   },
   {
    "duration": 561019,
    "start_time": "2024-12-22T07:50:40.246Z"
   },
   {
    "duration": 15313,
    "start_time": "2024-12-22T08:01:34.043Z"
   },
   {
    "duration": 4049,
    "start_time": "2024-12-22T08:03:14.036Z"
   },
   {
    "duration": 120380,
    "start_time": "2024-12-22T08:03:30.984Z"
   },
   {
    "duration": 15049,
    "start_time": "2024-12-22T08:06:18.307Z"
   },
   {
    "duration": 20896,
    "start_time": "2024-12-22T08:07:35.762Z"
   },
   {
    "duration": 4,
    "start_time": "2024-12-22T08:09:15.233Z"
   },
   {
    "duration": 2906,
    "start_time": "2024-12-24T00:21:27.712Z"
   },
   {
    "duration": 70,
    "start_time": "2024-12-24T00:21:30.620Z"
   },
   {
    "duration": 8,
    "start_time": "2024-12-24T00:21:30.692Z"
   },
   {
    "duration": 11,
    "start_time": "2024-12-24T00:21:30.702Z"
   },
   {
    "duration": 11,
    "start_time": "2024-12-24T00:21:30.714Z"
   },
   {
    "duration": 7,
    "start_time": "2024-12-24T00:21:30.726Z"
   },
   {
    "duration": 6,
    "start_time": "2024-12-24T00:21:30.735Z"
   },
   {
    "duration": 7,
    "start_time": "2024-12-24T00:21:30.743Z"
   },
   {
    "duration": 6,
    "start_time": "2024-12-24T00:21:30.752Z"
   },
   {
    "duration": 63,
    "start_time": "2024-12-24T00:21:30.762Z"
   },
   {
    "duration": 18,
    "start_time": "2024-12-24T00:21:30.827Z"
   },
   {
    "duration": 15,
    "start_time": "2024-12-24T00:21:30.846Z"
   },
   {
    "duration": 22,
    "start_time": "2024-12-24T00:21:30.863Z"
   },
   {
    "duration": 26,
    "start_time": "2024-12-24T00:21:30.887Z"
   },
   {
    "duration": 19,
    "start_time": "2024-12-24T00:21:30.915Z"
   },
   {
    "duration": 27,
    "start_time": "2024-12-24T00:21:30.936Z"
   },
   {
    "duration": 509,
    "start_time": "2024-12-24T00:21:30.965Z"
   },
   {
    "duration": 326,
    "start_time": "2024-12-24T00:21:31.476Z"
   },
   {
    "duration": 64,
    "start_time": "2024-12-24T00:21:31.803Z"
   },
   {
    "duration": 106,
    "start_time": "2024-12-24T00:21:31.869Z"
   },
   {
    "duration": 83,
    "start_time": "2024-12-24T00:21:31.976Z"
   },
   {
    "duration": 13,
    "start_time": "2024-12-24T00:21:32.062Z"
   },
   {
    "duration": 6,
    "start_time": "2024-12-24T00:21:32.078Z"
   },
   {
    "duration": 10,
    "start_time": "2024-12-24T00:21:32.086Z"
   },
   {
    "duration": 418,
    "start_time": "2024-12-24T00:21:32.112Z"
   },
   {
    "duration": 374,
    "start_time": "2024-12-24T00:21:32.531Z"
   },
   {
    "duration": 417,
    "start_time": "2024-12-24T00:21:32.907Z"
   },
   {
    "duration": 944,
    "start_time": "2024-12-24T00:21:33.328Z"
   },
   {
    "duration": 20,
    "start_time": "2024-12-24T00:21:34.274Z"
   },
   {
    "duration": 36,
    "start_time": "2024-12-24T00:21:34.298Z"
   },
   {
    "duration": 3,
    "start_time": "2024-12-24T00:21:34.336Z"
   },
   {
    "duration": 11,
    "start_time": "2024-12-24T00:21:34.341Z"
   },
   {
    "duration": 59,
    "start_time": "2024-12-24T00:21:34.354Z"
   },
   {
    "duration": 4,
    "start_time": "2024-12-24T00:21:34.414Z"
   },
   {
    "duration": 8,
    "start_time": "2024-12-24T00:21:34.419Z"
   },
   {
    "duration": 109,
    "start_time": "2024-12-24T00:21:34.428Z"
   },
   {
    "duration": 4,
    "start_time": "2024-12-24T00:21:34.539Z"
   },
   {
    "duration": 135,
    "start_time": "2024-12-24T00:21:34.545Z"
   },
   {
    "duration": 638163,
    "start_time": "2024-12-24T00:21:34.681Z"
   },
   {
    "duration": 0,
    "start_time": "2024-12-24T00:32:12.846Z"
   },
   {
    "duration": 0,
    "start_time": "2024-12-24T00:32:12.848Z"
   },
   {
    "duration": 0,
    "start_time": "2024-12-24T00:32:12.850Z"
   },
   {
    "duration": 0,
    "start_time": "2024-12-24T00:32:12.853Z"
   },
   {
    "duration": 20,
    "start_time": "2024-12-24T00:34:17.021Z"
   },
   {
    "duration": 1113,
    "start_time": "2024-12-24T00:34:35.071Z"
   },
   {
    "duration": 38,
    "start_time": "2024-12-24T00:34:36.186Z"
   },
   {
    "duration": 7,
    "start_time": "2024-12-24T00:34:36.226Z"
   },
   {
    "duration": 9,
    "start_time": "2024-12-24T00:34:36.236Z"
   },
   {
    "duration": 12,
    "start_time": "2024-12-24T00:34:36.247Z"
   },
   {
    "duration": 8,
    "start_time": "2024-12-24T00:34:36.261Z"
   },
   {
    "duration": 6,
    "start_time": "2024-12-24T00:34:36.270Z"
   },
   {
    "duration": 41,
    "start_time": "2024-12-24T00:34:36.278Z"
   },
   {
    "duration": 7,
    "start_time": "2024-12-24T00:34:36.320Z"
   },
   {
    "duration": 29,
    "start_time": "2024-12-24T00:34:36.331Z"
   },
   {
    "duration": 53,
    "start_time": "2024-12-24T00:34:36.362Z"
   },
   {
    "duration": 20,
    "start_time": "2024-12-24T00:34:36.417Z"
   },
   {
    "duration": 23,
    "start_time": "2024-12-24T00:34:36.438Z"
   },
   {
    "duration": 4,
    "start_time": "2024-12-24T00:34:36.464Z"
   },
   {
    "duration": 57,
    "start_time": "2024-12-24T00:34:36.470Z"
   },
   {
    "duration": 22,
    "start_time": "2024-12-24T00:34:36.529Z"
   },
   {
    "duration": 410,
    "start_time": "2024-12-24T00:34:36.553Z"
   },
   {
    "duration": 340,
    "start_time": "2024-12-24T00:34:36.967Z"
   },
   {
    "duration": 74,
    "start_time": "2024-12-24T00:34:37.311Z"
   },
   {
    "duration": 105,
    "start_time": "2024-12-24T00:34:37.386Z"
   },
   {
    "duration": 152,
    "start_time": "2024-12-24T00:34:37.493Z"
   },
   {
    "duration": 11,
    "start_time": "2024-12-24T00:34:37.647Z"
   },
   {
    "duration": 6,
    "start_time": "2024-12-24T00:34:37.660Z"
   },
   {
    "duration": 11,
    "start_time": "2024-12-24T00:34:37.668Z"
   },
   {
    "duration": 459,
    "start_time": "2024-12-24T00:34:37.680Z"
   },
   {
    "duration": 374,
    "start_time": "2024-12-24T00:34:38.141Z"
   },
   {
    "duration": 411,
    "start_time": "2024-12-24T00:34:38.517Z"
   },
   {
    "duration": 897,
    "start_time": "2024-12-24T00:34:38.934Z"
   },
   {
    "duration": 25,
    "start_time": "2024-12-24T00:34:39.834Z"
   },
   {
    "duration": 69,
    "start_time": "2024-12-24T00:34:39.860Z"
   },
   {
    "duration": 3,
    "start_time": "2024-12-24T00:34:39.931Z"
   },
   {
    "duration": 16,
    "start_time": "2024-12-24T00:34:39.936Z"
   },
   {
    "duration": 57,
    "start_time": "2024-12-24T00:34:39.955Z"
   },
   {
    "duration": 4,
    "start_time": "2024-12-24T00:34:40.014Z"
   },
   {
    "duration": 9,
    "start_time": "2024-12-24T00:34:40.020Z"
   },
   {
    "duration": 116,
    "start_time": "2024-12-24T00:34:40.031Z"
   },
   {
    "duration": 4,
    "start_time": "2024-12-24T00:34:40.149Z"
   },
   {
    "duration": 133,
    "start_time": "2024-12-24T00:34:40.155Z"
   },
   {
    "duration": 185052,
    "start_time": "2024-12-24T00:34:40.290Z"
   },
   {
    "duration": 164369,
    "start_time": "2024-12-24T00:37:45.344Z"
   },
   {
    "duration": 542605,
    "start_time": "2024-12-24T00:40:29.715Z"
   },
   {
    "duration": 0,
    "start_time": "2024-12-24T00:58:23.821Z"
   },
   {
    "duration": 0,
    "start_time": "2024-12-24T00:58:23.822Z"
   },
   {
    "duration": 0,
    "start_time": "2024-12-24T00:58:23.824Z"
   },
   {
    "duration": 0,
    "start_time": "2024-12-24T00:58:23.825Z"
   },
   {
    "duration": 1175,
    "start_time": "2024-12-24T00:58:27.313Z"
   },
   {
    "duration": 34,
    "start_time": "2024-12-24T00:58:28.490Z"
   },
   {
    "duration": 7,
    "start_time": "2024-12-24T00:58:28.526Z"
   },
   {
    "duration": 10,
    "start_time": "2024-12-24T00:58:28.535Z"
   },
   {
    "duration": 9,
    "start_time": "2024-12-24T00:58:28.547Z"
   },
   {
    "duration": 7,
    "start_time": "2024-12-24T00:58:28.558Z"
   },
   {
    "duration": 7,
    "start_time": "2024-12-24T00:58:28.566Z"
   },
   {
    "duration": 44,
    "start_time": "2024-12-24T00:58:28.574Z"
   },
   {
    "duration": 6,
    "start_time": "2024-12-24T00:58:28.619Z"
   },
   {
    "duration": 27,
    "start_time": "2024-12-24T00:58:28.626Z"
   },
   {
    "duration": 19,
    "start_time": "2024-12-24T00:58:28.654Z"
   },
   {
    "duration": 54,
    "start_time": "2024-12-24T00:58:28.674Z"
   },
   {
    "duration": 20,
    "start_time": "2024-12-24T00:58:28.729Z"
   },
   {
    "duration": 3,
    "start_time": "2024-12-24T00:58:28.753Z"
   },
   {
    "duration": 20,
    "start_time": "2024-12-24T00:58:28.757Z"
   },
   {
    "duration": 52,
    "start_time": "2024-12-24T00:58:28.779Z"
   },
   {
    "duration": 422,
    "start_time": "2024-12-24T00:58:28.833Z"
   },
   {
    "duration": 313,
    "start_time": "2024-12-24T00:58:29.256Z"
   },
   {
    "duration": 67,
    "start_time": "2024-12-24T00:58:29.571Z"
   },
   {
    "duration": 109,
    "start_time": "2024-12-24T00:58:29.640Z"
   },
   {
    "duration": 133,
    "start_time": "2024-12-24T00:58:29.751Z"
   },
   {
    "duration": 11,
    "start_time": "2024-12-24T00:58:29.886Z"
   },
   {
    "duration": 6,
    "start_time": "2024-12-24T00:58:29.912Z"
   },
   {
    "duration": 12,
    "start_time": "2024-12-24T00:58:29.919Z"
   },
   {
    "duration": 442,
    "start_time": "2024-12-24T00:58:29.932Z"
   },
   {
    "duration": 402,
    "start_time": "2024-12-24T00:58:30.376Z"
   },
   {
    "duration": 434,
    "start_time": "2024-12-24T00:58:30.780Z"
   },
   {
    "duration": 853,
    "start_time": "2024-12-24T00:58:31.216Z"
   },
   {
    "duration": 20,
    "start_time": "2024-12-24T00:58:32.071Z"
   },
   {
    "duration": 51,
    "start_time": "2024-12-24T00:58:32.093Z"
   },
   {
    "duration": 4,
    "start_time": "2024-12-24T00:58:32.146Z"
   },
   {
    "duration": 10,
    "start_time": "2024-12-24T00:58:32.152Z"
   },
   {
    "duration": 59,
    "start_time": "2024-12-24T00:58:32.164Z"
   },
   {
    "duration": 5,
    "start_time": "2024-12-24T00:58:32.225Z"
   },
   {
    "duration": 9,
    "start_time": "2024-12-24T00:58:32.231Z"
   },
   {
    "duration": 125,
    "start_time": "2024-12-24T00:58:32.241Z"
   },
   {
    "duration": 4,
    "start_time": "2024-12-24T00:58:32.369Z"
   },
   {
    "duration": 141,
    "start_time": "2024-12-24T00:58:32.375Z"
   },
   {
    "duration": 547193,
    "start_time": "2024-12-24T00:58:32.519Z"
   },
   {
    "duration": 20506,
    "start_time": "2024-12-24T01:07:39.714Z"
   },
   {
    "duration": 4190,
    "start_time": "2024-12-24T01:08:00.225Z"
   },
   {
    "duration": 121476,
    "start_time": "2024-12-24T01:08:04.418Z"
   },
   {
    "duration": 274,
    "start_time": "2024-12-24T01:30:53.235Z"
   },
   {
    "duration": 544890,
    "start_time": "2024-12-24T01:31:49.439Z"
   },
   {
    "duration": 1114,
    "start_time": "2024-12-24T03:03:20.573Z"
   },
   {
    "duration": 39,
    "start_time": "2024-12-24T03:03:21.689Z"
   },
   {
    "duration": 7,
    "start_time": "2024-12-24T03:03:23.185Z"
   },
   {
    "duration": 10,
    "start_time": "2024-12-24T03:03:24.011Z"
   },
   {
    "duration": 11,
    "start_time": "2024-12-24T03:03:24.439Z"
   },
   {
    "duration": 8,
    "start_time": "2024-12-24T03:03:24.491Z"
   },
   {
    "duration": 7,
    "start_time": "2024-12-24T03:03:24.834Z"
   },
   {
    "duration": 8,
    "start_time": "2024-12-24T03:03:25.200Z"
   },
   {
    "duration": 6,
    "start_time": "2024-12-24T03:03:25.256Z"
   },
   {
    "duration": 27,
    "start_time": "2024-12-24T03:03:25.465Z"
   },
   {
    "duration": 19,
    "start_time": "2024-12-24T03:03:25.686Z"
   },
   {
    "duration": 15,
    "start_time": "2024-12-24T03:03:25.992Z"
   },
   {
    "duration": 23,
    "start_time": "2024-12-24T03:03:26.283Z"
   },
   {
    "duration": 3,
    "start_time": "2024-12-24T03:03:26.363Z"
   },
   {
    "duration": 19,
    "start_time": "2024-12-24T03:03:26.594Z"
   },
   {
    "duration": 22,
    "start_time": "2024-12-24T03:03:27.225Z"
   },
   {
    "duration": 421,
    "start_time": "2024-12-24T03:03:28.726Z"
   },
   {
    "duration": 327,
    "start_time": "2024-12-24T03:03:29.221Z"
   },
   {
    "duration": 60,
    "start_time": "2024-12-24T03:03:30.012Z"
   },
   {
    "duration": 99,
    "start_time": "2024-12-24T03:03:30.614Z"
   },
   {
    "duration": 126,
    "start_time": "2024-12-24T03:03:30.834Z"
   },
   {
    "duration": 12,
    "start_time": "2024-12-24T03:03:31.382Z"
   },
   {
    "duration": 6,
    "start_time": "2024-12-24T03:03:31.608Z"
   },
   {
    "duration": 11,
    "start_time": "2024-12-24T03:03:31.825Z"
   },
   {
    "duration": 412,
    "start_time": "2024-12-24T03:03:32.200Z"
   },
   {
    "duration": 383,
    "start_time": "2024-12-24T03:03:32.614Z"
   },
   {
    "duration": 410,
    "start_time": "2024-12-24T03:03:34.090Z"
   },
   {
    "duration": 882,
    "start_time": "2024-12-24T03:03:34.704Z"
   },
   {
    "duration": 28,
    "start_time": "2024-12-24T03:03:35.589Z"
   },
   {
    "duration": 34,
    "start_time": "2024-12-24T03:03:35.622Z"
   },
   {
    "duration": 3,
    "start_time": "2024-12-24T03:03:38.501Z"
   },
   {
    "duration": 10,
    "start_time": "2024-12-24T03:03:38.968Z"
   },
   {
    "duration": 35,
    "start_time": "2024-12-24T03:03:40.108Z"
   },
   {
    "duration": 4,
    "start_time": "2024-12-24T03:03:42.583Z"
   },
   {
    "duration": 8,
    "start_time": "2024-12-24T03:03:43.283Z"
   },
   {
    "duration": 98,
    "start_time": "2024-12-24T03:03:44.164Z"
   },
   {
    "duration": 4,
    "start_time": "2024-12-24T03:03:47.069Z"
   },
   {
    "duration": 122,
    "start_time": "2024-12-24T03:03:55.837Z"
   },
   {
    "duration": 45474,
    "start_time": "2024-12-24T03:04:37.174Z"
   },
   {
    "duration": 4108,
    "start_time": "2024-12-24T03:05:32.896Z"
   },
   {
    "duration": 96,
    "start_time": "2024-12-24T03:05:54.668Z"
   },
   {
    "duration": 0,
    "start_time": "2024-12-24T03:05:54.766Z"
   },
   {
    "duration": 20,
    "start_time": "2024-12-24T03:06:19.336Z"
   },
   {
    "duration": 4101,
    "start_time": "2024-12-24T03:06:56.067Z"
   },
   {
    "duration": 32475,
    "start_time": "2024-12-24T03:09:05.843Z"
   },
   {
    "duration": 54941,
    "start_time": "2024-12-24T03:10:03.193Z"
   },
   {
    "duration": 246,
    "start_time": "2024-12-24T03:11:56.521Z"
   },
   {
    "duration": 77659,
    "start_time": "2024-12-24T03:12:31.997Z"
   },
   {
    "duration": 8,
    "start_time": "2024-12-24T03:14:01.001Z"
   },
   {
    "duration": 4,
    "start_time": "2024-12-24T03:27:16.725Z"
   },
   {
    "duration": 227624,
    "start_time": "2024-12-24T03:30:10.360Z"
   },
   {
    "duration": 1169,
    "start_time": "2024-12-24T03:39:44.446Z"
   },
   {
    "duration": 31,
    "start_time": "2024-12-24T03:39:45.617Z"
   },
   {
    "duration": 6,
    "start_time": "2024-12-24T03:39:45.650Z"
   },
   {
    "duration": 9,
    "start_time": "2024-12-24T03:39:45.659Z"
   },
   {
    "duration": 9,
    "start_time": "2024-12-24T03:39:45.670Z"
   },
   {
    "duration": 31,
    "start_time": "2024-12-24T03:39:45.681Z"
   },
   {
    "duration": 6,
    "start_time": "2024-12-24T03:39:45.714Z"
   },
   {
    "duration": 8,
    "start_time": "2024-12-24T03:39:45.722Z"
   },
   {
    "duration": 6,
    "start_time": "2024-12-24T03:39:45.731Z"
   },
   {
    "duration": 26,
    "start_time": "2024-12-24T03:39:45.740Z"
   },
   {
    "duration": 47,
    "start_time": "2024-12-24T03:39:45.767Z"
   },
   {
    "duration": 16,
    "start_time": "2024-12-24T03:39:45.816Z"
   },
   {
    "duration": 21,
    "start_time": "2024-12-24T03:39:45.834Z"
   },
   {
    "duration": 4,
    "start_time": "2024-12-24T03:39:45.856Z"
   },
   {
    "duration": 50,
    "start_time": "2024-12-24T03:39:45.862Z"
   },
   {
    "duration": 24,
    "start_time": "2024-12-24T03:39:45.913Z"
   },
   {
    "duration": 421,
    "start_time": "2024-12-24T03:39:45.939Z"
   },
   {
    "duration": 314,
    "start_time": "2024-12-24T03:39:46.362Z"
   },
   {
    "duration": 65,
    "start_time": "2024-12-24T03:39:46.678Z"
   },
   {
    "duration": 99,
    "start_time": "2024-12-24T03:39:46.745Z"
   },
   {
    "duration": 134,
    "start_time": "2024-12-24T03:39:46.846Z"
   },
   {
    "duration": 12,
    "start_time": "2024-12-24T03:39:46.981Z"
   },
   {
    "duration": 19,
    "start_time": "2024-12-24T03:39:46.994Z"
   },
   {
    "duration": 10,
    "start_time": "2024-12-24T03:39:47.015Z"
   },
   {
    "duration": 420,
    "start_time": "2024-12-24T03:39:47.027Z"
   },
   {
    "duration": 370,
    "start_time": "2024-12-24T03:39:47.451Z"
   },
   {
    "duration": 407,
    "start_time": "2024-12-24T03:39:47.823Z"
   },
   {
    "duration": 852,
    "start_time": "2024-12-24T03:39:48.234Z"
   },
   {
    "duration": 34,
    "start_time": "2024-12-24T03:39:49.088Z"
   },
   {
    "duration": 35,
    "start_time": "2024-12-24T03:39:49.123Z"
   },
   {
    "duration": 3,
    "start_time": "2024-12-24T03:39:49.160Z"
   },
   {
    "duration": 9,
    "start_time": "2024-12-24T03:39:49.164Z"
   },
   {
    "duration": 50,
    "start_time": "2024-12-24T03:39:49.175Z"
   },
   {
    "duration": 3,
    "start_time": "2024-12-24T03:39:49.226Z"
   },
   {
    "duration": 7,
    "start_time": "2024-12-24T03:39:49.231Z"
   },
   {
    "duration": 117,
    "start_time": "2024-12-24T03:39:49.239Z"
   },
   {
    "duration": 4,
    "start_time": "2024-12-24T03:39:49.358Z"
   },
   {
    "duration": 136,
    "start_time": "2024-12-24T03:39:49.363Z"
   },
   {
    "duration": 12,
    "start_time": "2024-12-24T03:39:49.501Z"
   },
   {
    "duration": 0,
    "start_time": "2024-12-24T03:39:49.515Z"
   },
   {
    "duration": 0,
    "start_time": "2024-12-24T03:39:49.516Z"
   },
   {
    "duration": 0,
    "start_time": "2024-12-24T03:39:49.517Z"
   },
   {
    "duration": 0,
    "start_time": "2024-12-24T03:39:49.519Z"
   },
   {
    "duration": 0,
    "start_time": "2024-12-24T03:39:49.521Z"
   },
   {
    "duration": 0,
    "start_time": "2024-12-24T03:39:49.521Z"
   },
   {
    "duration": 0,
    "start_time": "2024-12-24T03:39:49.522Z"
   },
   {
    "duration": 0,
    "start_time": "2024-12-24T03:39:49.524Z"
   },
   {
    "duration": 0,
    "start_time": "2024-12-24T03:39:49.525Z"
   },
   {
    "duration": 0,
    "start_time": "2024-12-24T03:39:49.526Z"
   },
   {
    "duration": 0,
    "start_time": "2024-12-24T03:39:49.527Z"
   },
   {
    "duration": 0,
    "start_time": "2024-12-24T03:39:49.528Z"
   },
   {
    "duration": 1,
    "start_time": "2024-12-24T03:39:49.529Z"
   },
   {
    "duration": 1094,
    "start_time": "2024-12-24T03:45:11.791Z"
   },
   {
    "duration": 36,
    "start_time": "2024-12-24T03:45:12.888Z"
   },
   {
    "duration": 6,
    "start_time": "2024-12-24T03:45:12.926Z"
   },
   {
    "duration": 10,
    "start_time": "2024-12-24T03:45:12.934Z"
   },
   {
    "duration": 8,
    "start_time": "2024-12-24T03:45:12.947Z"
   },
   {
    "duration": 7,
    "start_time": "2024-12-24T03:45:12.957Z"
   },
   {
    "duration": 6,
    "start_time": "2024-12-24T03:45:12.966Z"
   },
   {
    "duration": 39,
    "start_time": "2024-12-24T03:45:12.973Z"
   },
   {
    "duration": 6,
    "start_time": "2024-12-24T03:45:13.013Z"
   },
   {
    "duration": 26,
    "start_time": "2024-12-24T03:45:13.024Z"
   },
   {
    "duration": 18,
    "start_time": "2024-12-24T03:45:13.052Z"
   },
   {
    "duration": 16,
    "start_time": "2024-12-24T03:45:13.071Z"
   },
   {
    "duration": 19,
    "start_time": "2024-12-24T03:45:13.113Z"
   },
   {
    "duration": 3,
    "start_time": "2024-12-24T03:45:13.136Z"
   },
   {
    "duration": 19,
    "start_time": "2024-12-24T03:45:13.141Z"
   },
   {
    "duration": 20,
    "start_time": "2024-12-24T03:45:13.162Z"
   },
   {
    "duration": 461,
    "start_time": "2024-12-24T03:45:13.183Z"
   },
   {
    "duration": 323,
    "start_time": "2024-12-24T03:45:13.646Z"
   },
   {
    "duration": 68,
    "start_time": "2024-12-24T03:45:13.971Z"
   },
   {
    "duration": 102,
    "start_time": "2024-12-24T03:45:14.040Z"
   },
   {
    "duration": 132,
    "start_time": "2024-12-24T03:45:14.143Z"
   },
   {
    "duration": 12,
    "start_time": "2024-12-24T03:45:14.276Z"
   },
   {
    "duration": 22,
    "start_time": "2024-12-24T03:45:14.290Z"
   },
   {
    "duration": 11,
    "start_time": "2024-12-24T03:45:14.314Z"
   },
   {
    "duration": 412,
    "start_time": "2024-12-24T03:45:14.327Z"
   },
   {
    "duration": 375,
    "start_time": "2024-12-24T03:45:14.741Z"
   },
   {
    "duration": 411,
    "start_time": "2024-12-24T03:45:15.118Z"
   },
   {
    "duration": 889,
    "start_time": "2024-12-24T03:45:15.532Z"
   },
   {
    "duration": 20,
    "start_time": "2024-12-24T03:45:16.423Z"
   },
   {
    "duration": 35,
    "start_time": "2024-12-24T03:45:16.445Z"
   },
   {
    "duration": 4,
    "start_time": "2024-12-24T03:45:16.481Z"
   },
   {
    "duration": 31,
    "start_time": "2024-12-24T03:45:16.486Z"
   },
   {
    "duration": 34,
    "start_time": "2024-12-24T03:45:16.519Z"
   },
   {
    "duration": 4,
    "start_time": "2024-12-24T03:45:16.555Z"
   },
   {
    "duration": 8,
    "start_time": "2024-12-24T03:45:16.561Z"
   },
   {
    "duration": 126,
    "start_time": "2024-12-24T03:45:16.571Z"
   },
   {
    "duration": 4,
    "start_time": "2024-12-24T03:45:16.698Z"
   },
   {
    "duration": 128,
    "start_time": "2024-12-24T03:45:16.712Z"
   },
   {
    "duration": 79670,
    "start_time": "2024-12-24T03:45:16.842Z"
   },
   {
    "duration": 218,
    "start_time": "2024-12-24T03:46:36.514Z"
   },
   {
    "duration": 77522,
    "start_time": "2024-12-24T03:46:36.737Z"
   },
   {
    "duration": 644,
    "start_time": "2024-12-24T03:47:54.260Z"
   },
   {
    "duration": 8628,
    "start_time": "2024-12-24T03:47:54.906Z"
   },
   {
    "duration": 131,
    "start_time": "2024-12-24T03:48:03.536Z"
   },
   {
    "duration": 55858,
    "start_time": "2024-12-24T03:48:03.670Z"
   },
   {
    "duration": 313,
    "start_time": "2024-12-24T03:48:59.532Z"
   },
   {
    "duration": 727173,
    "start_time": "2024-12-24T03:48:59.846Z"
   },
   {
    "duration": 212,
    "start_time": "2024-12-24T04:01:07.021Z"
   },
   {
    "duration": 3,
    "start_time": "2024-12-24T04:01:07.235Z"
   },
   {
    "duration": 0,
    "start_time": "2024-12-24T04:01:07.240Z"
   },
   {
    "duration": 0,
    "start_time": "2024-12-24T04:01:07.241Z"
   },
   {
    "duration": 231417,
    "start_time": "2024-12-24T04:11:41.147Z"
   },
   {
    "duration": 128,
    "start_time": "2024-12-24T04:20:00.877Z"
   },
   {
    "duration": 3,
    "start_time": "2024-12-24T04:29:09.695Z"
   },
   {
    "duration": 7506,
    "start_time": "2024-12-24T04:34:25.620Z"
   },
   {
    "duration": 172,
    "start_time": "2024-12-24T04:34:58.692Z"
   },
   {
    "duration": 7,
    "start_time": "2024-12-28T13:07:32.136Z"
   }
  ],
  "kernelspec": {
   "display_name": "Python 3 (ipykernel)",
   "language": "python",
   "name": "python3"
  },
  "language_info": {
   "codemirror_mode": {
    "name": "ipython",
    "version": 3
   },
   "file_extension": ".py",
   "mimetype": "text/x-python",
   "name": "python",
   "nbconvert_exporter": "python",
   "pygments_lexer": "ipython3",
   "version": "3.9.19"
  },
  "toc": {
   "base_numbering": 1,
   "nav_menu": {},
   "number_sections": true,
   "sideBar": true,
   "skip_h1_title": true,
   "title_cell": "Table of Contents",
   "title_sidebar": "Contents",
   "toc_cell": false,
   "toc_position": {},
   "toc_section_display": true,
   "toc_window_display": false
  }
 },
 "nbformat": 4,
 "nbformat_minor": 2
}
