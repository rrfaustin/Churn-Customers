{
 "cells": [
  {
   "cell_type": "markdown",
   "metadata": {},
   "source": [
    "# Intro:"
   ]
  },
  {
   "cell_type": "markdown",
   "metadata": {},
   "source": [
    "**Final Project:**\n",
    "\n",
    "    Telecome Operator Interconnect would like to forecast their churn customers. If the customer is a churn customer they\n",
    "    would like to offer promotional codes and special plan options in order to retain.\n",
    "    \n",
    "    services provided:\n",
    "    -Landline communication. The telephone can be connected to several lines simultaneously.\n",
    "    -Internet. The network can be set up via a telephone line (DSL, digital subscriber line) or through a fiber optic cable.\n",
    "       \n",
    "       \n",
    "    Some other services the company provides include:\n",
    "        -Internet security: antivirus software (DeviceProtection) and a malicious website blocker (OnlineSecurity)\n",
    "        -A dedicated technical support line (TechSupport)\n",
    "        -Cloud file storage and data backup (OnlineBackup)\n",
    "        -TV streaming (StreamingTV) and a movie directory (StreamingMovies)\n",
    "    \n",
    "    The clients can choose either a monthly payment or sign a 1- or 2-year contract.\n",
    "    They can use various payment methods and receive an electronic invoice after a transaction.\n",
    "    \n",
    " **Data Description:**\n",
    " \n",
    "     4 files were obtain from different sources to provide customer data\n",
    "         -contract.csv — contract information Valid as of February 1, 2020\n",
    "         -personal.csv — the client's personal data\n",
    "         -internet.csv — information about Internet services\n",
    "         -phone.csv — information about telephone services\n",
    "        In each file, the column customerID contains a unique code assigned to each client.\n",
    "\n",
    "**Goal:** Develop a model to predict user churn"
   ]
  },
  {
   "cell_type": "markdown",
   "metadata": {},
   "source": [
    "# Data Preprocessing"
   ]
  },
  {
   "cell_type": "code",
   "execution_count": 2,
   "metadata": {},
   "outputs": [
    {
     "ename": "ModuleNotFoundError",
     "evalue": "No module named 'pandas'",
     "output_type": "error",
     "traceback": [
      "\u001b[0;31m---------------------------------------------------------------------------\u001b[0m",
      "\u001b[0;31mModuleNotFoundError\u001b[0m                       Traceback (most recent call last)",
      "Cell \u001b[0;32mIn[2], line 2\u001b[0m\n\u001b[1;32m      1\u001b[0m \u001b[38;5;66;03m#import libraries that I may need for project\u001b[39;00m\n\u001b[0;32m----> 2\u001b[0m \u001b[38;5;28;01mimport\u001b[39;00m \u001b[38;5;21;01mpandas\u001b[39;00m \u001b[38;5;28;01mas\u001b[39;00m \u001b[38;5;21;01mpd\u001b[39;00m\n\u001b[1;32m      3\u001b[0m \u001b[38;5;28;01mimport\u001b[39;00m \u001b[38;5;21;01mnumpy\u001b[39;00m \u001b[38;5;28;01mas\u001b[39;00m \u001b[38;5;21;01mnp\u001b[39;00m\n\u001b[1;32m      4\u001b[0m \u001b[38;5;28;01mfrom\u001b[39;00m \u001b[38;5;21;01mdatetime\u001b[39;00m \u001b[38;5;28;01mimport\u001b[39;00m datetime\n",
      "\u001b[0;31mModuleNotFoundError\u001b[0m: No module named 'pandas'"
     ]
    }
   ],
   "source": [
    "#import libraries that I may need for project\n",
    "import pandas as pd\n",
    "import numpy as np\n",
    "from datetime import datetime\n",
    "from statsmodels.tsa.seasonal import seasonal_decompose\n",
    "\n",
    "#visualization libraries\n",
    "import plotly.express as px\n",
    "import matplotlib.pyplot as plt\n",
    "import seaborn as sns\n",
    "from plotly.subplots import make_subplots\n",
    "\n",
    "#sklearn\n",
    "from sklearn.metrics import roc_auc_score, f1_score\n",
    "from sklearn.metrics import confusion_matrix, classification_report, precision_recall_curve, accuracy_score, ConfusionMatrixDisplay, auc, roc_curve\n",
    "from sklearn.linear_model import LogisticRegression, RidgeClassifier\n",
    "from sklearn.ensemble import RandomForestClassifier, ExtraTreesClassifier\n",
    "from sklearn.model_selection import train_test_split, RandomizedSearchCV, TimeSeriesSplit, cross_val_score, GridSearchCV\n",
    "from sklearn.utils import shuffle, resample\n",
    "from sklearn.tree import DecisionTreeClassifier\n",
    "from sklearn.dummy import DummyClassifier\n",
    "from sklearn.preprocessing import LabelEncoder, StandardScaler, MinMaxScaler\n",
    "from sklearn.pipeline import Pipeline\n",
    "from sklearn.model_selection import KFold, StratifiedKFold, RepeatedStratifiedKFold\n",
    "from sklearn.neighbors import KNeighborsClassifier\n",
    "from sklearn.utils import resample\n",
    "\n",
    "\n",
    "#gradient boosting\n",
    "import lightgbm as lgb\n",
    "import xgboost as xgb\n",
    "from xgboost import XGBClassifier\n",
    "from lightgbm import LGBMClassifier\n",
    "\n",
    "#turn off warnings\n",
    "import warnings\n",
    "warnings.filterwarnings('ignore')"
   ]
  },
  {
   "cell_type": "code",
   "execution_count": 2,
   "metadata": {},
   "outputs": [],
   "source": [
    "#load data\n",
    "df_contract = pd.read_csv(\"contract.csv\")\n",
    "df_personal = pd.read_csv(\"personal.csv\")\n",
    "df_internet = pd.read_csv(\"internet.csv\")\n",
    "df_phone = pd.read_csv(\"phone.csv\")"
   ]
  },
  {
   "cell_type": "code",
   "execution_count": null,
   "metadata": {},
   "outputs": [],
   "source": [
    "df_contract['BeginDate'].value_counts().sort_values(ascending=False)"
   ]
  },
  {
   "cell_type": "code",
   "execution_count": null,
   "metadata": {},
   "outputs": [],
   "source": [
    "df_internet.info()"
   ]
  },
  {
   "cell_type": "code",
   "execution_count": null,
   "metadata": {},
   "outputs": [],
   "source": [
    "df_internet.head()"
   ]
  },
  {
   "cell_type": "code",
   "execution_count": null,
   "metadata": {},
   "outputs": [],
   "source": [
    "df_personal['customerID'].value_counts()"
   ]
  },
  {
   "cell_type": "code",
   "execution_count": null,
   "metadata": {},
   "outputs": [],
   "source": [
    "df_personal.head()"
   ]
  },
  {
   "cell_type": "code",
   "execution_count": null,
   "metadata": {},
   "outputs": [],
   "source": [
    "df_phone.info()"
   ]
  },
  {
   "cell_type": "code",
   "execution_count": null,
   "metadata": {},
   "outputs": [],
   "source": [
    "df_phone.head()"
   ]
  },
  {
   "cell_type": "code",
   "execution_count": null,
   "metadata": {
    "scrolled": true
   },
   "outputs": [],
   "source": [
    "#merge all dataframes together\n",
    "\n",
    "#merge contract and personal\n",
    "df = df_contract.merge(df_personal, on= 'customerID')\n",
    "\n",
    "#internet merge\n",
    "df= df.merge(df_internet, how='outer', on= 'customerID')\n",
    "\n",
    "#phone merge\n",
    "df = df.merge(df_phone, how='outer', on = 'customerID')\n",
    "\n",
    "df.info()"
   ]
  },
  {
   "cell_type": "markdown",
   "metadata": {},
   "source": [
    "After merging all of the dataframes together, it left the new dataframe with missing values for the specific services that were not selected by certain members...\n",
    "For the moment, I will fill the missing values with \"not signed up\"."
   ]
  },
  {
   "cell_type": "code",
   "execution_count": null,
   "metadata": {
    "scrolled": true
   },
   "outputs": [],
   "source": [
    "#fill missing rows post-merge\n",
    "df = df.fillna('Not signed up for other services')\n",
    "\n",
    "df.info()"
   ]
  },
  {
   "cell_type": "code",
   "execution_count": null,
   "metadata": {
    "scrolled": true
   },
   "outputs": [],
   "source": [
    "#rename columns\n",
    "df = df.rename(columns = {'customerID':'customer_id', 'BeginDate':'begin_date', 'EndDate':'end_date', 'Type':'type', 'PaperlessBilling':'paperless_billing', 'PaymentMethod':'payment_method', 'MonthlyCharges':'monthly_charges', 'TotalCharges':'total_charges', 'SeniorCitizen':'senior_citizen', 'Partner':'partner', 'Dependents':'dependents', 'InternetService':'internet_service', 'OnlineSecurity':'online_security', 'OnlineBackup':'online_backup', 'DeviceProtection':'device_protection', 'TechSupport':'tech_support', 'StreamingTV':'streaming_tv', 'StreamingMovies':'streaming_movies', 'MultipleLines':'multiple_lines'})\n",
    "\n",
    "df.info()"
   ]
  },
  {
   "cell_type": "code",
   "execution_count": null,
   "metadata": {
    "scrolled": true
   },
   "outputs": [],
   "source": [
    "#change column data types\n",
    "\n",
    "#convert 'begin_date' column to datetime \n",
    "df['begin_date'] = pd.to_datetime(df['begin_date'])\n",
    "\n",
    "#convert 'total_charges' column to float64 \n",
    "display((df['total_charges'] == ' ').sum()) #found 11 rows in the column with empty values. \n",
    "df['total_charges'].replace(\" \", np.nan, inplace=True) #replace empty values with NaN to prepare to drop these rows\n",
    "df = df.dropna(subset=['total_charges']) #drop 11 rows with NaN values in 'total_charges' column to convert to float64. 11 rows is much smaller than 5% of total data so its ok to drop these.\n",
    "df['total_charges'] = df['total_charges'].astype('float64') #convert column to float64 \n",
    "\n",
    "df.info()"
   ]
  },
  {
   "cell_type": "code",
   "execution_count": 14,
   "metadata": {},
   "outputs": [],
   "source": [
    "#dropping the customer Id column because it will not needed for the model.\n",
    "df = df.drop('customer_id', axis=1)"
   ]
  },
  {
   "cell_type": "code",
   "execution_count": null,
   "metadata": {
    "scrolled": true
   },
   "outputs": [],
   "source": [
    "df.head(25)"
   ]
  },
  {
   "cell_type": "markdown",
   "metadata": {},
   "source": [
    "# EDA"
   ]
  },
  {
   "cell_type": "code",
   "execution_count": null,
   "metadata": {
    "scrolled": true
   },
   "outputs": [],
   "source": [
    "#create a new column based on 'end_date' to say if customer has left or not left the service which will serve as the target\n",
    "df['customer_churn'] = np.where(df['end_date'] == 'No', 1, 0) # 1 is no churn, 0 is churn\n",
    "\n",
    "#drop 'end_date' column\n",
    "df = df.drop(['end_date'], axis=1)\n",
    "\n",
    "df.head(20)"
   ]
  },
  {
   "cell_type": "code",
   "execution_count": null,
   "metadata": {},
   "outputs": [],
   "source": [
    "#visualize the churn of male-female customers and senior citizens\n",
    "g = sns.catplot(data=df, x=\"gender\", y=\"customer_churn\", hue='senior_citizen', kind=\"bar\")\n",
    "\n",
    "g.fig.suptitle('Gender and Age Comparison of Customers Churned')\n",
    "plt.show()"
   ]
  },
  {
   "cell_type": "markdown",
   "metadata": {},
   "source": [
    "From the plot, it’s evident that while the male-to-female ratio of customers who churned is roughly equal, senior citizens represent a larger proportion of those who churned. We'll explore this further to determine whether senior citizens form a significant portion of the overall customer base."
   ]
  },
  {
   "cell_type": "code",
   "execution_count": null,
   "metadata": {
    "scrolled": false
   },
   "outputs": [],
   "source": [
    "#visualize distribution of churned customers across internet services\n",
    "int = df.groupby('internet_service')['customer_churn'].value_counts()\n",
    "display(int)\n",
    "\n",
    "sns.catplot(data=df, x='internet_service', hue='customer_churn', kind='count')\n",
    "plt.title('Count of Customers Churned Across Internet Services')\n",
    "plt.show()"
   ]
  },
  {
   "cell_type": "markdown",
   "metadata": {},
   "source": [
    "Customers who subscribed to fiber optic internet service not only exhibited the highest percentage of churn within that category but also accounted for the largest number of churned customers across all three internet service types."
   ]
  },
  {
   "cell_type": "code",
   "execution_count": null,
   "metadata": {},
   "outputs": [],
   "source": [
    "\n",
    "#checking for a class imbalance\n",
    "classes = len(df[df['customer_churn'] == 1]) / len(df['customer_churn']) * 100\n",
    "print('Percentage of customers in the dataframe that did not churn:', classes)\n",
    "\n",
    "labels = ['No churn', 'Churn']\n",
    "fig, ax = plt.subplots()\n",
    "ax.pie(df['customer_churn'].value_counts(), labels=labels, autopct='%1.1f%%')\n",
    "plt.title('Percentage of Customers Churned')\n",
    "plt.show()"
   ]
  },
  {
   "cell_type": "markdown",
   "metadata": {},
   "source": [
    "The chart above highlights a class imbalance in the target column, customer_churn. Specifically, the number of loyal customers significantly exceeds those who churned (represented by 0). This imbalance poses a challenge, as any model trained on such data may struggle to accurately predict churn for the minority class.\n",
    "\n",
    "Solution: Upsampling. This technique involves generating additional synthetic data points for the minority class—in this case, customers who have churned—to balance the dataset and improve model performance"
   ]
  },
  {
   "cell_type": "code",
   "execution_count": null,
   "metadata": {},
   "outputs": [],
   "source": [
    "#countplot of senior citizens\n",
    "sns.set_style('whitegrid')\n",
    "sns.countplot(x='senior_citizen', data=df)\n",
    "plt.title('Count of Senior Citizens Amongst All Customers')\n",
    "plt.show()"
   ]
  },
  {
   "cell_type": "code",
   "execution_count": null,
   "metadata": {},
   "outputs": [],
   "source": [
    "labels = ['Non Senior Citizen', 'Senior Citizen']\n",
    "fig, ax = plt.subplots()\n",
    "ax.pie(df['senior_citizen'].value_counts(), labels=labels, autopct='%1.1f%%')\n",
    "plt.title('Percentage of Senior Citizens in Data')\n",
    "plt.show()"
   ]
  },
  {
   "cell_type": "markdown",
   "metadata": {},
   "source": [
    "The dataset shows that senior citizen customers number slightly over 1,100, comprising 16.2% of the total data."
   ]
  },
  {
   "cell_type": "markdown",
   "metadata": {},
   "source": [
    "Feat. Eng."
   ]
  },
  {
   "cell_type": "code",
   "execution_count": null,
   "metadata": {},
   "outputs": [],
   "source": [
    "df.info()"
   ]
  },
  {
   "cell_type": "code",
   "execution_count": 23,
   "metadata": {},
   "outputs": [],
   "source": [
    "#create three features from the 'begin_date' column in order to gain more insight on data\n",
    "\n",
    "#year\n",
    "df['begin_year'] = df['begin_date'].dt.year\n",
    "\n",
    "#month\n",
    "df['begin_month'] = df['begin_date'].dt.month\n",
    "\n",
    "#day of week\n",
    "df['begin_day_of_week'] = df['begin_date'].dt.dayofweek\n",
    "\n",
    "#drop 'begin_date' column from df\n",
    "df = df.drop({'begin_date'}, axis=1) "
   ]
  },
  {
   "cell_type": "code",
   "execution_count": null,
   "metadata": {},
   "outputs": [],
   "source": [
    "df.info()"
   ]
  },
  {
   "cell_type": "code",
   "execution_count": null,
   "metadata": {},
   "outputs": [],
   "source": [
    "# Check 'begin_year' column for relationship to 'customer_churn'\n",
    "year_df = (\n",
    "    df.groupby('begin_year')['customer_churn']\n",
    "    .value_counts()\n",
    "    .rename('count')  # Rename the column to avoid conflicts\n",
    "    .reset_index()\n",
    ")\n",
    "\n",
    "# Display the processed DataFrame and its info\n",
    "display(year_df)\n",
    "display(year_df.info())\n",
    "\n",
    "# Plot the data\n",
    "sns.relplot(data=year_df, x='begin_year', y='count', hue='customer_churn', kind='line')\n",
    "plt.title('Customer Churn over the Years')\n",
    "plt.show()"
   ]
  },
  {
   "cell_type": "markdown",
   "metadata": {},
   "source": [
    "Starting in 2013, there is a noticeable increase in the total number of customers leaving Interconnect based on their start date. This trend may be linked to a potential service change in 2018 or 2019, as most current customers are longer-term subscribers. The start dates of 2018 and 2019 recorded the highest number of churned customers, with a significant portion of total churn occurring among customers who began their contracts in 2019.\n",
    "\n",
    "The end date was not a key factor in this analysis, as the dataset included only four end dates for customers who churned, each occurring with nearly equal frequency."
   ]
  },
  {
   "cell_type": "code",
   "execution_count": null,
   "metadata": {
    "scrolled": false
   },
   "outputs": [],
   "source": [
    "#check 'begin_month' column for relationship to 'customer churn'\n",
    "month_df = (\n",
    "    df.groupby('begin_month')['customer_churn']\n",
    "    .value_counts()\n",
    "    .rename('count')  # Rename the column to avoid conflicts\n",
    "    .reset_index()\n",
    ")\n",
    "\n",
    "# Display the processed DataFrame and its info\n",
    "display(month_df)\n",
    "display(month_df.info())\n",
    "\n",
    "# Plot the data\n",
    "sns.relplot(data=month_df, x='begin_month', y='count', hue='customer_churn', kind='line')\n",
    "plt.title('Customer Churn over the months')\n",
    "plt.show()\n"
   ]
  },
  {
   "cell_type": "markdown",
   "metadata": {},
   "source": [
    "A significant number of customers who churned had started their contracts in the fourth quarter of the year, particularly in September and the later months."
   ]
  },
  {
   "cell_type": "code",
   "execution_count": null,
   "metadata": {},
   "outputs": [],
   "source": [
    "#check 'begin_day_of_week' column for relationship to 'customer churn'\n",
    "day_df = (\n",
    "    df.groupby('begin_day_of_week')['customer_churn']\n",
    "    .value_counts()\n",
    "    .rename('count')  # Rename the column to avoid conflicts\n",
    "    .reset_index()\n",
    ")\n",
    "\n",
    "# Display the processed DataFrame and its info\n",
    "display(day_df)\n",
    "display(day_df.info())\n",
    "\n",
    "# Plot the data\n",
    "sns.relplot(data=day_df, x='begin_day_of_week', y='count', hue='customer_churn', kind='line')\n",
    "plt.title('Customer Churn by Days of Week')\n",
    "plt.show()\n"
   ]
  },
  {
   "cell_type": "markdown",
   "metadata": {},
   "source": [
    "The majority of customers who are no longer under contract with Interconnect began their service on Thursdays and Saturdays, during the months of September to December, and in the years 2018 and 2019."
   ]
  },
  {
   "cell_type": "code",
   "execution_count": null,
   "metadata": {
    "scrolled": true
   },
   "outputs": [],
   "source": [
    "#Analyzing additional features\n",
    "fig = plt.figure(figsize = (15, 10))\n",
    "\n",
    "ax1 = fig.add_subplot(2,3,1)\n",
    "sns.countplot(data=df, x='online_security', ax=ax1)\n",
    "plt.xlabel('Customers Registered for Online Security')\n",
    "\n",
    "ax2 = fig.add_subplot(2,3,2)\n",
    "plt.title('Additional Features')\n",
    "sns.countplot(data=df, x='online_backup', ax=ax2)\n",
    "plt.xlabel('Customers Registered for Online Backup')\n",
    "\n",
    "ax3 = fig.add_subplot(2,3,3)\n",
    "sns.countplot(data=df, x='device_protection', ax=ax3)\n",
    "plt.xlabel('Customers Registered for Device Protection')\n",
    "\n",
    "ax4 = fig.add_subplot(2,3,4)\n",
    "sns.boxplot(data=df, x='begin_month', y='total_charges', ax=ax4)\n",
    "plt.xlabel('Total Charges by Beginning Month')\n",
    "\n",
    "ax5 = fig.add_subplot(2,3,5)\n",
    "sns.boxplot(data=df, x='begin_month', y='monthly_charges', ax=ax5)\n",
    "plt.xlabel('Monthly Charges by Beginning Month')\n",
    "\n",
    "ax6 = fig.add_subplot(2,3,6)\n",
    "sns.boxplot(data=df, x='begin_year', y='monthly_charges', ax=ax6)\n",
    "plt.xlabel('Monthly Charges by Beginning Year')\n",
    "\n",
    "plt.show()"
   ]
  },
  {
   "cell_type": "markdown",
   "metadata": {},
   "source": [
    "While total charges decreased for customers signing up later in the calendar year, median monthly charges remained relatively consistent across all 12 months, except for a noticeable dip in January sign-ups. This could be attributed to discounts offered by the company at the start of the year. Additionally, median monthly charges by contract start year showed little variation, apart from a significant price drop in 2020. This decline might be due to the decrease in customers following the high churn rates in 2018 and 2019 or a strategic decision by the company to lower prices in 2020 to attract new customers in response to the churn."
   ]
  },
  {
   "cell_type": "markdown",
   "metadata": {},
   "source": [
    "# Encoding"
   ]
  },
  {
   "cell_type": "code",
   "execution_count": null,
   "metadata": {},
   "outputs": [],
   "source": [
    "#one hot encode the 'payment_method', 'paperless_billing', and 'type' columns.\n",
    "df = pd.get_dummies(df, columns=['payment_method', 'paperless_billing', 'type'])\n",
    "\n",
    "# Convert the resulting columns to boolean type\n",
    "dummy_columns = [col for col in df.columns if 'payment_method_' in col or 'paperless_billing_' in col or 'type_' in col]\n",
    "df[dummy_columns] = df[dummy_columns].astype(bool)\n",
    "\n",
    "# Check the updated info\n",
    "df.info()"
   ]
  },
  {
   "cell_type": "code",
   "execution_count": null,
   "metadata": {
    "scrolled": true
   },
   "outputs": [],
   "source": [
    "#label encoding\n",
    "le = LabelEncoder()\n",
    "categ = ['gender','senior_citizen', 'partner', 'dependents', 'internet_service', 'online_security', 'online_backup', 'device_protection', 'tech_support', 'streaming_tv', 'streaming_movies', 'multiple_lines']\n",
    "\n",
    "df[categ] = df[categ].apply(le.fit_transform)\n",
    "\n",
    "df.sample(30)"
   ]
  },
  {
   "cell_type": "markdown",
   "metadata": {},
   "source": [
    "# Data Split"
   ]
  },
  {
   "cell_type": "code",
   "execution_count": 31,
   "metadata": {},
   "outputs": [],
   "source": [
    "#features and targets\n",
    "\n",
    "features = df.drop('customer_churn', axis=1)\n",
    "target = df['customer_churn']"
   ]
  },
  {
   "cell_type": "code",
   "execution_count": null,
   "metadata": {},
   "outputs": [],
   "source": [
    "#splitting data into training, validation, and test sets at a ratio of 60:20:20\n",
    "\n",
    "#split training and test sets\n",
    "features_train, features_test, target_train, target_test = train_test_split(features, target, test_size=0.2, random_state=12345, stratify=target)\n",
    "\n",
    "#split validation set\n",
    "features_train, features_valid, target_train, target_valid = train_test_split(features_train, target_train, test_size=0.25, random_state=12345, stratify=target_train)\n",
    "\n",
    "print(features_train.shape)\n",
    "print(target_train.shape)\n",
    "print(features_valid.shape)\n",
    "print(features_test.shape)"
   ]
  },
  {
   "cell_type": "markdown",
   "metadata": {},
   "source": [
    "## Feature scale"
   ]
  },
  {
   "cell_type": "code",
   "execution_count": null,
   "metadata": {
    "scrolled": true
   },
   "outputs": [],
   "source": [
    "numeric = ['monthly_charges', 'total_charges', 'begin_year','begin_month', 'begin_day_of_week']\n",
    "\n",
    "def scaling(features_train, features_valid, features_test):\n",
    "    scaler = MinMaxScaler()\n",
    "    scaler.fit(features_train[numeric])\n",
    "    features_train[numeric] = scaler.transform(features_train[numeric]) \n",
    "    features_valid[numeric] = scaler.transform(features_valid[numeric])\n",
    "    features_test[numeric] = scaler.transform(features_test[numeric])\n",
    "    return features_train, features_valid, features_test\n",
    "\n",
    "scaling(features_train, features_valid, features_test)"
   ]
  },
  {
   "cell_type": "markdown",
   "metadata": {},
   "source": [
    "## upsampling the Data"
   ]
  },
  {
   "cell_type": "markdown",
   "metadata": {},
   "source": [
    "Class imbalance by upsampling the data"
   ]
  },
  {
   "cell_type": "code",
   "execution_count": 34,
   "metadata": {},
   "outputs": [],
   "source": [
    "#function to upsample the data\n",
    "def upsample(features, target, repeat):\n",
    "    features_zeros = features[target == 0]\n",
    "    features_ones = features[target == 1]\n",
    "    target_zeros = target[target == 0]\n",
    "    target_ones = target[target == 1]\n",
    "    \n",
    "    features_upsampled = pd.concat([features_ones] + [features_zeros]  * repeat)\n",
    "    target_upsampled = pd.concat([target_ones] + [target_zeros] * repeat)\n",
    "\n",
    "    features_upsampled, target_upsampled = shuffle(features_upsampled, target_upsampled, random_state=12345)\n",
    "\n",
    "    return features_upsampled, target_upsampled"
   ]
  },
  {
   "cell_type": "code",
   "execution_count": 35,
   "metadata": {},
   "outputs": [],
   "source": [
    "#apply upsample function to training set \n",
    "upsample_features_train, upsample_target_train = upsample(features_train, target_train, 3)"
   ]
  },
  {
   "cell_type": "code",
   "execution_count": null,
   "metadata": {},
   "outputs": [],
   "source": [
    "#re-examine class balances after upsampling\n",
    "class_balance_upsampled = upsample_target_train.value_counts(normalize=True)\n",
    "print('Balance of Classes:')\n",
    "print(class_balance_upsampled)\n",
    "\n",
    "fig, ax = plt.subplots()\n",
    "\n",
    "bar_colors = ['tab:red', 'tab:blue']\n",
    "\n",
    "class_balance_upsampled.plot.bar(ylabel='Percentage of Class', title='Class Imbalances of the Upsampled Target', color=bar_colors)\n",
    "\n",
    "\n",
    "plt.show()"
   ]
  },
  {
   "cell_type": "markdown",
   "metadata": {},
   "source": [
    "class imbalance is much closer to at 52% to 47%, enabeling us to move forward with our model training"
   ]
  },
  {
   "cell_type": "markdown",
   "metadata": {},
   "source": [
    "# MOdel Training"
   ]
  },
  {
   "cell_type": "code",
   "execution_count": 37,
   "metadata": {},
   "outputs": [],
   "source": [
    "#calculate auc-roc score\n",
    "def auc_roc(model, features, target):\n",
    "    probabilities_valid = model.predict_proba(features)\n",
    "    probabilities_one_valid = probabilities_valid[:, 1]\n",
    "    auc_roc = roc_auc_score(target, probabilities_one_valid)\n",
    "    print('AUC - ROC Score:', auc_roc)\n",
    "    \n",
    "    fpr, tpr, thresholds = roc_curve(target, probabilities_one_valid)\n",
    "    \n",
    "    #calculate accuracy score on training set\n",
    "    train_predictions = model.predict(features)\n",
    "    train_accuracy = accuracy_score(target, train_predictions)\n",
    "    print(\"Accuracy Score for the Training Set:\", train_accuracy)\n",
    "    \n",
    "    #plot auc-roc curve\n",
    "    plt.figure()\n",
    "    plt.plot(fpr, tpr)\n",
    "    plt.plot([0, 1], [0, 1], linestyle='--')\n",
    "    plt.xlim([0.0, 1.0])\n",
    "    plt.ylim([0.0, 1.0])\n",
    "    plt.xlabel('False Positive Rate')\n",
    "    plt.ylabel('True Positive Rate')\n",
    "    plt.title('ROC curve')\n",
    "    plt.show()\n",
    "    return"
   ]
  },
  {
   "cell_type": "code",
   "execution_count": null,
   "metadata": {},
   "outputs": [],
   "source": []
  },
  {
   "cell_type": "code",
   "execution_count": null,
   "metadata": {},
   "outputs": [],
   "source": [
    "#initialize dummy model\n",
    "dummy_clf = DummyClassifier(strategy='uniform') #strategy is uniform because data is now balanced\n",
    "dummy_clf.fit(upsample_features_train, upsample_target_train) #fit the dummy classifier to upsampled training set\n",
    "dummy_pred = dummy_clf.predict(features_valid)\n",
    "\n",
    "print('Dummy Classifier:')\n",
    "print('')\n",
    "\n",
    "#evaluate the dummy model\n",
    "auc_roc(dummy_clf, features_valid, target_valid)"
   ]
  },
  {
   "cell_type": "markdown",
   "metadata": {},
   "source": [
    "AUC-ROC score of 0.5, the dummy classifer has no ability to seperate between the two classes."
   ]
  },
  {
   "cell_type": "markdown",
   "metadata": {},
   "source": [
    "**Logistic Regression**"
   ]
  },
  {
   "cell_type": "code",
   "execution_count": null,
   "metadata": {},
   "outputs": [],
   "source": [
    "%%time\n",
    "# Initialize the logistic regression model\n",
    "lr = LogisticRegression(random_state=12345, max_iter=500)\n",
    "\n",
    "# Parameter grid (exclude 'n_jobs' when solver='liblinear')\n",
    "lr_params = {\n",
    "    'penalty': ['l1', 'l2'],\n",
    "    'solver': ['newton-cg', 'lbfgs', 'liblinear', 'sag', 'saga'],  # Removed 'newton-cholesky' (not supported for LogisticRegression)\n",
    "    'fit_intercept': [True, False]\n",
    "}\n",
    "\n",
    "# GridSearchCV\n",
    "lr_clf = GridSearchCV(lr, lr_params, scoring='roc_auc', n_jobs=-1, cv=2)\n",
    "lr_clf.fit(upsample_features_train, upsample_target_train)\n"
   ]
  },
  {
   "cell_type": "code",
   "execution_count": null,
   "metadata": {},
   "outputs": [],
   "source": [
    "\n",
    "print(\"Tuned Hyperparameters :\", lr_clf.best_params_)\n",
    "print(\"Accuracy :\",lr_clf.best_score_)\n"
   ]
  },
  {
   "cell_type": "code",
   "execution_count": null,
   "metadata": {},
   "outputs": [],
   "source": [
    "auc_roc(lr_clf, features_valid, target_valid)"
   ]
  },
  {
   "cell_type": "markdown",
   "metadata": {},
   "source": [
    "**KNN**"
   ]
  },
  {
   "cell_type": "code",
   "execution_count": null,
   "metadata": {},
   "outputs": [],
   "source": [
    "%%time\n",
    "# Initialize KNN model\n",
    "knn = KNeighborsClassifier()\n",
    "\n",
    "# Parameter grid\n",
    "knn_params = {\n",
    "    'n_neighbors': (5, 20, 100, 200, 500),\n",
    "    'p': np.arange(1, 3),\n",
    "    'weights': ['uniform', 'distance'],\n",
    "    'algorithm': ['auto', 'ball_tree', 'kd_tree', 'brute']\n",
    "}\n",
    "\n",
    "knn_clf = GridSearchCV(knn, knn_params, scoring='roc_auc', cv=3)\n",
    "knn_clf.fit(upsample_features_train, upsample_target_train)"
   ]
  },
  {
   "cell_type": "code",
   "execution_count": null,
   "metadata": {},
   "outputs": [],
   "source": [
    "print(\"Tuned Hyperparameters :\", knn_clf.best_params_)\n",
    "print(\"Accuracy :\",knn_clf.best_score_)"
   ]
  },
  {
   "cell_type": "code",
   "execution_count": null,
   "metadata": {},
   "outputs": [],
   "source": [
    "auc_roc(knn_clf, features_valid, target_valid)"
   ]
  },
  {
   "cell_type": "markdown",
   "metadata": {},
   "source": [
    "**Random Forest**"
   ]
  },
  {
   "cell_type": "code",
   "execution_count": null,
   "metadata": {},
   "outputs": [],
   "source": [
    "%%time\n",
    "#initialize rf model\n",
    "rf = RandomForestClassifier(random_state=12345)\n",
    "\n",
    "#parameter grid\n",
    "rf_params = {\n",
    "    'n_estimators': [ 50, 100, 200],\n",
    "    'criterion': ['gini', 'entropy'],\n",
    "    'max_depth': [1, 10, 20, 30],\n",
    "    'min_samples_split': [2, 5, 10],\n",
    "}\n",
    "\n",
    "rf_clf = GridSearchCV(rf, param_grid=rf_params, scoring='roc_auc', cv=3)\n",
    "rf_clf.fit(upsample_features_train, upsample_target_train)"
   ]
  },
  {
   "cell_type": "code",
   "execution_count": null,
   "metadata": {},
   "outputs": [],
   "source": [
    "print(\"Tuned Hyperparameters :\", rf_clf.best_params_)\n",
    "print(\"Accuracy :\",rf_clf.best_score_)"
   ]
  },
  {
   "cell_type": "code",
   "execution_count": null,
   "metadata": {},
   "outputs": [],
   "source": [
    "auc_roc(rf_clf, features_valid, target_valid)"
   ]
  },
  {
   "cell_type": "markdown",
   "metadata": {},
   "source": [
    "**Decision Tree**"
   ]
  },
  {
   "cell_type": "code",
   "execution_count": null,
   "metadata": {},
   "outputs": [],
   "source": [
    "%%time\n",
    "#initialize model\n",
    "dt = DecisionTreeClassifier(random_state=12345)\n",
    "\n",
    "#parameter grid\n",
    "dt_params = {'max_depth': [2, 3, 5, 10, 20],\n",
    "    'min_samples_leaf': [5, 10, 20, 50, 100],\n",
    "    'criterion': [\"gini\", \"entropy\", \"log_loss\"],\n",
    "    'splitter': ['best', 'random']       \n",
    "            }\n",
    "#grid search\n",
    "dt_clf = GridSearchCV(dt, param_grid=dt_params, cv=4, n_jobs=-1, verbose=1, scoring='roc_auc')\n",
    "dt_clf.fit(upsample_features_train, upsample_target_train)"
   ]
  },
  {
   "cell_type": "code",
   "execution_count": null,
   "metadata": {},
   "outputs": [],
   "source": [
    "print(\"Tuned Hyperparameters :\", dt_clf.best_params_)\n",
    "print(\"Accuracy :\",dt_clf.best_score_)"
   ]
  },
  {
   "cell_type": "code",
   "execution_count": null,
   "metadata": {},
   "outputs": [],
   "source": [
    "auc_roc(dt_clf, features_valid, target_valid)"
   ]
  },
  {
   "cell_type": "markdown",
   "metadata": {},
   "source": [
    "---------------------------------------------------------------------------------------"
   ]
  },
  {
   "cell_type": "markdown",
   "metadata": {},
   "source": [
    "**Boosting Models**"
   ]
  },
  {
   "cell_type": "markdown",
   "metadata": {},
   "source": [
    "xgb"
   ]
  },
  {
   "cell_type": "code",
   "execution_count": null,
   "metadata": {},
   "outputs": [],
   "source": [
    "%%time\n",
    "#initialize the xgb model\n",
    "xgb = XGBClassifier(random_state=12345)\n",
    "\n",
    "# Initialize StratifiedKFold\n",
    "cv = StratifiedKFold(n_splits=3)\n",
    "\n",
    "xgb_params = {\n",
    "    'learning_rate': [0.01, 0.1, 0.2],\n",
    "    'n_estimators': [100, 200, 300],\n",
    "    'max_depth': [2, 5, 10],\n",
    "    'subsample': [0.5, 0.7, 1]\n",
    "}\n",
    "\n",
    "xgb_clf = GridSearchCV(xgb, xgb_params, cv=3, scoring='roc_auc')\n",
    "xgb_clf.fit(upsample_features_train, upsample_target_train)\n"
   ]
  },
  {
   "cell_type": "code",
   "execution_count": null,
   "metadata": {},
   "outputs": [],
   "source": [
    "print(\"Tuned Hyperparameters :\", xgb_clf.best_params_)\n",
    "print(\"Accuracy :\",xgb_clf.best_score_)"
   ]
  },
  {
   "cell_type": "code",
   "execution_count": null,
   "metadata": {},
   "outputs": [],
   "source": [
    "auc_roc(xgb_clf, features_valid, target_valid)"
   ]
  },
  {
   "cell_type": "code",
   "execution_count": null,
   "metadata": {},
   "outputs": [],
   "source": [
    "#feature Importance\n",
    "feat_imp = xgb_clf.best_estimator_.feature_importances_\n",
    "plt.barh(range(len(feat_imp)), feat_imp)\n",
    "plt.yticks(range(len(feat_imp)), features_train.columns)\n",
    "plt.xlabel('Feature Importance')\n",
    "plt.ylabel('Feature')\n",
    "plt.show()"
   ]
  },
  {
   "cell_type": "markdown",
   "metadata": {},
   "source": [
    "light GBM"
   ]
  },
  {
   "cell_type": "code",
   "execution_count": null,
   "metadata": {},
   "outputs": [],
   "source": [
    "%%time\n",
    "#initialize the lgbm model\n",
    "lgbm = LGBMClassifier(random_state=12345)\n",
    "\n",
    "#parameter grid\n",
    "lgbm_params = {\n",
    "    'boosting_type': ['gbdt', 'dart', 'rf'],\n",
    "    'num_leaves': [1, 5, 10, 20, 50],\n",
    "    'learning_rate': [0.001, 0.01, 0.05, 0.1, 0.5, 0.75, 1],\n",
    "    'feature_fraction': [0.1, 0.2, 0.5, 0.75, 1],\n",
    "    'max_depth': [1, 5, 10, 20, 50],\n",
    "    'min_data_in_leaf': [10, 25, 50, 100],\n",
    "}\n",
    "\n",
    "#grid search\n",
    "lgbm_clf = GridSearchCV(lgbm, lgbm_params, scoring='roc_auc', cv=3, verbose=2)\n",
    "#lgbm_clf.fit(upsample_features_train, upsample_target_train) #took appx 1 hour to train\n",
    "\n",
    "#print(\"Tuned Hyperparameters :\", lgbm_clf.best_params_)\n",
    "#print(\"Accuracy :\",lgbm_clf.best_score_)"
   ]
  },
  {
   "cell_type": "markdown",
   "metadata": {},
   "source": [
    "Light GBM:\n",
    "\n",
    "Tuned Hyperparameters : {'boosting_type': 'gbdt', 'feature_fraction': 1, 'learning_rate': 0.5, 'max_depth': 50, 'min_data_in_leaf': 10, 'num_leaves': 50}\n",
    "\n",
    "Accuracy : 0.989400526359771"
   ]
  },
  {
   "cell_type": "code",
   "execution_count": 5,
   "metadata": {},
   "outputs": [],
   "source": [
    "#auc_roc(lgbm_lcf, features_valid, target_valid)"
   ]
  },
  {
   "cell_type": "markdown",
   "metadata": {},
   "source": [
    "Light GBM:\n",
    "\n",
    "AUC - ROC Score: 0.9189008702134379 Accuracy Score for the Training Set: 0.8834399431414357"
   ]
  },
  {
   "cell_type": "markdown",
   "metadata": {},
   "source": [
    "XGBM"
   ]
  },
  {
   "cell_type": "code",
   "execution_count": null,
   "metadata": {},
   "outputs": [],
   "source": [
    "#final parameter grid\n",
    "final_params = {\n",
    "    'learning_rate': 0.2, \n",
    "    'max_depth': 10, \n",
    "    'n_estimators': 300, \n",
    "    'subsample': 1\n",
    "}\n",
    "\n",
    "#initialize final model\n",
    "fin_model = XGBClassifier(**final_params, random_state=12345)\n",
    "\n",
    "#train final model\n",
    "fin_model.fit(upsample_features_train, upsample_target_train)"
   ]
  },
  {
   "cell_type": "code",
   "execution_count": null,
   "metadata": {},
   "outputs": [],
   "source": [
    "#predict final model\n",
    "target_pred = fin_model.predict(features_test)\n",
    "target_pred_proba = fin_model.predict_proba(features_test)[:, 1]"
   ]
  },
  {
   "cell_type": "code",
   "execution_count": null,
   "metadata": {},
   "outputs": [],
   "source": [
    "#confusion matrix\n",
    "cm = confusion_matrix(target_test, target_pred, labels=fin_model.classes_)\n",
    "\n",
    "#plot confusion matrix\n",
    "disp = ConfusionMatrixDisplay(confusion_matrix=cm, display_labels=fin_model.classes_)\n",
    "disp.plot()\n",
    "plt.show()\n",
    "\n",
    "#auc roc score for final model\n",
    "print('AUC-ROC Score for Final Model:', roc_auc_score(target_test, target_pred_proba))\n",
    "print('')"
   ]
  },
  {
   "cell_type": "code",
   "execution_count": null,
   "metadata": {},
   "outputs": [],
   "source": [
    "auc_roc(fin_model, features_test, target_test)"
   ]
  }
 ],
 "metadata": {
  "ExecuteTimeLog": [
   {
    "duration": 2800,
    "start_time": "2024-12-21T01:34:30.761Z"
   },
   {
    "duration": 63,
    "start_time": "2024-12-21T01:34:44.968Z"
   },
   {
    "duration": 7,
    "start_time": "2024-12-21T01:56:55.111Z"
   },
   {
    "duration": 11,
    "start_time": "2024-12-21T01:57:55.941Z"
   },
   {
    "duration": 10,
    "start_time": "2024-12-21T01:58:15.547Z"
   },
   {
    "duration": 8,
    "start_time": "2024-12-21T01:58:29.219Z"
   },
   {
    "duration": 7,
    "start_time": "2024-12-21T01:58:40.479Z"
   },
   {
    "duration": 9,
    "start_time": "2024-12-21T01:58:48.280Z"
   },
   {
    "duration": 6,
    "start_time": "2024-12-21T01:58:57.017Z"
   },
   {
    "duration": 27,
    "start_time": "2024-12-21T02:05:20.393Z"
   },
   {
    "duration": 24,
    "start_time": "2024-12-21T02:34:06.563Z"
   },
   {
    "duration": 16,
    "start_time": "2024-12-21T02:34:22.101Z"
   },
   {
    "duration": 29,
    "start_time": "2024-12-21T02:34:41.993Z"
   },
   {
    "duration": 5,
    "start_time": "2024-12-21T02:36:23.271Z"
   },
   {
    "duration": 19,
    "start_time": "2024-12-21T02:36:34.003Z"
   },
   {
    "duration": 1094,
    "start_time": "2024-12-21T02:37:31.432Z"
   },
   {
    "duration": 43,
    "start_time": "2024-12-21T02:37:32.528Z"
   },
   {
    "duration": 7,
    "start_time": "2024-12-21T02:37:32.572Z"
   },
   {
    "duration": 11,
    "start_time": "2024-12-21T02:37:32.582Z"
   },
   {
    "duration": 11,
    "start_time": "2024-12-21T02:37:32.594Z"
   },
   {
    "duration": 8,
    "start_time": "2024-12-21T02:37:32.606Z"
   },
   {
    "duration": 7,
    "start_time": "2024-12-21T02:37:32.616Z"
   },
   {
    "duration": 7,
    "start_time": "2024-12-21T02:37:32.625Z"
   },
   {
    "duration": 38,
    "start_time": "2024-12-21T02:37:32.634Z"
   },
   {
    "duration": 33,
    "start_time": "2024-12-21T02:37:32.675Z"
   },
   {
    "duration": 24,
    "start_time": "2024-12-21T02:37:32.710Z"
   },
   {
    "duration": 36,
    "start_time": "2024-12-21T02:37:32.737Z"
   },
   {
    "duration": 25,
    "start_time": "2024-12-21T02:37:32.775Z"
   },
   {
    "duration": 5,
    "start_time": "2024-12-21T02:37:32.803Z"
   },
   {
    "duration": 19,
    "start_time": "2024-12-21T02:37:32.810Z"
   },
   {
    "duration": 256,
    "start_time": "2024-12-21T02:37:32.831Z"
   },
   {
    "duration": 20,
    "start_time": "2024-12-21T02:38:45.382Z"
   },
   {
    "duration": 406,
    "start_time": "2024-12-21T02:52:16.419Z"
   },
   {
    "duration": 378,
    "start_time": "2024-12-21T02:55:20.896Z"
   },
   {
    "duration": 354,
    "start_time": "2024-12-21T03:28:03.665Z"
   },
   {
    "duration": 60,
    "start_time": "2024-12-21T03:28:09.109Z"
   },
   {
    "duration": 95,
    "start_time": "2024-12-21T03:28:44.821Z"
   },
   {
    "duration": 92,
    "start_time": "2024-12-21T04:05:14.430Z"
   },
   {
    "duration": 95,
    "start_time": "2024-12-21T04:05:46.842Z"
   },
   {
    "duration": 68,
    "start_time": "2024-12-21T04:06:30.075Z"
   },
   {
    "duration": 2842,
    "start_time": "2024-12-21T18:05:55.991Z"
   },
   {
    "duration": 56,
    "start_time": "2024-12-21T18:05:58.835Z"
   },
   {
    "duration": 6,
    "start_time": "2024-12-21T18:05:58.893Z"
   },
   {
    "duration": 9,
    "start_time": "2024-12-21T18:05:58.901Z"
   },
   {
    "duration": 10,
    "start_time": "2024-12-21T18:05:58.911Z"
   },
   {
    "duration": 8,
    "start_time": "2024-12-21T18:05:58.922Z"
   },
   {
    "duration": 10,
    "start_time": "2024-12-21T18:05:58.932Z"
   },
   {
    "duration": 7,
    "start_time": "2024-12-21T18:05:58.945Z"
   },
   {
    "duration": 6,
    "start_time": "2024-12-21T18:05:58.954Z"
   },
   {
    "duration": 25,
    "start_time": "2024-12-21T18:05:58.963Z"
   },
   {
    "duration": 20,
    "start_time": "2024-12-21T18:05:58.989Z"
   },
   {
    "duration": 45,
    "start_time": "2024-12-21T18:05:59.011Z"
   },
   {
    "duration": 23,
    "start_time": "2024-12-21T18:05:59.057Z"
   },
   {
    "duration": 4,
    "start_time": "2024-12-21T18:05:59.081Z"
   },
   {
    "duration": 19,
    "start_time": "2024-12-21T18:05:59.087Z"
   },
   {
    "duration": 48,
    "start_time": "2024-12-21T18:05:59.107Z"
   },
   {
    "duration": 435,
    "start_time": "2024-12-21T18:05:59.158Z"
   },
   {
    "duration": 331,
    "start_time": "2024-12-21T18:05:59.595Z"
   },
   {
    "duration": 68,
    "start_time": "2024-12-21T18:05:59.928Z"
   },
   {
    "duration": 98,
    "start_time": "2024-12-21T18:05:59.998Z"
   },
   {
    "duration": 75,
    "start_time": "2024-12-21T18:06:00.098Z"
   },
   {
    "duration": 4,
    "start_time": "2024-12-21T18:06:00.175Z"
   },
   {
    "duration": 12,
    "start_time": "2024-12-21T18:06:17.604Z"
   },
   {
    "duration": 7,
    "start_time": "2024-12-21T18:10:32.242Z"
   },
   {
    "duration": 11,
    "start_time": "2024-12-21T18:10:46.504Z"
   },
   {
    "duration": 765,
    "start_time": "2024-12-21T18:11:00.660Z"
   },
   {
    "duration": 410,
    "start_time": "2024-12-21T18:31:50.546Z"
   },
   {
    "duration": 41,
    "start_time": "2024-12-21T18:36:41.906Z"
   },
   {
    "duration": 166,
    "start_time": "2024-12-21T18:38:27.803Z"
   },
   {
    "duration": 19,
    "start_time": "2024-12-21T18:40:27.820Z"
   },
   {
    "duration": 63,
    "start_time": "2024-12-21T18:40:52.404Z"
   },
   {
    "duration": 354,
    "start_time": "2024-12-21T18:41:51.278Z"
   },
   {
    "duration": 19,
    "start_time": "2024-12-21T18:43:00.669Z"
   },
   {
    "duration": 408,
    "start_time": "2024-12-21T18:43:50.038Z"
   },
   {
    "duration": 887,
    "start_time": "2024-12-21T18:46:13.176Z"
   },
   {
    "duration": 1068,
    "start_time": "2024-12-21T18:48:06.932Z"
   },
   {
    "duration": 35,
    "start_time": "2024-12-21T18:48:08.002Z"
   },
   {
    "duration": 7,
    "start_time": "2024-12-21T18:48:08.038Z"
   },
   {
    "duration": 9,
    "start_time": "2024-12-21T18:48:08.049Z"
   },
   {
    "duration": 9,
    "start_time": "2024-12-21T18:48:08.060Z"
   },
   {
    "duration": 7,
    "start_time": "2024-12-21T18:48:08.071Z"
   },
   {
    "duration": 7,
    "start_time": "2024-12-21T18:48:08.079Z"
   },
   {
    "duration": 8,
    "start_time": "2024-12-21T18:48:08.087Z"
   },
   {
    "duration": 6,
    "start_time": "2024-12-21T18:48:08.096Z"
   },
   {
    "duration": 26,
    "start_time": "2024-12-21T18:48:08.145Z"
   },
   {
    "duration": 18,
    "start_time": "2024-12-21T18:48:08.173Z"
   },
   {
    "duration": 15,
    "start_time": "2024-12-21T18:48:08.193Z"
   },
   {
    "duration": 46,
    "start_time": "2024-12-21T18:48:08.210Z"
   },
   {
    "duration": 4,
    "start_time": "2024-12-21T18:48:08.258Z"
   },
   {
    "duration": 19,
    "start_time": "2024-12-21T18:48:08.264Z"
   },
   {
    "duration": 20,
    "start_time": "2024-12-21T18:48:08.285Z"
   },
   {
    "duration": 462,
    "start_time": "2024-12-21T18:48:08.306Z"
   },
   {
    "duration": 319,
    "start_time": "2024-12-21T18:48:08.769Z"
   },
   {
    "duration": 71,
    "start_time": "2024-12-21T18:48:09.090Z"
   },
   {
    "duration": 100,
    "start_time": "2024-12-21T18:48:09.163Z"
   },
   {
    "duration": 67,
    "start_time": "2024-12-21T18:48:09.265Z"
   },
   {
    "duration": 12,
    "start_time": "2024-12-21T18:48:09.342Z"
   },
   {
    "duration": 6,
    "start_time": "2024-12-21T18:48:09.356Z"
   },
   {
    "duration": 11,
    "start_time": "2024-12-21T18:48:09.364Z"
   },
   {
    "duration": 421,
    "start_time": "2024-12-21T18:48:09.377Z"
   },
   {
    "duration": 421,
    "start_time": "2024-12-21T18:48:09.800Z"
   },
   {
    "duration": 440,
    "start_time": "2024-12-21T18:48:10.223Z"
   },
   {
    "duration": 877,
    "start_time": "2024-12-21T18:48:10.666Z"
   },
   {
    "duration": 8,
    "start_time": "2024-12-21T18:50:29.725Z"
   },
   {
    "duration": 11,
    "start_time": "2024-12-21T18:50:30.400Z"
   },
   {
    "duration": 1096,
    "start_time": "2024-12-21T18:54:45.096Z"
   },
   {
    "duration": 31,
    "start_time": "2024-12-21T18:54:46.194Z"
   },
   {
    "duration": 7,
    "start_time": "2024-12-21T18:54:46.226Z"
   },
   {
    "duration": 13,
    "start_time": "2024-12-21T18:54:46.235Z"
   },
   {
    "duration": 9,
    "start_time": "2024-12-21T18:54:46.251Z"
   },
   {
    "duration": 8,
    "start_time": "2024-12-21T18:54:46.261Z"
   },
   {
    "duration": 6,
    "start_time": "2024-12-21T18:54:46.271Z"
   },
   {
    "duration": 8,
    "start_time": "2024-12-21T18:54:46.278Z"
   },
   {
    "duration": 6,
    "start_time": "2024-12-21T18:54:46.287Z"
   },
   {
    "duration": 62,
    "start_time": "2024-12-21T18:54:46.295Z"
   },
   {
    "duration": 19,
    "start_time": "2024-12-21T18:54:46.358Z"
   },
   {
    "duration": 15,
    "start_time": "2024-12-21T18:54:46.379Z"
   },
   {
    "duration": 21,
    "start_time": "2024-12-21T18:54:46.396Z"
   },
   {
    "duration": 4,
    "start_time": "2024-12-21T18:54:46.445Z"
   },
   {
    "duration": 25,
    "start_time": "2024-12-21T18:54:46.450Z"
   },
   {
    "duration": 20,
    "start_time": "2024-12-21T18:54:46.476Z"
   },
   {
    "duration": 446,
    "start_time": "2024-12-21T18:54:46.498Z"
   },
   {
    "duration": 342,
    "start_time": "2024-12-21T18:54:46.946Z"
   },
   {
    "duration": 67,
    "start_time": "2024-12-21T18:54:47.291Z"
   },
   {
    "duration": 97,
    "start_time": "2024-12-21T18:54:47.360Z"
   },
   {
    "duration": 66,
    "start_time": "2024-12-21T18:54:47.459Z"
   },
   {
    "duration": 25,
    "start_time": "2024-12-21T18:54:47.527Z"
   },
   {
    "duration": 8,
    "start_time": "2024-12-21T18:54:47.553Z"
   },
   {
    "duration": 12,
    "start_time": "2024-12-21T18:54:47.562Z"
   },
   {
    "duration": 432,
    "start_time": "2024-12-21T18:54:47.576Z"
   },
   {
    "duration": 432,
    "start_time": "2024-12-21T18:54:48.010Z"
   },
   {
    "duration": 406,
    "start_time": "2024-12-21T18:54:48.444Z"
   },
   {
    "duration": 883,
    "start_time": "2024-12-21T18:54:48.852Z"
   },
   {
    "duration": 8,
    "start_time": "2024-12-21T18:54:49.737Z"
   },
   {
    "duration": 10,
    "start_time": "2024-12-21T18:54:49.747Z"
   },
   {
    "duration": 18,
    "start_time": "2024-12-21T18:54:49.759Z"
   },
   {
    "duration": 590,
    "start_time": "2024-12-21T19:01:55.621Z"
   },
   {
    "duration": 1138,
    "start_time": "2024-12-21T19:02:18.847Z"
   },
   {
    "duration": 32,
    "start_time": "2024-12-21T19:02:19.988Z"
   },
   {
    "duration": 6,
    "start_time": "2024-12-21T19:02:20.022Z"
   },
   {
    "duration": 16,
    "start_time": "2024-12-21T19:02:20.031Z"
   },
   {
    "duration": 9,
    "start_time": "2024-12-21T19:02:20.050Z"
   },
   {
    "duration": 7,
    "start_time": "2024-12-21T19:02:20.061Z"
   },
   {
    "duration": 6,
    "start_time": "2024-12-21T19:02:20.070Z"
   },
   {
    "duration": 7,
    "start_time": "2024-12-21T19:02:20.078Z"
   },
   {
    "duration": 6,
    "start_time": "2024-12-21T19:02:20.086Z"
   },
   {
    "duration": 62,
    "start_time": "2024-12-21T19:02:20.093Z"
   },
   {
    "duration": 19,
    "start_time": "2024-12-21T19:02:20.156Z"
   },
   {
    "duration": 15,
    "start_time": "2024-12-21T19:02:20.176Z"
   },
   {
    "duration": 21,
    "start_time": "2024-12-21T19:02:20.193Z"
   },
   {
    "duration": 28,
    "start_time": "2024-12-21T19:02:20.217Z"
   },
   {
    "duration": 24,
    "start_time": "2024-12-21T19:02:20.247Z"
   },
   {
    "duration": 21,
    "start_time": "2024-12-21T19:02:20.272Z"
   },
   {
    "duration": 440,
    "start_time": "2024-12-21T19:02:20.294Z"
   },
   {
    "duration": 348,
    "start_time": "2024-12-21T19:02:20.735Z"
   },
   {
    "duration": 69,
    "start_time": "2024-12-21T19:02:21.085Z"
   },
   {
    "duration": 102,
    "start_time": "2024-12-21T19:02:21.156Z"
   },
   {
    "duration": 70,
    "start_time": "2024-12-21T19:02:21.260Z"
   },
   {
    "duration": 20,
    "start_time": "2024-12-21T19:02:21.332Z"
   },
   {
    "duration": 7,
    "start_time": "2024-12-21T19:02:21.354Z"
   },
   {
    "duration": 12,
    "start_time": "2024-12-21T19:02:21.362Z"
   },
   {
    "duration": 434,
    "start_time": "2024-12-21T19:02:21.375Z"
   },
   {
    "duration": 421,
    "start_time": "2024-12-21T19:02:21.811Z"
   },
   {
    "duration": 413,
    "start_time": "2024-12-21T19:02:22.234Z"
   },
   {
    "duration": 867,
    "start_time": "2024-12-21T19:02:22.649Z"
   },
   {
    "duration": 20,
    "start_time": "2024-12-21T19:02:23.518Z"
   },
   {
    "duration": 17,
    "start_time": "2024-12-21T19:02:23.539Z"
   },
   {
    "duration": 26,
    "start_time": "2024-12-21T19:04:07.512Z"
   },
   {
    "duration": 4,
    "start_time": "2024-12-21T19:08:22.049Z"
   },
   {
    "duration": 9,
    "start_time": "2024-12-21T19:08:29.754Z"
   },
   {
    "duration": 34,
    "start_time": "2024-12-21T19:09:21.779Z"
   },
   {
    "duration": 1132,
    "start_time": "2024-12-21T19:10:19.700Z"
   },
   {
    "duration": 33,
    "start_time": "2024-12-21T19:10:20.834Z"
   },
   {
    "duration": 7,
    "start_time": "2024-12-21T19:10:20.868Z"
   },
   {
    "duration": 10,
    "start_time": "2024-12-21T19:10:20.876Z"
   },
   {
    "duration": 9,
    "start_time": "2024-12-21T19:10:20.888Z"
   },
   {
    "duration": 6,
    "start_time": "2024-12-21T19:10:20.899Z"
   },
   {
    "duration": 6,
    "start_time": "2024-12-21T19:10:20.907Z"
   },
   {
    "duration": 34,
    "start_time": "2024-12-21T19:10:20.915Z"
   },
   {
    "duration": 6,
    "start_time": "2024-12-21T19:10:20.950Z"
   },
   {
    "duration": 27,
    "start_time": "2024-12-21T19:10:20.958Z"
   },
   {
    "duration": 19,
    "start_time": "2024-12-21T19:10:20.986Z"
   },
   {
    "duration": 45,
    "start_time": "2024-12-21T19:10:21.007Z"
   },
   {
    "duration": 22,
    "start_time": "2024-12-21T19:10:21.054Z"
   },
   {
    "duration": 4,
    "start_time": "2024-12-21T19:10:21.079Z"
   },
   {
    "duration": 19,
    "start_time": "2024-12-21T19:10:21.085Z"
   },
   {
    "duration": 46,
    "start_time": "2024-12-21T19:10:21.105Z"
   },
   {
    "duration": 433,
    "start_time": "2024-12-21T19:10:21.152Z"
   },
   {
    "duration": 296,
    "start_time": "2024-12-21T19:10:21.586Z"
   },
   {
    "duration": 67,
    "start_time": "2024-12-21T19:10:21.883Z"
   },
   {
    "duration": 97,
    "start_time": "2024-12-21T19:10:21.952Z"
   },
   {
    "duration": 69,
    "start_time": "2024-12-21T19:10:22.050Z"
   },
   {
    "duration": 27,
    "start_time": "2024-12-21T19:10:22.120Z"
   },
   {
    "duration": 7,
    "start_time": "2024-12-21T19:10:22.148Z"
   },
   {
    "duration": 14,
    "start_time": "2024-12-21T19:10:22.157Z"
   },
   {
    "duration": 417,
    "start_time": "2024-12-21T19:10:22.173Z"
   },
   {
    "duration": 448,
    "start_time": "2024-12-21T19:10:22.591Z"
   },
   {
    "duration": 412,
    "start_time": "2024-12-21T19:10:23.042Z"
   },
   {
    "duration": 851,
    "start_time": "2024-12-21T19:10:23.456Z"
   },
   {
    "duration": 20,
    "start_time": "2024-12-21T19:10:24.309Z"
   },
   {
    "duration": 41,
    "start_time": "2024-12-21T19:10:24.331Z"
   },
   {
    "duration": 3,
    "start_time": "2024-12-21T19:10:24.374Z"
   },
   {
    "duration": 9,
    "start_time": "2024-12-21T19:10:24.379Z"
   },
   {
    "duration": 34,
    "start_time": "2024-12-21T19:10:24.389Z"
   },
   {
    "duration": 4,
    "start_time": "2024-12-21T19:13:12.259Z"
   },
   {
    "duration": 8,
    "start_time": "2024-12-21T19:13:25.259Z"
   },
   {
    "duration": 96,
    "start_time": "2024-12-21T19:13:34.331Z"
   },
   {
    "duration": 4,
    "start_time": "2024-12-21T19:19:12.845Z"
   },
   {
    "duration": 116,
    "start_time": "2024-12-21T19:20:12.244Z"
   },
   {
    "duration": 45607,
    "start_time": "2024-12-21T19:20:59.548Z"
   },
   {
    "duration": 1110,
    "start_time": "2024-12-21T19:24:17.636Z"
   },
   {
    "duration": 35,
    "start_time": "2024-12-21T19:24:18.748Z"
   },
   {
    "duration": 7,
    "start_time": "2024-12-21T19:24:18.784Z"
   },
   {
    "duration": 9,
    "start_time": "2024-12-21T19:24:18.793Z"
   },
   {
    "duration": 9,
    "start_time": "2024-12-21T19:24:18.806Z"
   },
   {
    "duration": 27,
    "start_time": "2024-12-21T19:24:18.816Z"
   },
   {
    "duration": 8,
    "start_time": "2024-12-21T19:24:18.844Z"
   },
   {
    "duration": 9,
    "start_time": "2024-12-21T19:24:18.853Z"
   },
   {
    "duration": 5,
    "start_time": "2024-12-21T19:24:18.863Z"
   },
   {
    "duration": 26,
    "start_time": "2024-12-21T19:24:18.869Z"
   },
   {
    "duration": 46,
    "start_time": "2024-12-21T19:24:18.897Z"
   },
   {
    "duration": 16,
    "start_time": "2024-12-21T19:24:18.945Z"
   },
   {
    "duration": 21,
    "start_time": "2024-12-21T19:24:18.962Z"
   },
   {
    "duration": 3,
    "start_time": "2024-12-21T19:24:18.986Z"
   },
   {
    "duration": 19,
    "start_time": "2024-12-21T19:24:18.991Z"
   },
   {
    "duration": 44,
    "start_time": "2024-12-21T19:24:19.011Z"
   },
   {
    "duration": 432,
    "start_time": "2024-12-21T19:24:19.056Z"
   },
   {
    "duration": 295,
    "start_time": "2024-12-21T19:24:19.490Z"
   },
   {
    "duration": 69,
    "start_time": "2024-12-21T19:24:19.787Z"
   },
   {
    "duration": 101,
    "start_time": "2024-12-21T19:24:19.859Z"
   },
   {
    "duration": 83,
    "start_time": "2024-12-21T19:24:19.961Z"
   },
   {
    "duration": 12,
    "start_time": "2024-12-21T19:24:20.046Z"
   },
   {
    "duration": 6,
    "start_time": "2024-12-21T19:24:20.060Z"
   },
   {
    "duration": 11,
    "start_time": "2024-12-21T19:24:20.067Z"
   },
   {
    "duration": 440,
    "start_time": "2024-12-21T19:24:20.079Z"
   },
   {
    "duration": 467,
    "start_time": "2024-12-21T19:24:20.521Z"
   },
   {
    "duration": 415,
    "start_time": "2024-12-21T19:24:20.990Z"
   },
   {
    "duration": 872,
    "start_time": "2024-12-21T19:24:21.407Z"
   },
   {
    "duration": 20,
    "start_time": "2024-12-21T19:24:22.282Z"
   },
   {
    "duration": 35,
    "start_time": "2024-12-21T19:24:22.303Z"
   },
   {
    "duration": 3,
    "start_time": "2024-12-21T19:24:22.340Z"
   },
   {
    "duration": 9,
    "start_time": "2024-12-21T19:24:22.345Z"
   },
   {
    "duration": 33,
    "start_time": "2024-12-21T19:24:22.356Z"
   },
   {
    "duration": 3,
    "start_time": "2024-12-21T19:24:22.391Z"
   },
   {
    "duration": 8,
    "start_time": "2024-12-21T19:24:22.395Z"
   },
   {
    "duration": 127,
    "start_time": "2024-12-21T19:24:22.405Z"
   },
   {
    "duration": 10,
    "start_time": "2024-12-21T19:24:22.533Z"
   },
   {
    "duration": 133,
    "start_time": "2024-12-21T19:24:22.545Z"
   },
   {
    "duration": 3,
    "start_time": "2024-12-21T19:24:22.680Z"
   },
   {
    "duration": 0,
    "start_time": "2024-12-21T19:24:22.685Z"
   },
   {
    "duration": 1141,
    "start_time": "2024-12-21T19:24:48.173Z"
   },
   {
    "duration": 31,
    "start_time": "2024-12-21T19:24:49.316Z"
   },
   {
    "duration": 7,
    "start_time": "2024-12-21T19:24:49.349Z"
   },
   {
    "duration": 9,
    "start_time": "2024-12-21T19:24:49.359Z"
   },
   {
    "duration": 9,
    "start_time": "2024-12-21T19:24:49.369Z"
   },
   {
    "duration": 6,
    "start_time": "2024-12-21T19:24:49.380Z"
   },
   {
    "duration": 6,
    "start_time": "2024-12-21T19:24:49.388Z"
   },
   {
    "duration": 7,
    "start_time": "2024-12-21T19:24:49.396Z"
   },
   {
    "duration": 38,
    "start_time": "2024-12-21T19:24:49.405Z"
   },
   {
    "duration": 27,
    "start_time": "2024-12-21T19:24:49.446Z"
   },
   {
    "duration": 18,
    "start_time": "2024-12-21T19:24:49.474Z"
   },
   {
    "duration": 14,
    "start_time": "2024-12-21T19:24:49.494Z"
   },
   {
    "duration": 48,
    "start_time": "2024-12-21T19:24:49.510Z"
   },
   {
    "duration": 3,
    "start_time": "2024-12-21T19:24:49.560Z"
   },
   {
    "duration": 19,
    "start_time": "2024-12-21T19:24:49.567Z"
   },
   {
    "duration": 20,
    "start_time": "2024-12-21T19:24:49.587Z"
   },
   {
    "duration": 472,
    "start_time": "2024-12-21T19:24:49.608Z"
   },
   {
    "duration": 307,
    "start_time": "2024-12-21T19:24:50.082Z"
   },
   {
    "duration": 68,
    "start_time": "2024-12-21T19:24:50.391Z"
   },
   {
    "duration": 114,
    "start_time": "2024-12-21T19:24:50.461Z"
   },
   {
    "duration": 80,
    "start_time": "2024-12-21T19:24:50.578Z"
   },
   {
    "duration": 16,
    "start_time": "2024-12-21T19:24:50.660Z"
   },
   {
    "duration": 7,
    "start_time": "2024-12-21T19:24:50.678Z"
   },
   {
    "duration": 11,
    "start_time": "2024-12-21T19:24:50.686Z"
   },
   {
    "duration": 462,
    "start_time": "2024-12-21T19:24:50.698Z"
   },
   {
    "duration": 473,
    "start_time": "2024-12-21T19:24:51.162Z"
   },
   {
    "duration": 422,
    "start_time": "2024-12-21T19:24:51.637Z"
   },
   {
    "duration": 869,
    "start_time": "2024-12-21T19:24:52.063Z"
   },
   {
    "duration": 22,
    "start_time": "2024-12-21T19:24:52.933Z"
   },
   {
    "duration": 40,
    "start_time": "2024-12-21T19:24:52.958Z"
   },
   {
    "duration": 3,
    "start_time": "2024-12-21T19:24:53.000Z"
   },
   {
    "duration": 9,
    "start_time": "2024-12-21T19:24:53.005Z"
   },
   {
    "duration": 56,
    "start_time": "2024-12-21T19:24:53.016Z"
   },
   {
    "duration": 4,
    "start_time": "2024-12-21T19:24:53.074Z"
   },
   {
    "duration": 9,
    "start_time": "2024-12-21T19:24:53.079Z"
   },
   {
    "duration": 115,
    "start_time": "2024-12-21T19:24:53.089Z"
   },
   {
    "duration": 5,
    "start_time": "2024-12-21T19:24:53.205Z"
   },
   {
    "duration": 136,
    "start_time": "2024-12-21T19:24:53.212Z"
   },
   {
    "duration": 45900,
    "start_time": "2024-12-21T19:24:53.349Z"
   }
  ],
  "kernelspec": {
   "display_name": "myenv",
   "language": "python",
   "name": "python3"
  },
  "language_info": {
   "codemirror_mode": {
    "name": "ipython",
    "version": 3
   },
   "file_extension": ".py",
   "mimetype": "text/x-python",
   "name": "python",
   "nbconvert_exporter": "python",
   "pygments_lexer": "ipython3",
   "version": "3.10.16"
  },
  "toc": {
   "base_numbering": 1,
   "nav_menu": {},
   "number_sections": true,
   "sideBar": true,
   "skip_h1_title": true,
   "title_cell": "Table of Contents",
   "title_sidebar": "Contents",
   "toc_cell": false,
   "toc_position": {},
   "toc_section_display": true,
   "toc_window_display": false
  }
 },
 "nbformat": 4,
 "nbformat_minor": 2
}
